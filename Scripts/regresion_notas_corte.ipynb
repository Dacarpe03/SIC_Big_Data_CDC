{
 "cells": [
  {
   "cell_type": "code",
   "execution_count": 1,
   "id": "0ec07be4",
   "metadata": {},
   "outputs": [],
   "source": [
    "from pyspark.ml.feature import VectorAssembler"
   ]
  },
  {
   "cell_type": "code",
   "execution_count": 2,
   "id": "ef825d99",
   "metadata": {},
   "outputs": [],
   "source": [
    "BD = \"proyecto_final\""
   ]
  },
  {
   "cell_type": "code",
   "execution_count": 3,
   "id": "edabb833",
   "metadata": {},
   "outputs": [
    {
     "name": "stderr",
     "output_type": "stream",
     "text": [
      "2023-07-26 23:25:00,742 WARN conf.HiveConf: HiveConf of name hive.stats.jdbc.timeout does not exist\n",
      "2023-07-26 23:25:00,742 WARN conf.HiveConf: HiveConf of name hive.stats.retries.wait does not exist\n",
      "2023-07-26 23:25:02,297 WARN metastore.ObjectStore: Failed to get database global_temp, returning NoSuchObjectException\n"
     ]
    },
    {
     "name": "stdout",
     "output_type": "stream",
     "text": [
      "+---------------+-------------+--------------+----------+\n",
      "|posicion_hindex|empleabilidad|nota_corte_ant|nota_corte|\n",
      "+---------------+-------------+--------------+----------+\n",
      "|             51|         72.3|           5.0|       5.0|\n",
      "|             51|         57.5|          5.43|       5.0|\n",
      "|             51|         77.9|           5.0|       5.0|\n",
      "|             51|         73.0|           5.0|       5.0|\n",
      "|             51|         84.4|         10.76|     10.03|\n",
      "|             51|         85.5|          7.75|       8.2|\n",
      "|             51|         81.0|           5.0|       5.0|\n",
      "|             51|         94.2|          8.62|      8.04|\n",
      "|             51|         89.3|           5.0|       5.0|\n",
      "|             51|         80.5|          7.77|      5.15|\n",
      "|             51|         84.2|          9.32|       9.7|\n",
      "|             51|         79.5|          8.52|      8.97|\n",
      "|             51|         74.9|          11.4|     11.31|\n",
      "|             51|         71.6|         11.15|     11.35|\n",
      "|             51|         68.9|         11.88|      11.6|\n",
      "|             51|         60.7|         11.68|     11.75|\n",
      "|             51|         69.5|         12.78|     12.56|\n",
      "|             51|         54.9|         12.07|      11.9|\n",
      "|             51|         66.0|         11.61|     11.64|\n",
      "|             51|         72.0|          9.53|      7.87|\n",
      "+---------------+-------------+--------------+----------+\n",
      "only showing top 20 rows\n",
      "\n"
     ]
    }
   ],
   "source": [
    "sentencia_select = f\"SELECT {BD}.universidades.posicion_hindex, {BD}.grados.empleabilidad, {BD}.grados.nota_corte_ant, {BD}.grados.nota_corte FROM {BD}.grados\"\n",
    "sentencia_join = f\"\"\"INNER JOIN {BD}.facultades ON {BD}.facultades.id = {BD}.grados.id_fac\n",
    "                     INNER JOIN {BD}.universidades ON {BD}.facultades.id_univ = {BD}.universidades.id\n",
    "                     INNER JOIN {BD}.campos ON {BD}.facultades.id_campo = {BD}.campos.id\n",
    "                     \"\"\"\n",
    "sentencia_sql = f\"\"\"{sentencia_select} {sentencia_join}\"\"\"\n",
    "\n",
    "grados_df = spark.sql(sentencia_sql).dropna()\n",
    "grados_df.show()"
   ]
  },
  {
   "cell_type": "code",
   "execution_count": 4,
   "id": "5bea9b9d",
   "metadata": {},
   "outputs": [
    {
     "name": "stdout",
     "output_type": "stream",
     "text": [
      "+----------------+----------+\n",
      "|        features|nota_corte|\n",
      "+----------------+----------+\n",
      "| [51.0,72.3,5.0]|       5.0|\n",
      "|[51.0,57.5,5.43]|       5.0|\n",
      "| [51.0,77.9,5.0]|       5.0|\n",
      "+----------------+----------+\n",
      "only showing top 3 rows\n",
      "\n"
     ]
    }
   ],
   "source": [
    "vector_assembler = VectorAssembler(inputCols = ['posicion_hindex', 'empleabilidad', 'nota_corte_ant'],\n",
    "                                   outputCol = 'features')\n",
    "vnotas_df = vector_assembler.transform(grados_df)\n",
    "vnotas_df = vnotas_df.select(['features', 'nota_corte'])\n",
    "vnotas_df.show(3)"
   ]
  },
  {
   "cell_type": "code",
   "execution_count": 5,
   "id": "71dbba8b",
   "metadata": {},
   "outputs": [],
   "source": [
    "splits = vnotas_df.randomSplit([0.7, 0.3])\n",
    "train_df = splits[0]\n",
    "test_df = splits[1]"
   ]
  },
  {
   "cell_type": "code",
   "execution_count": 6,
   "id": "9511adf3",
   "metadata": {},
   "outputs": [
    {
     "name": "stderr",
     "output_type": "stream",
     "text": [
      "2023-07-26 23:25:08,318 WARN netlib.BLAS: Failed to load implementation from: com.github.fommil.netlib.NativeSystemBLAS\n",
      "2023-07-26 23:25:08,318 WARN netlib.BLAS: Failed to load implementation from: com.github.fommil.netlib.NativeRefBLAS\n"
     ]
    },
    {
     "data": {
      "text/plain": [
       "0.8798861666204095"
      ]
     },
     "execution_count": 6,
     "metadata": {},
     "output_type": "execute_result"
    }
   ],
   "source": [
    "from pyspark.ml.regression import LinearRegression, LinearRegressionModel\n",
    "\n",
    "lr = LinearRegression(featuresCol='features', labelCol='nota_corte', maxIter=10, regParam=0.3, elasticNetParam=0.8)\n",
    "lr_model = lr.fit(train_df)\n",
    "lr_model.summary.r2"
   ]
  },
  {
   "cell_type": "code",
   "execution_count": 7,
   "id": "1e510af5",
   "metadata": {},
   "outputs": [
    {
     "name": "stdout",
     "output_type": "stream",
     "text": [
      "+------------------+----------+----------------+\n",
      "|        prediction|nota_corte|        features|\n",
      "+------------------+----------+----------------+\n",
      "| 5.495429816441206|       5.0| [5.0,47.8,5.07]|\n",
      "|11.272919971323471|     12.16|[5.0,48.0,12.12]|\n",
      "| 9.928936445932418|     10.44|[5.0,53.3,10.48]|\n",
      "| 5.511819859433779|      5.07| [5.0,53.6,5.09]|\n",
      "| 5.610160117389222|      5.18| [5.0,59.5,5.21]|\n",
      "+------------------+----------+----------------+\n",
      "only showing top 5 rows\n",
      "\n"
     ]
    }
   ],
   "source": [
    "lr_predictions = lr_model.transform(test_df)\n",
    "lr_predictions.select(\"prediction\",\"nota_corte\",\"features\").show(5)"
   ]
  },
  {
   "cell_type": "code",
   "execution_count": 8,
   "id": "e0facaca",
   "metadata": {},
   "outputs": [
    {
     "name": "stdout",
     "output_type": "stream",
     "text": [
      "R Squared (R2) ON TEST DATA = 0.884771\n",
      "RMSE ON TEST DATA = 0.888632\n"
     ]
    }
   ],
   "source": [
    "from pyspark.ml.evaluation import RegressionEvaluator\n",
    "lr_evaluator = RegressionEvaluator(predictionCol=\"prediction\", labelCol=\"nota_corte\", metricName=\"r2\")\n",
    "print(\"R Squared (R2) ON TEST DATA = %g\" % lr_evaluator.evaluate(lr_predictions))\n",
    "print(\"RMSE ON TEST DATA = %g\" % lr_model.evaluate(test_df).rootMeanSquaredError)"
   ]
  },
  {
   "cell_type": "code",
   "execution_count": 9,
   "id": "e8eac1dd",
   "metadata": {},
   "outputs": [
    {
     "name": "stderr",
     "output_type": "stream",
     "text": [
      "                                                                                \r"
     ]
    }
   ],
   "source": [
    "lr_model.save('./Models/regresion_notas')"
   ]
  },
  {
   "cell_type": "code",
   "execution_count": 10,
   "id": "9628687d",
   "metadata": {},
   "outputs": [],
   "source": [
    "new_model = LinearRegressionModel.load('./Models/regresion_notas')\n",
    "new_predictions = new_model.transform(test_df)"
   ]
  },
  {
   "cell_type": "code",
   "execution_count": 11,
   "id": "b24e8038",
   "metadata": {},
   "outputs": [
    {
     "name": "stdout",
     "output_type": "stream",
     "text": [
      "R Squared (R2) ON TEST DATA = 0.884771\n",
      "RMSE ON TEST DATA = 0.888632\n"
     ]
    }
   ],
   "source": [
    "lr_evaluator = RegressionEvaluator(predictionCol=\"prediction\", labelCol=\"nota_corte\", metricName=\"r2\")\n",
    "print(\"R Squared (R2) ON TEST DATA = %g\" % lr_evaluator.evaluate(lr_predictions))\n",
    "print(\"RMSE ON TEST DATA = %g\" % new_model.evaluate(test_df).rootMeanSquaredError)"
   ]
  },
  {
   "cell_type": "code",
   "execution_count": null,
   "id": "a6091d70",
   "metadata": {},
   "outputs": [],
   "source": []
  }
 ],
 "metadata": {
  "kernelspec": {
   "display_name": "Python 3 (ipykernel)",
   "language": "python",
   "name": "python3"
  },
  "language_info": {
   "codemirror_mode": {
    "name": "ipython",
    "version": 3
   },
   "file_extension": ".py",
   "mimetype": "text/x-python",
   "name": "python",
   "nbconvert_exporter": "python",
   "pygments_lexer": "ipython3",
   "version": "3.8.11"
  }
 },
 "nbformat": 4,
 "nbformat_minor": 5
}

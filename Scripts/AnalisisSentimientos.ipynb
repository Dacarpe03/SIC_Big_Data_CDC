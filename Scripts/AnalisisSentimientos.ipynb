{
 "cells": [
  {
   "cell_type": "code",
   "execution_count": 42,
   "id": "9eebad0c",
   "metadata": {},
   "outputs": [],
   "source": [
    "#SACAR LOS DATOS CON HIVE con spark\n",
    "\n",
    "import pandas as pd\n",
    "from textblob import TextBlob\n",
    "import numpy as np\n",
    "import matplotlib.pyplot as plt\n",
    "import re\n",
    "\n",
    "# Carga los datos de los tweets inventados en un DataFrame\n",
    "tweets_df = spark.read.csv(\"file:///home/student/Downloads/tweetsMejorado-2.csv\", header=True, sep=',')\n"
   ]
  },
  {
   "cell_type": "code",
   "execution_count": 43,
   "id": "0af35750",
   "metadata": {},
   "outputs": [
    {
     "data": {
      "text/plain": [
       "[Row(user='vazquezsue', mensaje='La Universidad de Murcia se enorgullece de su compromiso social, pero la falta de diversidad y representación en el cuerpo docente y estudiantil es una preocupación. #UMU #FaltaDeDiversidad', likes='413'),\n",
       " Row(user='samanthasmith', mensaje='En la Universidad de Barcelona no solo encuentro una educación deficiente, sino también un entorno alienante y solitario. Desde la falta de compañerismo hasta la falta de apoyo emocional, cada momento se convierte en un recordatorio doloroso de la desconexión. #UB #UniversidadDeSoledad', likes='929'),\n",
       " Row(user='alexanderreynolds', mensaje='La Universidad de Santiago de Compostela es una institución que destaca por su compromiso con la sociedad y la excelencia académica. Sus programas interdisciplinarios y su ambiente inclusivo hacen que estudiar aquí sea una oportunidad única de crecimiento personal y profesional. #USC #CompromisoSocial', likes='932'),\n",
       " Row(user='connielee', mensaje='En la Universitat de Lleida no solo encuentro una educación deficiente, sino también un entorno tóxico que dificulta mi desarrollo personal. Desde la competencia desmedida hasta el elitismo despreciable, cada momento se convierte en una batalla emocional. #UDL #UniversidadDeDestrucción', likes='395'),\n",
       " Row(user='zacharyjackson', mensaje='La Universidad de Jaén es una institución que se ha vuelto completamente ajena a las necesidades del mundo actual. La falta de actualización curricular, la resistencia al cambio y la falta de conexión con la realidad laboral son un obstáculo insalvable para el éxito profesional. #UJA #UniversidadesDesconectadas', likes='119')]"
      ]
     },
     "execution_count": 43,
     "metadata": {},
     "output_type": "execute_result"
    }
   ],
   "source": [
    "tweets_df.head(5)"
   ]
  },
  {
   "cell_type": "code",
   "execution_count": 44,
   "id": "4729a117",
   "metadata": {},
   "outputs": [
    {
     "name": "stdout",
     "output_type": "stream",
     "text": [
      "                 user                                            mensaje likes\n",
      "0          vazquezsue  La Universidad de Murcia se enorgullece de su ...   413\n",
      "1       samanthasmith  En la Universidad de Barcelona no solo encuent...   929\n",
      "2   alexanderreynolds  La Universidad de Santiago de Compostela es un...   932\n",
      "3           connielee  En la Universitat de Lleida no solo encuentro ...   395\n",
      "4      zacharyjackson  La Universidad de Jaén es una institución que ...   119\n",
      "5            reedtony  En la Universidad de Las Palmas de Gran Canari...   579\n",
      "6         vcunningham  Estudiar en la Universidad de Oviedo es un sue...   681\n",
      "7               jyang  En la Universitat Pompeu Fabra no solo encuent...   988\n",
      "8       warnerrichard  En la Universidad Autónoma de Madrid no solo e...   861\n",
      "9                jlee  La Universidad de Zaragoza tiene una ubicación...    15\n",
      "10           jeremy09  ¡La Universidad de Jaén me tiene completamente...   209\n",
      "11            paula26  La Universitat de Girona es una institución qu...   493\n",
      "12           brettkim  En la Universidad de Valencia no solo encuentr...   247\n",
      "13         irasmussen  La Universidad de Alicante presume de ser vang...   909\n",
      "14          lferguson  En la Universitat Rovira i Virgili, el aprendi...   192\n",
      "15             luis12  En la Universidad de Alicante no solo encuentr...   667\n",
      "16           jeanne36  Estudiar en la Universidad de La Rioja es una ...    45\n",
      "17            zpowell  La Universidad Complutense de Madrid es una in...    22\n",
      "18             ibooth  En la Universidad de Alcalá, el aprendizaje se...   614\n",
      "19              hwood  La Universidad de La Laguna es un referente en...    29\n"
     ]
    }
   ],
   "source": [
    "# Convierte el DataFrame de Spark a un DataFrame de pandas\n",
    "tweets_pd_df = tweets_df.toPandas()\n",
    "\n",
    "# Visualiza las primeras 20 filas del DataFrame de pandas\n",
    "print(tweets_pd_df.head(20))\n"
   ]
  },
  {
   "cell_type": "code",
   "execution_count": 45,
   "id": "f865f3f4",
   "metadata": {},
   "outputs": [],
   "source": [
    "def get_sentiment(text):\n",
    "    analysis = TextBlob(text)\n",
    "    return analysis.sentiment.polarity\n"
   ]
  },
  {
   "cell_type": "code",
   "execution_count": 46,
   "id": "75f18915",
   "metadata": {},
   "outputs": [
    {
     "name": "stdout",
     "output_type": "stream",
     "text": [
      "                                               mensaje  sentiment\n",
      "0    La Universidad de Murcia se enorgullece de su ...   0.033333\n",
      "1    En la Universidad de Barcelona no solo encuent...   0.000000\n",
      "2    La Universidad de Santiago de Compostela es un...   0.000000\n",
      "3    En la Universitat de Lleida no solo encuentro ...   0.000000\n",
      "4    La Universidad de Jaén es una institución que ...   0.000000\n",
      "..                                                 ...        ...\n",
      "995  ¡La Universidad de La Laguna me tiene completa...   0.000000\n",
      "996  La Universidad de Alcalá tiene una ubicación p...   0.000000\n",
      "997  Estudiar en la Universidad de Valencia es una ...   0.000000\n",
      "998  En la Universitat de les Illes Balears, el con...   0.100000\n",
      "999  En la Universidad de Valladolid, el aprendizaj...   0.000000\n",
      "\n",
      "[1000 rows x 2 columns]\n",
      "Sentimiento promedio: 0.007291666666666666\n"
     ]
    }
   ],
   "source": [
    "#agregar columna de sentimiento\n",
    "tweets_pd_df['sentiment'] = tweets_pd_df['mensaje'].apply(get_sentiment)\n",
    "\n",
    "print(tweets_pd_df[['mensaje', 'sentiment']])\n",
    "\n",
    "# Obtener el sentimiento promedio de todos los mensajes\n",
    "sentimiento_promedio = tweets_pd_df['sentiment'].mean()\n",
    "print(f\"Sentimiento promedio: {sentimiento_promedio}\")\n"
   ]
  },
  {
   "cell_type": "code",
   "execution_count": 47,
   "id": "ac03f054",
   "metadata": {
    "scrolled": true
   },
   "outputs": [
    {
     "name": "stdout",
     "output_type": "stream",
     "text": [
      "Mensajes con menor sentimiento:\n",
      "                                               mensaje  sentiment\n",
      "67   En la Universidad de Cantabria no solo encuent...      -0.25\n",
      "823  En la Universidad de Sevilla no solo encuentro...      -0.25\n",
      "961  En la Universidad Autónoma de Madrid no solo e...      -0.25\n",
      "451  En la Universitat Pompeu Fabra no solo encuent...      -0.25\n",
      "756  En la Universidad de Navarra no solo encuentro...      -0.25\n",
      "\n",
      "Mensajes con mayor sentimiento:\n",
      "                                               mensaje  sentiment\n",
      "623  La Universidad de Alcalá es un espacio de apre...        0.9\n",
      "127  La Universidad de Alicante es un espacio de ap...        0.9\n",
      "882  La Universidad de Barcelona es un espacio de a...        0.9\n",
      "941  La Universitat de Girona es un espacio de apre...        0.9\n",
      "545  La Universidad de Barcelona es un espacio de a...        0.9\n"
     ]
    }
   ],
   "source": [
    "# Ordenar el DataFrame por la columna de sentimiento en orden ascendente\n",
    "tweets_pd_df_sorted = tweets_pd_df.sort_values(by='sentiment')\n",
    "\n",
    "# Visualizar los mensajes con menor sentimiento (los más negativos)\n",
    "print(\"Mensajes con menor sentimiento:\")\n",
    "print(tweets_pd_df_sorted[['mensaje', 'sentiment']].head())\n",
    "\n",
    "# Visualizar los mensajes con mayor sentimiento (los más positivos)\n",
    "print(\"\\nMensajes con mayor sentimiento:\")\n",
    "print(tweets_pd_df_sorted[['mensaje', 'sentiment']].tail())\n"
   ]
  },
  {
   "cell_type": "code",
   "execution_count": 48,
   "id": "5ff13619",
   "metadata": {
    "scrolled": true
   },
   "outputs": [
    {
     "name": "stdout",
     "output_type": "stream",
     "text": [
      "Mensaje de la fila 18:\n",
      "Estudiar en la Universidad de Las Palmas de Gran Canaria es un auténtico calvario. Sus programas académicos desactualizados, la falta de conexión con el mundo laboral y la ausencia de oportunidades de crecimiento hacen que cada día sea una batalla cuesta arriba. #ULPGC #UniversidadSinPerspectivas\n"
     ]
    }
   ],
   "source": [
    "# Imprimir el mensaje de la fila 18\n",
    "mensaje_fila_18 = tweets_pd_df.iloc[372]['mensaje']\n",
    "print(\"Mensaje de la fila 18:\")\n",
    "print(mensaje_fila_18)\n"
   ]
  },
  {
   "cell_type": "code",
   "execution_count": 49,
   "id": "66617dea",
   "metadata": {
    "scrolled": true
   },
   "outputs": [
    {
     "name": "stdout",
     "output_type": "stream",
     "text": [
      "Mensaje de la fila 0:\n",
      "La Universidad de Murcia se enorgullece de su compromiso social, pero la falta de diversidad y representación en el cuerpo docente y estudiantil es una preocupación. #UMU #FaltaDeDiversidad\n"
     ]
    }
   ],
   "source": [
    "# Imprimir el mensaje de la fila 18\n",
    "mensaje_fila_0 = tweets_pd_df.iloc[0]['mensaje']\n",
    "print(\"Mensaje de la fila 0:\")\n",
    "print(mensaje_fila_0)"
   ]
  },
  {
   "cell_type": "code",
   "execution_count": 50,
   "id": "d4c3ee07",
   "metadata": {},
   "outputs": [
    {
     "data": {
      "text/html": [
       "<div>\n",
       "<style scoped>\n",
       "    .dataframe tbody tr th:only-of-type {\n",
       "        vertical-align: middle;\n",
       "    }\n",
       "\n",
       "    .dataframe tbody tr th {\n",
       "        vertical-align: top;\n",
       "    }\n",
       "\n",
       "    .dataframe thead th {\n",
       "        text-align: right;\n",
       "    }\n",
       "</style>\n",
       "<table border=\"1\" class=\"dataframe\">\n",
       "  <thead>\n",
       "    <tr style=\"text-align: right;\">\n",
       "      <th></th>\n",
       "      <th>user</th>\n",
       "      <th>mensaje</th>\n",
       "      <th>likes</th>\n",
       "      <th>sentiment</th>\n",
       "    </tr>\n",
       "  </thead>\n",
       "  <tbody>\n",
       "    <tr>\n",
       "      <th>0</th>\n",
       "      <td>vazquezsue</td>\n",
       "      <td>La Universidad de Murcia se enorgullece de su ...</td>\n",
       "      <td>413</td>\n",
       "      <td>0.033333</td>\n",
       "    </tr>\n",
       "    <tr>\n",
       "      <th>1</th>\n",
       "      <td>samanthasmith</td>\n",
       "      <td>En la Universidad de Barcelona no solo encuent...</td>\n",
       "      <td>929</td>\n",
       "      <td>0.000000</td>\n",
       "    </tr>\n",
       "    <tr>\n",
       "      <th>2</th>\n",
       "      <td>alexanderreynolds</td>\n",
       "      <td>La Universidad de Santiago de Compostela es un...</td>\n",
       "      <td>932</td>\n",
       "      <td>0.000000</td>\n",
       "    </tr>\n",
       "    <tr>\n",
       "      <th>3</th>\n",
       "      <td>connielee</td>\n",
       "      <td>En la Universitat de Lleida no solo encuentro ...</td>\n",
       "      <td>395</td>\n",
       "      <td>0.000000</td>\n",
       "    </tr>\n",
       "    <tr>\n",
       "      <th>4</th>\n",
       "      <td>zacharyjackson</td>\n",
       "      <td>La Universidad de Jaén es una institución que ...</td>\n",
       "      <td>119</td>\n",
       "      <td>0.000000</td>\n",
       "    </tr>\n",
       "    <tr>\n",
       "      <th>...</th>\n",
       "      <td>...</td>\n",
       "      <td>...</td>\n",
       "      <td>...</td>\n",
       "      <td>...</td>\n",
       "    </tr>\n",
       "    <tr>\n",
       "      <th>995</th>\n",
       "      <td>riggsmelanie</td>\n",
       "      <td>¡La Universidad de La Laguna me tiene completa...</td>\n",
       "      <td>583</td>\n",
       "      <td>0.000000</td>\n",
       "    </tr>\n",
       "    <tr>\n",
       "      <th>996</th>\n",
       "      <td>gkelley</td>\n",
       "      <td>La Universidad de Alcalá tiene una ubicación p...</td>\n",
       "      <td>16</td>\n",
       "      <td>0.000000</td>\n",
       "    </tr>\n",
       "    <tr>\n",
       "      <th>997</th>\n",
       "      <td>zmeyers</td>\n",
       "      <td>Estudiar en la Universidad de Valencia es una ...</td>\n",
       "      <td>502</td>\n",
       "      <td>0.000000</td>\n",
       "    </tr>\n",
       "    <tr>\n",
       "      <th>998</th>\n",
       "      <td>andreaanderson</td>\n",
       "      <td>En la Universitat de les Illes Balears, el con...</td>\n",
       "      <td>804</td>\n",
       "      <td>0.100000</td>\n",
       "    </tr>\n",
       "    <tr>\n",
       "      <th>999</th>\n",
       "      <td>camposchristopher</td>\n",
       "      <td>En la Universidad de Valladolid, el aprendizaj...</td>\n",
       "      <td>627</td>\n",
       "      <td>0.000000</td>\n",
       "    </tr>\n",
       "  </tbody>\n",
       "</table>\n",
       "<p>1000 rows × 4 columns</p>\n",
       "</div>"
      ],
      "text/plain": [
       "                  user                                            mensaje  \\\n",
       "0           vazquezsue  La Universidad de Murcia se enorgullece de su ...   \n",
       "1        samanthasmith  En la Universidad de Barcelona no solo encuent...   \n",
       "2    alexanderreynolds  La Universidad de Santiago de Compostela es un...   \n",
       "3            connielee  En la Universitat de Lleida no solo encuentro ...   \n",
       "4       zacharyjackson  La Universidad de Jaén es una institución que ...   \n",
       "..                 ...                                                ...   \n",
       "995       riggsmelanie  ¡La Universidad de La Laguna me tiene completa...   \n",
       "996            gkelley  La Universidad de Alcalá tiene una ubicación p...   \n",
       "997            zmeyers  Estudiar en la Universidad de Valencia es una ...   \n",
       "998     andreaanderson  En la Universitat de les Illes Balears, el con...   \n",
       "999  camposchristopher  En la Universidad de Valladolid, el aprendizaj...   \n",
       "\n",
       "    likes  sentiment  \n",
       "0     413   0.033333  \n",
       "1     929   0.000000  \n",
       "2     932   0.000000  \n",
       "3     395   0.000000  \n",
       "4     119   0.000000  \n",
       "..    ...        ...  \n",
       "995   583   0.000000  \n",
       "996    16   0.000000  \n",
       "997   502   0.000000  \n",
       "998   804   0.100000  \n",
       "999   627   0.000000  \n",
       "\n",
       "[1000 rows x 4 columns]"
      ]
     },
     "execution_count": 50,
     "metadata": {},
     "output_type": "execute_result"
    }
   ],
   "source": [
    "#ESTUDIO DE LAS UNIVERSIDADES EN BASE AL SENTIMIENTO DE LOS USUARIOS\n",
    "tweets_pd_df"
   ]
  },
  {
   "cell_type": "code",
   "execution_count": 51,
   "id": "e0cb3899",
   "metadata": {},
   "outputs": [],
   "source": [
    "\n",
    "positivas=tweets_pd_df[tweets_pd_df['sentiment']>0.2]\n",
    "\n",
    "MediaSentimientoPositivo=positivas['sentiment'].mean()\n",
    "VarSentimientoPositivo=positivas['sentiment'].var()\n",
    "desviacionEstandarPositivo=np.sqrt(VarSentimientoPositivo)"
   ]
  },
  {
   "cell_type": "code",
   "execution_count": 52,
   "id": "a21c5683",
   "metadata": {},
   "outputs": [
    {
     "name": "stdout",
     "output_type": "stream",
     "text": [
      "Estadísticas del sentimiento de las universidades positivas:\n",
      "Media del sentimiento: 0.9\n",
      "varianza del sentimiento: 0.0\n"
     ]
    }
   ],
   "source": [
    "print(\"Estadísticas del sentimiento de las universidades positivas:\")\n",
    "print(\"Media del sentimiento:\", MediaSentimientoPositivo)\n",
    "print(\"varianza del sentimiento:\", VarSentimientoPositivo)"
   ]
  },
  {
   "cell_type": "code",
   "execution_count": 53,
   "id": "0a052fc3",
   "metadata": {},
   "outputs": [],
   "source": [
    "negativo=tweets_pd_df[tweets_pd_df['sentiment']>-0.2]\n",
    "\n",
    "MediaSentimientoNegativo=negativo['sentiment'].mean()\n",
    "VarSentimientoNegativo=negativo['sentiment'].var()\n",
    "desviacionEstandarNegativo=np.sqrt(VarSentimientoNegativo)"
   ]
  },
  {
   "cell_type": "code",
   "execution_count": 54,
   "id": "2f47e066",
   "metadata": {},
   "outputs": [
    {
     "name": "stdout",
     "output_type": "stream",
     "text": [
      "Estadísticas del sentimiento de las universidades negativo:\n",
      "Media del sentimiento: 0.011741268226517465\n",
      "varianza del sentimiento: 0.005405889427808386\n"
     ]
    }
   ],
   "source": [
    "print(\"Estadísticas del sentimiento de las universidades negativo:\")\n",
    "print(\"Media del sentimiento:\", MediaSentimientoNegativo)\n",
    "print(\"varianza del sentimiento:\", VarSentimientoNegativo)"
   ]
  },
  {
   "cell_type": "code",
   "execution_count": 55,
   "id": "d6ec36c7",
   "metadata": {},
   "outputs": [
    {
     "data": {
      "image/png": "[encoded data removed]",
      "text/plain": [
       "<Figure size 432x288 with 1 Axes>"
      ]
     },
     "metadata": {
      "needs_background": "light"
     },
     "output_type": "display_data"
    }
   ],
   "source": [
    "x=np.linspace(-1,1,1000)\n",
    "pdf=(1/(desviacionEstandarNegativo*np.sqrt(2*np.pi)))*np.exp(-(x-MediaSentimientoNegativo)**2/(2*VarSentimientoNegativo))\n",
    "\n",
    "\n",
    "\n",
    "plt.plot(x,pdf,color='blue', label='campana Gaussiana')\n",
    "plt.xlabel('Sentimiento')\n",
    "plt.ylabel('Probabilidad')\n",
    "plt.title('Distribución de Sentimiento Negativo')\n",
    "plt.legend()\n",
    "plt.grid(True)\n",
    "plt.show()"
   ]
  },
  {
   "cell_type": "code",
   "execution_count": 56,
   "id": "cac3431e",
   "metadata": {},
   "outputs": [
    {
     "name": "stderr",
     "output_type": "stream",
     "text": [
      "/tmp/ipykernel_5206/2503550726.py:3: RuntimeWarning: divide by zero encountered in double_scalars\n",
      "  pdf2=(1/(desviacionEstandarPositivo*np.sqrt(2*np.pi)))*np.exp(-(x-MediaSentimientoPositivo)**2/(2*VarSentimientoPositivo))\n",
      "/tmp/ipykernel_5206/2503550726.py:3: RuntimeWarning: divide by zero encountered in true_divide\n",
      "  pdf2=(1/(desviacionEstandarPositivo*np.sqrt(2*np.pi)))*np.exp(-(x-MediaSentimientoPositivo)**2/(2*VarSentimientoPositivo))\n",
      "/tmp/ipykernel_5206/2503550726.py:3: RuntimeWarning: invalid value encountered in multiply\n",
      "  pdf2=(1/(desviacionEstandarPositivo*np.sqrt(2*np.pi)))*np.exp(-(x-MediaSentimientoPositivo)**2/(2*VarSentimientoPositivo))\n"
     ]
    },
    {
     "data": {
      "image/png": "[encoded data removed]",
      "text/plain": [
       "<Figure size 432x288 with 1 Axes>"
      ]
     },
     "metadata": {
      "needs_background": "light"
     },
     "output_type": "display_data"
    }
   ],
   "source": [
    "#pdf=(1/(desviacionEstandarNegativo*np.sqrt(2*np.pi)))*np.exp(-(x-MediaSentimientoNegativo)**2/(2*VarSentimientoNegativo))\n",
    "\n",
    "pdf2=(1/(desviacionEstandarPositivo*np.sqrt(2*np.pi)))*np.exp(-(x-MediaSentimientoPositivo)**2/(2*VarSentimientoPositivo))\n",
    "\n",
    "\n",
    "\n",
    "plt.plot(x,pdf2,color='blue', label='campana Gaussiana')\n",
    "plt.xlabel('Sentimiento')\n",
    "plt.ylabel('Probabilidad')\n",
    "plt.title('Distribución de Sentimiento Positivo')\n",
    "plt.legend()\n",
    "plt.grid(True)\n",
    "plt.show()"
   ]
  },
  {
   "cell_type": "code",
   "execution_count": 68,
   "id": "38d60b62",
   "metadata": {},
   "outputs": [
    {
     "data": {
      "text/html": [
       "<div>\n",
       "<style scoped>\n",
       "    .dataframe tbody tr th:only-of-type {\n",
       "        vertical-align: middle;\n",
       "    }\n",
       "\n",
       "    .dataframe tbody tr th {\n",
       "        vertical-align: top;\n",
       "    }\n",
       "\n",
       "    .dataframe thead th {\n",
       "        text-align: right;\n",
       "    }\n",
       "</style>\n",
       "<table border=\"1\" class=\"dataframe\">\n",
       "  <thead>\n",
       "    <tr style=\"text-align: right;\">\n",
       "      <th></th>\n",
       "      <th>user</th>\n",
       "      <th>mensaje</th>\n",
       "      <th>likes</th>\n",
       "      <th>sentiment</th>\n",
       "      <th>sentimiento_tipo</th>\n",
       "    </tr>\n",
       "  </thead>\n",
       "  <tbody>\n",
       "    <tr>\n",
       "      <th>0</th>\n",
       "      <td>vazquezsue</td>\n",
       "      <td>La Universidad de Murcia se enorgullece de su ...</td>\n",
       "      <td>413</td>\n",
       "      <td>0.033333</td>\n",
       "      <td>Positivo</td>\n",
       "    </tr>\n",
       "    <tr>\n",
       "      <th>1</th>\n",
       "      <td>samanthasmith</td>\n",
       "      <td>En la Universidad de Barcelona no solo encuent...</td>\n",
       "      <td>929</td>\n",
       "      <td>0.000000</td>\n",
       "      <td>Neutro</td>\n",
       "    </tr>\n",
       "    <tr>\n",
       "      <th>2</th>\n",
       "      <td>alexanderreynolds</td>\n",
       "      <td>La Universidad de Santiago de Compostela es un...</td>\n",
       "      <td>932</td>\n",
       "      <td>0.000000</td>\n",
       "      <td>Neutro</td>\n",
       "    </tr>\n",
       "    <tr>\n",
       "      <th>3</th>\n",
       "      <td>connielee</td>\n",
       "      <td>En la Universitat de Lleida no solo encuentro ...</td>\n",
       "      <td>395</td>\n",
       "      <td>0.000000</td>\n",
       "      <td>Neutro</td>\n",
       "    </tr>\n",
       "    <tr>\n",
       "      <th>4</th>\n",
       "      <td>zacharyjackson</td>\n",
       "      <td>La Universidad de Jaén es una institución que ...</td>\n",
       "      <td>119</td>\n",
       "      <td>0.000000</td>\n",
       "      <td>Neutro</td>\n",
       "    </tr>\n",
       "    <tr>\n",
       "      <th>...</th>\n",
       "      <td>...</td>\n",
       "      <td>...</td>\n",
       "      <td>...</td>\n",
       "      <td>...</td>\n",
       "      <td>...</td>\n",
       "    </tr>\n",
       "    <tr>\n",
       "      <th>995</th>\n",
       "      <td>riggsmelanie</td>\n",
       "      <td>¡La Universidad de La Laguna me tiene completa...</td>\n",
       "      <td>583</td>\n",
       "      <td>0.000000</td>\n",
       "      <td>Neutro</td>\n",
       "    </tr>\n",
       "    <tr>\n",
       "      <th>996</th>\n",
       "      <td>gkelley</td>\n",
       "      <td>La Universidad de Alcalá tiene una ubicación p...</td>\n",
       "      <td>16</td>\n",
       "      <td>0.000000</td>\n",
       "      <td>Neutro</td>\n",
       "    </tr>\n",
       "    <tr>\n",
       "      <th>997</th>\n",
       "      <td>zmeyers</td>\n",
       "      <td>Estudiar en la Universidad de Valencia es una ...</td>\n",
       "      <td>502</td>\n",
       "      <td>0.000000</td>\n",
       "      <td>Neutro</td>\n",
       "    </tr>\n",
       "    <tr>\n",
       "      <th>998</th>\n",
       "      <td>andreaanderson</td>\n",
       "      <td>En la Universitat de les Illes Balears, el con...</td>\n",
       "      <td>804</td>\n",
       "      <td>0.100000</td>\n",
       "      <td>Positivo</td>\n",
       "    </tr>\n",
       "    <tr>\n",
       "      <th>999</th>\n",
       "      <td>camposchristopher</td>\n",
       "      <td>En la Universidad de Valladolid, el aprendizaj...</td>\n",
       "      <td>627</td>\n",
       "      <td>0.000000</td>\n",
       "      <td>Neutro</td>\n",
       "    </tr>\n",
       "  </tbody>\n",
       "</table>\n",
       "<p>1000 rows × 5 columns</p>\n",
       "</div>"
      ],
      "text/plain": [
       "                  user                                            mensaje  \\\n",
       "0           vazquezsue  La Universidad de Murcia se enorgullece de su ...   \n",
       "1        samanthasmith  En la Universidad de Barcelona no solo encuent...   \n",
       "2    alexanderreynolds  La Universidad de Santiago de Compostela es un...   \n",
       "3            connielee  En la Universitat de Lleida no solo encuentro ...   \n",
       "4       zacharyjackson  La Universidad de Jaén es una institución que ...   \n",
       "..                 ...                                                ...   \n",
       "995       riggsmelanie  ¡La Universidad de La Laguna me tiene completa...   \n",
       "996            gkelley  La Universidad de Alcalá tiene una ubicación p...   \n",
       "997            zmeyers  Estudiar en la Universidad de Valencia es una ...   \n",
       "998     andreaanderson  En la Universitat de les Illes Balears, el con...   \n",
       "999  camposchristopher  En la Universidad de Valladolid, el aprendizaj...   \n",
       "\n",
       "    likes  sentiment sentimiento_tipo  \n",
       "0     413   0.033333         Positivo  \n",
       "1     929   0.000000           Neutro  \n",
       "2     932   0.000000           Neutro  \n",
       "3     395   0.000000           Neutro  \n",
       "4     119   0.000000           Neutro  \n",
       "..    ...        ...              ...  \n",
       "995   583   0.000000           Neutro  \n",
       "996    16   0.000000           Neutro  \n",
       "997   502   0.000000           Neutro  \n",
       "998   804   0.100000         Positivo  \n",
       "999   627   0.000000           Neutro  \n",
       "\n",
       "[1000 rows x 5 columns]"
      ]
     },
     "execution_count": 68,
     "metadata": {},
     "output_type": "execute_result"
    }
   ],
   "source": [
    "#Añadir el tipo de sentimiento\n",
    "tweets_pd_df['sentimiento_tipo'] = 'Neutro'  # Por defecto, consideramos que es neutro\n",
    "\n",
    "# Actualizar la columna 'sentimiento_tipo' para los tweets positivos\n",
    "tweets_pd_df.loc[tweets_pd_df['sentiment'] > 0, 'sentimiento_tipo'] = 'Positivo'\n",
    "\n",
    "# Actualizar la columna 'sentimiento_tipo' para los tweets negativos\n",
    "tweets_pd_df.loc[tweets_pd_df['sentiment'] < -0, 'sentimiento_tipo'] = 'Negativo'\n",
    "\n",
    "# Verificar el resultado\n",
    "tweets_pd_df\n"
   ]
  },
  {
   "cell_type": "code",
   "execution_count": 64,
   "id": "862269c3",
   "metadata": {},
   "outputs": [
    {
     "name": "stdout",
     "output_type": "stream",
     "text": [
      "                                               mensaje Iniciales\n",
      "127  La Universidad de Alicante es un espacio de ap...        UA\n",
      "164  La Universidad de Jaén es un espacio de aprend...       UJA\n",
      "545  La Universidad de Barcelona es un espacio de a...        UB\n",
      "623  La Universidad de Alcalá es un espacio de apre...       UAH\n",
      "882  La Universidad de Barcelona es un espacio de a...        UB\n",
      "941  La Universitat de Girona es un espacio de apre...       UDG\n"
     ]
    },
    {
     "name": "stderr",
     "output_type": "stream",
     "text": [
      "/tmp/ipykernel_5206/2508106971.py:16: SettingWithCopyWarning: \n",
      "A value is trying to be set on a copy of a slice from a DataFrame.\n",
      "Try using .loc[row_indexer,col_indexer] = value instead\n",
      "\n",
      "See the caveats in the documentation: https://pandas.pydata.org/pandas-docs/stable/user_guide/indexing.html#returning-a-view-versus-a-copy\n",
      "  mensajes_positivos['Iniciales'] = mensajes_positivos['mensaje'].apply(buscar_texto_despues_hashtag)\n"
     ]
    }
   ],
   "source": [
    "import pandas as pd\n",
    "\n",
    "# Filtrar los mensajes positivos\n",
    "mensajes_positivos = tweets_pd_df[tweets_pd_df['sentimiento_tipo'] == 'Positivo']\n",
    "\n",
    "# Definir la función para buscar el primer # y extraer el texto que le sigue\n",
    "def buscar_texto_despues_hashtag(mensaje):\n",
    "    patron = r\"#(\\w+)\"  # Patrón regex para encontrar el primer \"#\" seguido de palabras\n",
    "    resultado = re.search(patron, mensaje)\n",
    "    if resultado:\n",
    "        return resultado.group(1)  # Devolver el texto que sigue al primer \"#\"\n",
    "    else:\n",
    "        return None  # Devolver None si no se encuentra \"#\"\n",
    "\n",
    "# Aplicar la función a los mensajes positivos y crear una nueva columna 'texto_despues_hashtag'\n",
    "mensajes_positivos['Iniciales'] = mensajes_positivos['mensaje'].apply(buscar_texto_despues_hashtag)\n",
    "\n",
    "# Filtrar los mensajes positivos con texto después del hashtag encontrado\n",
    "mensajes_positivos_con_hashtag = mensajes_positivos.dropna(subset=['Iniciales'])\n",
    "\n",
    "# Ver los mensajes positivos con texto después del hashtag encontrado\n",
    "print(mensajes_positivos_con_hashtag[['mensaje', 'Iniciales']])\n"
   ]
  },
  {
   "cell_type": "code",
   "execution_count": 65,
   "id": "ee7e5c22",
   "metadata": {},
   "outputs": [
    {
     "data": {
      "text/html": [
       "<div>\n",
       "<style scoped>\n",
       "    .dataframe tbody tr th:only-of-type {\n",
       "        vertical-align: middle;\n",
       "    }\n",
       "\n",
       "    .dataframe tbody tr th {\n",
       "        vertical-align: top;\n",
       "    }\n",
       "\n",
       "    .dataframe thead th {\n",
       "        text-align: right;\n",
       "    }\n",
       "</style>\n",
       "<table border=\"1\" class=\"dataframe\">\n",
       "  <thead>\n",
       "    <tr style=\"text-align: right;\">\n",
       "      <th></th>\n",
       "      <th>user</th>\n",
       "      <th>mensaje</th>\n",
       "      <th>likes</th>\n",
       "      <th>sentiment</th>\n",
       "      <th>sentimiento_tipo</th>\n",
       "      <th>Iniciales</th>\n",
       "    </tr>\n",
       "  </thead>\n",
       "  <tbody>\n",
       "    <tr>\n",
       "      <th>127</th>\n",
       "      <td>vazquezdana</td>\n",
       "      <td>La Universidad de Alicante es un espacio de ap...</td>\n",
       "      <td>102</td>\n",
       "      <td>0.9</td>\n",
       "      <td>Positivo</td>\n",
       "      <td>UA</td>\n",
       "    </tr>\n",
       "    <tr>\n",
       "      <th>164</th>\n",
       "      <td>martinezkaren</td>\n",
       "      <td>La Universidad de Jaén es un espacio de aprend...</td>\n",
       "      <td>322</td>\n",
       "      <td>0.9</td>\n",
       "      <td>Positivo</td>\n",
       "      <td>UJA</td>\n",
       "    </tr>\n",
       "    <tr>\n",
       "      <th>545</th>\n",
       "      <td>ashleysmith</td>\n",
       "      <td>La Universidad de Barcelona es un espacio de a...</td>\n",
       "      <td>753</td>\n",
       "      <td>0.9</td>\n",
       "      <td>Positivo</td>\n",
       "      <td>UB</td>\n",
       "    </tr>\n",
       "    <tr>\n",
       "      <th>623</th>\n",
       "      <td>ntaylor</td>\n",
       "      <td>La Universidad de Alcalá es un espacio de apre...</td>\n",
       "      <td>357</td>\n",
       "      <td>0.9</td>\n",
       "      <td>Positivo</td>\n",
       "      <td>UAH</td>\n",
       "    </tr>\n",
       "    <tr>\n",
       "      <th>882</th>\n",
       "      <td>danielrhodes</td>\n",
       "      <td>La Universidad de Barcelona es un espacio de a...</td>\n",
       "      <td>815</td>\n",
       "      <td>0.9</td>\n",
       "      <td>Positivo</td>\n",
       "      <td>UB</td>\n",
       "    </tr>\n",
       "    <tr>\n",
       "      <th>941</th>\n",
       "      <td>rhonda34</td>\n",
       "      <td>La Universitat de Girona es un espacio de apre...</td>\n",
       "      <td>213</td>\n",
       "      <td>0.9</td>\n",
       "      <td>Positivo</td>\n",
       "      <td>UDG</td>\n",
       "    </tr>\n",
       "  </tbody>\n",
       "</table>\n",
       "</div>"
      ],
      "text/plain": [
       "              user                                            mensaje likes  \\\n",
       "127    vazquezdana  La Universidad de Alicante es un espacio de ap...   102   \n",
       "164  martinezkaren  La Universidad de Jaén es un espacio de aprend...   322   \n",
       "545    ashleysmith  La Universidad de Barcelona es un espacio de a...   753   \n",
       "623        ntaylor  La Universidad de Alcalá es un espacio de apre...   357   \n",
       "882   danielrhodes  La Universidad de Barcelona es un espacio de a...   815   \n",
       "941       rhonda34  La Universitat de Girona es un espacio de apre...   213   \n",
       "\n",
       "     sentiment sentimiento_tipo Iniciales  \n",
       "127        0.9         Positivo        UA  \n",
       "164        0.9         Positivo       UJA  \n",
       "545        0.9         Positivo        UB  \n",
       "623        0.9         Positivo       UAH  \n",
       "882        0.9         Positivo        UB  \n",
       "941        0.9         Positivo       UDG  "
      ]
     },
     "execution_count": 65,
     "metadata": {},
     "output_type": "execute_result"
    }
   ],
   "source": [
    "mensajes_positivos"
   ]
  },
  {
   "cell_type": "code",
   "execution_count": null,
   "id": "31233a4f",
   "metadata": {},
   "outputs": [],
   "source": [
    "\n",
    "# Filtrar los mensajes positivos\n",
    "mensajes_positivos = tweets_pd_df[tweets_pd_df['sentimiento_tipo'] == 'Neutro']\n",
    "\n",
    "# Definir la función para buscar el primer # y extraer el texto que le sigue\n",
    "def buscar_texto_despues_hashtag(mensaje):\n",
    "    patron = r\"#(\\w+)\"  # Patrón regex para encontrar el primer \"#\" seguido de palabras\n",
    "    resultado = re.search(patron, mensaje)\n",
    "    if resultado:\n",
    "        return resultado.group(1)  # Devolver el texto que sigue al primer \"#\"\n",
    "    else:\n",
    "        return None  # Devolver None si no se encuentra \"#\"\n",
    "\n",
    "# Aplicar la función a los mensajes positivos y crear una nueva columna 'texto_despues_hashtag'\n",
    "mensajes_positivos['Iniciales'] = mensajes_positivos['mensaje'].apply(buscar_texto_despues_hashtag)\n",
    "\n",
    "# Filtrar los mensajes positivos con texto después del hashtag encontrado\n",
    "mensajes_positivos_con_hashtag = mensajes_positivos.dropna(subset=['Iniciales'])\n",
    "\n",
    "# Ver los mensajes positivos con texto después del hashtag encontrado\n",
    "print(mensajes_positivos_con_hashtag[['mensaje', 'Iniciales']])"
   ]
  },
  {
   "cell_type": "code",
   "execution_count": 15,
   "id": "5685a228",
   "metadata": {},
   "outputs": [],
   "source": [
    "# Carga los datos de los tweets inventados en un DataFrame\n",
    "tweets_df = spark.read.csv(\"file:///home/student/Downloads/tweetsMejorado.csv\", header=True, sep=',')\n",
    "\n",
    "\n",
    "\n",
    "# Palabras clave para tweets positivos y negativos\n",
    "palabras_clave_positivas = [\"privilegio\", \"maravilloso\", \"increíble\", \"genial\", \"emocionado\",\"calidad\"\n",
    "                           ,\"diversidad\",\"paradisíacas\",\"crecimiento\",\"amigable\",\"ideal\",\"acogedora\"]\n",
    "\n",
    "\n",
    "\n",
    "\n",
    "palabras_clave_negativas = [\"triste\", \"decepcionado\", \"odio\", \"mal\", \"falta\",\"desfasados\",\"incompetencia\",\"carece\",\"corrupción\",\"indignado\",\"pesadilla\",\"deficiente\",\"discriminación\",\"competitivo\",\"muere\",\"desigualdad\",\"tortura\",\"desalentadora\",\"monotonía\"]"
   ]
  },
  {
   "cell_type": "code",
   "execution_count": 16,
   "id": "cc43210c",
   "metadata": {},
   "outputs": [],
   "source": []
  },
  {
   "cell_type": "code",
   "execution_count": 69,
   "id": "8d50cc69",
   "metadata": {},
   "outputs": [
    {
     "data": {
      "text/html": [
       "<div>\n",
       "<style scoped>\n",
       "    .dataframe tbody tr th:only-of-type {\n",
       "        vertical-align: middle;\n",
       "    }\n",
       "\n",
       "    .dataframe tbody tr th {\n",
       "        vertical-align: top;\n",
       "    }\n",
       "\n",
       "    .dataframe thead th {\n",
       "        text-align: right;\n",
       "    }\n",
       "</style>\n",
       "<table border=\"1\" class=\"dataframe\">\n",
       "  <thead>\n",
       "    <tr style=\"text-align: right;\">\n",
       "      <th></th>\n",
       "      <th>user</th>\n",
       "      <th>mensaje</th>\n",
       "      <th>likes</th>\n",
       "      <th>sentiment</th>\n",
       "    </tr>\n",
       "  </thead>\n",
       "  <tbody>\n",
       "    <tr>\n",
       "      <th>67</th>\n",
       "      <td>jasonjuarez</td>\n",
       "      <td>En la Universidad de Cantabria no solo encuent...</td>\n",
       "      <td>983</td>\n",
       "      <td>-0.25</td>\n",
       "    </tr>\n",
       "    <tr>\n",
       "      <th>823</th>\n",
       "      <td>julie76</td>\n",
       "      <td>En la Universidad de Sevilla no solo encuentro...</td>\n",
       "      <td>741</td>\n",
       "      <td>-0.25</td>\n",
       "    </tr>\n",
       "    <tr>\n",
       "      <th>961</th>\n",
       "      <td>richard39</td>\n",
       "      <td>En la Universidad Autónoma de Madrid no solo e...</td>\n",
       "      <td>440</td>\n",
       "      <td>-0.25</td>\n",
       "    </tr>\n",
       "    <tr>\n",
       "      <th>451</th>\n",
       "      <td>joyce29</td>\n",
       "      <td>En la Universitat Pompeu Fabra no solo encuent...</td>\n",
       "      <td>536</td>\n",
       "      <td>-0.25</td>\n",
       "    </tr>\n",
       "    <tr>\n",
       "      <th>756</th>\n",
       "      <td>christopher03</td>\n",
       "      <td>En la Universidad de Navarra no solo encuentro...</td>\n",
       "      <td>564</td>\n",
       "      <td>-0.25</td>\n",
       "    </tr>\n",
       "    <tr>\n",
       "      <th>...</th>\n",
       "      <td>...</td>\n",
       "      <td>...</td>\n",
       "      <td>...</td>\n",
       "      <td>...</td>\n",
       "    </tr>\n",
       "    <tr>\n",
       "      <th>623</th>\n",
       "      <td>ntaylor</td>\n",
       "      <td>La Universidad de Alcalá es un espacio de apre...</td>\n",
       "      <td>357</td>\n",
       "      <td>0.90</td>\n",
       "    </tr>\n",
       "    <tr>\n",
       "      <th>127</th>\n",
       "      <td>vazquezdana</td>\n",
       "      <td>La Universidad de Alicante es un espacio de ap...</td>\n",
       "      <td>102</td>\n",
       "      <td>0.90</td>\n",
       "    </tr>\n",
       "    <tr>\n",
       "      <th>882</th>\n",
       "      <td>danielrhodes</td>\n",
       "      <td>La Universidad de Barcelona es un espacio de a...</td>\n",
       "      <td>815</td>\n",
       "      <td>0.90</td>\n",
       "    </tr>\n",
       "    <tr>\n",
       "      <th>941</th>\n",
       "      <td>rhonda34</td>\n",
       "      <td>La Universitat de Girona es un espacio de apre...</td>\n",
       "      <td>213</td>\n",
       "      <td>0.90</td>\n",
       "    </tr>\n",
       "    <tr>\n",
       "      <th>545</th>\n",
       "      <td>ashleysmith</td>\n",
       "      <td>La Universidad de Barcelona es un espacio de a...</td>\n",
       "      <td>753</td>\n",
       "      <td>0.90</td>\n",
       "    </tr>\n",
       "  </tbody>\n",
       "</table>\n",
       "<p>1000 rows × 4 columns</p>\n",
       "</div>"
      ],
      "text/plain": [
       "              user                                            mensaje likes  \\\n",
       "67     jasonjuarez  En la Universidad de Cantabria no solo encuent...   983   \n",
       "823        julie76  En la Universidad de Sevilla no solo encuentro...   741   \n",
       "961      richard39  En la Universidad Autónoma de Madrid no solo e...   440   \n",
       "451        joyce29  En la Universitat Pompeu Fabra no solo encuent...   536   \n",
       "756  christopher03  En la Universidad de Navarra no solo encuentro...   564   \n",
       "..             ...                                                ...   ...   \n",
       "623        ntaylor  La Universidad de Alcalá es un espacio de apre...   357   \n",
       "127    vazquezdana  La Universidad de Alicante es un espacio de ap...   102   \n",
       "882   danielrhodes  La Universidad de Barcelona es un espacio de a...   815   \n",
       "941       rhonda34  La Universitat de Girona es un espacio de apre...   213   \n",
       "545    ashleysmith  La Universidad de Barcelona es un espacio de a...   753   \n",
       "\n",
       "     sentiment  \n",
       "67       -0.25  \n",
       "823      -0.25  \n",
       "961      -0.25  \n",
       "451      -0.25  \n",
       "756      -0.25  \n",
       "..         ...  \n",
       "623       0.90  \n",
       "127       0.90  \n",
       "882       0.90  \n",
       "941       0.90  \n",
       "545       0.90  \n",
       "\n",
       "[1000 rows x 4 columns]"
      ]
     },
     "execution_count": 69,
     "metadata": {},
     "output_type": "execute_result"
    }
   ],
   "source": [
    "tweets_pd_df_sorted"
   ]
  },
  {
   "cell_type": "code",
   "execution_count": null,
   "id": "722cbf06",
   "metadata": {},
   "outputs": [],
   "source": []
  },
  {
   "cell_type": "code",
   "execution_count": null,
   "id": "14be7d31",
   "metadata": {},
   "outputs": [],
   "source": []
  },
  {
   "cell_type": "code",
   "execution_count": null,
   "id": "4107802e",
   "metadata": {},
   "outputs": [],
   "source": []
  }
 ],
 "metadata": {
  "kernelspec": {
   "display_name": "Python 3 (ipykernel)",
   "language": "python",
   "name": "python3"
  },
  "language_info": {
   "codemirror_mode": {
    "name": "ipython",
    "version": 3
   },
   "file_extension": ".py",
   "mimetype": "text/x-python",
   "name": "python",
   "nbconvert_exporter": "python",
   "pygments_lexer": "ipython3",
   "version": "3.8.11"
  }
 },
 "nbformat": 4,
 "nbformat_minor": 5
}

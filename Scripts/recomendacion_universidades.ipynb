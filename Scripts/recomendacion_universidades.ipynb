{
 "cells": [
  {
   "cell_type": "markdown",
   "id": "4ed007f2",
   "metadata": {},
   "source": [
    "# 1. Cuestionario del alumno"
   ]
  },
  {
   "cell_type": "code",
   "execution_count": 1,
   "id": "d0b00d0f",
   "metadata": {},
   "outputs": [],
   "source": [
    "from scipy import spatial\n",
    "import numpy as np"
   ]
  },
  {
   "cell_type": "code",
   "execution_count": 2,
   "id": "e07edf1e",
   "metadata": {},
   "outputs": [],
   "source": [
    "BD = \"proyecto_final\""
   ]
  },
  {
   "cell_type": "code",
   "execution_count": 3,
   "id": "291c8a1f",
   "metadata": {},
   "outputs": [],
   "source": [
    "dic_campos_bd = {\n",
    "     1: \"arte_diseno_arquitectura\",\n",
    "     2: \"agricultura_forestal\",\n",
    "     3: \"empresariales_administracion\",\n",
    "     4: \"economicas\",\n",
    "     5: \"educacion\",\n",
    "     6: \"ingenieria_tecnologia\",\n",
    "     7: \"historia_filosofia_teologia\",\n",
    "     8: \"leyes_abogacia\",\n",
    "     9: \"ciencias_salud\",\n",
    "    10: \"ciencias_naturales\",\n",
    "    11: \"ciencias_sociales\",\n",
    "    12: \"otros\",\n",
    "}\n",
    "\n",
    "dic_campos_usuario = {\n",
    "    \"arte_diseno_arquitectura\": \"Arte, diseño y arquitectura\",\n",
    "    \"agricultura_forestal\": \"Agricultura y forestal\",\n",
    "    \"empresariales_administracion\": \"Empresariales y administración\",\n",
    "    \"economicas\": \"Economía\",\n",
    "    \"educacion\": \"Educación\",\n",
    "    \"ingenieria_tecnologia\": \"Ingeniería y tecnología\",\n",
    "    \"historia_filosofia_teologia\": \"Historia, filosofía y teología\",\n",
    "    \"leyes_abogacia\": \"Leyes y abogacía\",\n",
    "    \"ciencias_salud\": \"Ciencias de la salud\",\n",
    "    \"ciencias_naturales\": \"Ciencias naturales\",\n",
    "    \"ciencias_sociales\": \"Ciencias sociales\",\n",
    "    \"otros\": \"Otros\",\n",
    "}"
   ]
  },
  {
   "cell_type": "code",
   "execution_count": 4,
   "id": "79466feb",
   "metadata": {},
   "outputs": [
    {
     "name": "stdout",
     "output_type": "stream",
     "text": [
      "Introduce el identificador de 3 campos de tu interés de mayor a menor preferencia:\n",
      "  1. Arte, diseño y arquitectura\n",
      "  2. Agricultura y forestal\n",
      "  3. Empresariales y administración\n",
      "  4. Economía\n",
      "  5. Educación\n",
      "  6. Ingeniería y tecnología\n",
      "  7. Historia, filosofía y teología\n",
      "  8. Leyes y abogacía\n",
      "  9. Ciencias de la salud\n",
      " 10. Ciencias naturales\n",
      " 11. Ciencias sociales\n",
      " 12. Otros\n",
      "\n",
      "Introduce el identificador de tu elección (0/3): 4\n",
      "    Has elegido Economía\n",
      "Introduce el identificador de tu elección (1/3): 2\n",
      "    Has elegido Agricultura y forestal\n",
      "Introduce el identificador de tu elección (2/3): 6\n",
      "    Has elegido Ingeniería y tecnología\n"
     ]
    }
   ],
   "source": [
    "print(\"Introduce el identificador de 3 campos de tu interés de mayor a menor preferencia:\")\n",
    "for key, value in dic_campos_bd.items():\n",
    "    print(f\"{'{:3d}'.format(key)}. {dic_campos_usuario[value]}\")\n",
    "print()\n",
    "\n",
    "completed = False\n",
    "selected_ids = []\n",
    "max_length = 3\n",
    "while not completed:\n",
    "    selection = input(f\"Introduce el identificador de tu elección ({len(selected_ids)}/{max_length}): \")\n",
    "    if selection not in selected_ids:\n",
    "        print(f\"    Has elegido {dic_campos_usuario[dic_campos_bd[int(selection)]]}\")\n",
    "        selected_ids.append(selection)\n",
    "        if len(selected_ids) == max_length:\n",
    "            completed = True\n",
    "    else:\n",
    "        print(\"    Error: Ya has escogido ese campo\")"
   ]
  },
  {
   "cell_type": "code",
   "execution_count": 26,
   "id": "34bf5db7",
   "metadata": {},
   "outputs": [],
   "source": [
    "proj_usuario = [0.5, 0.25, 0.1]"
   ]
  },
  {
   "cell_type": "markdown",
   "id": "deea0047",
   "metadata": {},
   "source": [
    "Sentencia para obtener el ranking de las universidades en los campos elegidos por el usuario"
   ]
  },
  {
   "cell_type": "code",
   "execution_count": 6,
   "id": "23a6d5ed",
   "metadata": {
    "scrolled": true
   },
   "outputs": [
    {
     "name": "stderr",
     "output_type": "stream",
     "text": [
      "2023-07-25 23:53:12,232 WARN conf.HiveConf: HiveConf of name hive.stats.jdbc.timeout does not exist\n",
      "2023-07-25 23:53:12,233 WARN conf.HiveConf: HiveConf of name hive.stats.retries.wait does not exist\n",
      "2023-07-25 23:53:14,031 WARN metastore.ObjectStore: Failed to get database global_temp, returning NoSuchObjectException\n",
      "                                                                                \r"
     ]
    },
    {
     "name": "stdout",
     "output_type": "stream",
     "text": [
      "+--------------------+--------------------+-------+--------+----------+\n",
      "|         nombre_univ|        nombre_campo|id_univ|id_campo|puntuacion|\n",
      "+--------------------+--------------------+-------+--------+----------+\n",
      "|Universidad Nacio...|agricultura_forestal|     36|       2|         0|\n",
      "|Universidad Nacio...|          economicas|     36|       4|         5|\n",
      "|Universidad Nacio...|ingenieria_tecnol...|     36|       6|        23|\n",
      "|Universidad Obert...|agricultura_forestal|     37|       2|         0|\n",
      "|Universidad Obert...|          economicas|     37|       4|         4|\n",
      "|Universidad Obert...|ingenieria_tecnol...|     37|       6|        17|\n",
      "|Universidad Polit...|agricultura_forestal|     41|       2|        26|\n",
      "|Universidad Polit...|          economicas|     41|       4|         1|\n",
      "|Universidad Polit...|ingenieria_tecnol...|     41|       6|        58|\n",
      "|Universidad de Ba...|agricultura_forestal|     57|       2|        15|\n",
      "|Universidad de Ba...|          economicas|     57|       4|        23|\n",
      "|Universidad de Ba...|ingenieria_tecnol...|     57|       6|        73|\n",
      "|Universidad de Gr...|agricultura_forestal|     66|       2|         0|\n",
      "|Universidad de Gr...|          economicas|     66|       4|         8|\n",
      "|Universidad de Gr...|ingenieria_tecnol...|     66|       6|        19|\n",
      "|Universidad de Má...|agricultura_forestal|     74|       2|         2|\n",
      "|Universidad de Má...|          economicas|     74|       4|         2|\n",
      "|Universidad de Má...|ingenieria_tecnol...|     74|       6|        14|\n",
      "|Universidad de Sa...|agricultura_forestal|     77|       2|         9|\n",
      "|Universidad de Sa...|          economicas|     77|       4|        17|\n",
      "+--------------------+--------------------+-------+--------+----------+\n",
      "only showing top 20 rows\n",
      "\n"
     ]
    }
   ],
   "source": [
    "sentencia_select = f\"SELECT {BD}.universidades.nombre AS nombre_univ, {BD}.campos.nombre AS nombre_campo, {BD}.rankings.id_univ, {BD}.rankings.id_campo, {BD}.rankings.puntuacion FROM {BD}.campos\"\n",
    "sentencia_join = f\"\"\"INNER JOIN {BD}.rankings ON {BD}.campos.id = {BD}.rankings.id_campo\n",
    "                     INNER JOIN {BD}.universidades ON {BD}.universidades.id = {BD}.rankings.id_univ\"\"\"\n",
    "ids_str = ','.join(selected_ids)\n",
    "sentencia_where = f\"WHERE {BD}.campos.id IN ({','.join(selected_ids)})\"\n",
    "\n",
    "sentencia_sql = f\"\"\"{sentencia_select}\n",
    "                    {sentencia_join}\n",
    "                    {sentencia_where}\"\"\"\n",
    "\n",
    "\n",
    "rankings_df = spark.sql(sentencia_sql).fillna(0)\n",
    "rankings_df.show()"
   ]
  },
  {
   "cell_type": "code",
   "execution_count": 7,
   "id": "cfd9bdbb",
   "metadata": {},
   "outputs": [],
   "source": [
    "list_of_unis = zip(*(iter(rankings_df.collect()),) * 3)"
   ]
  },
  {
   "cell_type": "code",
   "execution_count": 8,
   "id": "e833d571",
   "metadata": {},
   "outputs": [],
   "source": [
    "unis_dict = {}\n",
    "for campo_1, campo_2, campo_3 in list_of_unis:\n",
    "    uni_dict = {campo_1['id_campo']: campo_1['puntuacion'],\n",
    "                campo_2['id_campo']: campo_2['puntuacion'],\n",
    "                campo_3['id_campo']: campo_3['puntuacion'],\n",
    "                }\n",
    "    unis_dict[campo_1['id_univ']] = uni_dict"
   ]
  },
  {
   "cell_type": "code",
   "execution_count": 9,
   "id": "bcdfc210",
   "metadata": {},
   "outputs": [],
   "source": [
    "def calculate_uni_projection(uni_dict, selected_ids):\n",
    "    \"\"\"\n",
    "        Creates a projection of the university calculating the porcentage of investigators in each field selected\n",
    "        by the user\n",
    "    \"\"\"\n",
    "    total_investigators = 0\n",
    "    for investigators in uni_dict.values():\n",
    "        total_investigators += investigators\n",
    "    \n",
    "    if total_investigators == 0:\n",
    "        return [0, 0, 0]\n",
    "    # For each field, ordered by user preference, calculate the percentage of total investigators\n",
    "    uni_proj = []\n",
    "    for campo in selected_ids:\n",
    "        percentage = uni_dict[int(campo)]/total_investigators\n",
    "        uni_proj.append(percentage)\n",
    "        \n",
    "    return uni_proj"
   ]
  },
  {
   "cell_type": "code",
   "execution_count": 23,
   "id": "4d1f536e",
   "metadata": {},
   "outputs": [
    {
     "name": "stdout",
     "output_type": "stream",
     "text": [
      "{36: [0.17857142857142858, 0.0, 0.8214285714285714], 37: [0.19047619047619047, 0.0, 0.8095238095238095], 41: [0.011764705882352941, 0.3058823529411765, 0.6823529411764706], 57: [0.2072072072072072, 0.13513513513513514, 0.6576576576576577], 66: [0.2962962962962963, 0.0, 0.7037037037037037], 74: [0.1111111111111111, 0.1111111111111111, 0.7777777777777778], 77: [0.20238095238095238, 0.10714285714285714, 0.6904761904761905], 87: [1.0, 0.0, 0.0], 8: [1.0, 0.0, 0.0], 10: [0.16666666666666666, 0.25, 0.5833333333333334], 11: [0.21323529411764705, 0.07352941176470588, 0.7132352941176471], 12: [0, 0, 0], 13: [0.0, 0.0, 1.0], 14: [0.24519230769230768, 0.0, 0.7548076923076923], 16: [0, 0, 0], 51: [0.5, 0.0, 0.5], 44: [0.0, 0.0, 1.0], 18: [0.2150170648464164, 0.040955631399317405, 0.7440273037542662], 2: [0.0, 0.0, 1.0], 3: [0, 0, 0], 22: [0.0, 0.0, 1.0], 24: [0.5, 0.0, 0.5], 21: [0, 0, 0], 23: [0, 0, 0], 26: [1.0, 0.0, 0.0], 5: [0, 0, 0], 30: [0.25, 0.0, 0.75], 32: [0.26666666666666666, 0.0, 0.7333333333333333], 29: [0, 0, 0], 33: [0.3, 0.05, 0.65], 48: [0.22580645161290322, 0.08064516129032258, 0.6935483870967742], 34: [0.5, 0.1, 0.4], 20: [0, 0, 0], 35: [0, 0, 0], 9: [0.3333333333333333, 0.0, 0.6666666666666666], 52: [0.0, 0.0, 1.0], 38: [0.5777777777777777, 0.15555555555555556, 0.26666666666666666], 39: [0.20930232558139536, 0.32558139534883723, 0.46511627906976744], 42: [0.05286343612334802, 0.16740088105726872, 0.7797356828193832], 43: [0.4020618556701031, 0.0, 0.5979381443298969], 45: [0.0, 0.0, 1.0], 46: [0.2553191489361702, 0.19148936170212766, 0.5531914893617021], 47: [0.08, 0.04, 0.88], 49: [0.11538461538461539, 0.0, 0.8846153846153846], 17: [0.3333333333333333, 0.0, 0.6666666666666666], 15: [0.0, 0.09090909090909091, 0.9090909090909091], 50: [0.0, 0.0, 1.0], 40: [0.005154639175257732, 0.010309278350515464, 0.9845360824742269], 28: [0.0, 0.0, 1.0], 53: [0.1566265060240964, 0.08433734939759036, 0.7590361445783133], 54: [0.25882352941176473, 0.07058823529411765, 0.6705882352941176], 55: [0, 0, 0], 56: [0.15384615384615385, 0.3076923076923077, 0.5384615384615384], 58: [0.17857142857142858, 0.0, 0.8214285714285714], 61: [0.0821917808219178, 0.0547945205479452, 0.863013698630137], 59: [0.1791044776119403, 0.014925373134328358, 0.8059701492537313], 60: [0.3333333333333333, 0.0, 0.6666666666666666], 62: [0.08888888888888889, 0.4666666666666667, 0.4444444444444444], 63: [0.42857142857142855, 0.0, 0.5714285714285714], 64: [0.20689655172413793, 0.1896551724137931, 0.603448275862069], 65: [0.09259259259259259, 0.1111111111111111, 0.7962962962962963], 67: [0.07407407407407407, 0.18518518518518517, 0.7407407407407407], 68: [0.1702127659574468, 0.10638297872340426, 0.723404255319149], 69: [0.26666666666666666, 0.1111111111111111, 0.6222222222222222], 84: [0.2222222222222222, 0.0, 0.7777777777777778], 70: [0.1728395061728395, 0.04938271604938271, 0.7777777777777778], 71: [0.25, 0.25, 0.5], 72: [0.024390243902439025, 0.5365853658536586, 0.43902439024390244], 7: [0.0, 0.0, 1.0], 73: [0.3055555555555556, 0.1527777777777778, 0.5416666666666666], 75: [0.52, 0.12, 0.36], 76: [0.2578616352201258, 0.05660377358490566, 0.6855345911949685], 78: [0.13541666666666666, 0.2916666666666667, 0.5729166666666666], 79: [0.1674641148325359, 0.07655502392344497, 0.7559808612440191], 85: [0.3333333333333333, 0.07142857142857142, 0.5952380952380952], 86: [0.21951219512195122, 0.07317073170731707, 0.7073170731707317], 88: [0.4074074074074074, 0.09876543209876543, 0.49382716049382713], 80: [0.13333333333333333, 0.14444444444444443, 0.7222222222222222], 81: [0.09090909090909091, 0.18181818181818182, 0.7272727272727273], 82: [0.13513513513513514, 0.09009009009009009, 0.7747747747747747], 83: [0.2983425414364641, 0.04419889502762431, 0.6574585635359116], 4: [0, 0, 0], 1: [0, 0, 0], 27: [0, 0, 0], 25: [0, 0, 0], 6: [0, 0, 0], 31: [0, 0, 0], 19: [0, 0, 0]}\n"
     ]
    }
   ],
   "source": [
    "projs_dict = {}\n",
    "for key, value in unis_dict.items():\n",
    "    projs_dict[key] = calculate_uni_projection(value, selected_ids)\n",
    "print(projs_dict)"
   ]
  },
  {
   "cell_type": "code",
   "execution_count": 44,
   "id": "e8109460",
   "metadata": {},
   "outputs": [],
   "source": [
    "def get_three_most_similar_unis(projs_dict, proj_user):\n",
    "    \"\"\"\n",
    "        Searches for the three most similar unis to the user preferences\n",
    "    \"\"\"\n",
    "    similarities_dict = {}\n",
    "    for uni_key, proj in projs_dict.items():\n",
    "        similarities_dict[uni_key] = spatial.distance.cosine(proj_user, proj)\n",
    "        \n",
    "    similarities_ordered = sorted(similarities_dict.items(), key=lambda x:x[1], reverse=True)\n",
    "    return similarities_ordered"
   ]
  },
  {
   "cell_type": "code",
   "execution_count": 45,
   "id": "86103da6",
   "metadata": {},
   "outputs": [
    {
     "name": "stdout",
     "output_type": "stream",
     "text": [
      "[(13, 0.8239098187348752), (44, 0.8239098187348752), (2, 0.8239098187348752), (22, 0.8239098187348752), (52, 0.8239098187348752), (45, 0.8239098187348752), (50, 0.8239098187348752), (28, 0.8239098187348752), (7, 0.8239098187348752), (40, 0.8147031352578279), (15, 0.7809796510129783), (47, 0.725273972711157), (61, 0.7139741211710381), (49, 0.7115121020157629), (42, 0.6777721300342667), (65, 0.6655766836731869), (41, 0.6454310633363312), (74, 0.6424654179632673), (36, 0.6408949640671411), (58, 0.6408949640671411), (67, 0.6386771522285891), (59, 0.6292088148485004), (82, 0.6272554446169081), (37, 0.6269329054186811), (81, 0.618422199550664), (70, 0.6105684849703191), (53, 0.6040442506427812), (79, 0.5961015498882904), (84, 0.588806607725125), (80, 0.5882975486563098), (68, 0.5683153836626595), (18, 0.5637222808422864), (14, 0.5605098932358866), (30, 0.5545231628882364), (11, 0.5378571620198725), (32, 0.5336236160809653), (86, 0.5296535085384835), (77, 0.5230795096355645), (72, 0.5171019158333314), (48, 0.5142713800363345), (66, 0.4960439223244012), (76, 0.492699524359382), (57, 0.49087692796360227), (54, 0.4779724063915105), (78, 0.46953546711028216), (10, 0.45209485308814357), (83, 0.44990161356794767), (9, 0.44875053832928957), (17, 0.44875053832928957), (60, 0.44875053832928957), (62, 0.4436008443188616), (33, 0.4417703153509649), (64, 0.44117208137884134), (56, 0.4276332993259959), (69, 0.42673589140137647), (85, 0.37350160934595533), (46, 0.36349402734868486), (43, 0.3625833879494479), (63, 0.3308573111925258), (73, 0.32594052134345397), (39, 0.32323045626142455), (71, 0.31705910304489004), (51, 0.2529126323623716), (24, 0.2529126323623716), (88, 0.2448824692552216), (34, 0.1441038967638163), (87, 0.11954909367437616), (8, 0.11954909367437616), (26, 0.11954909367437616), (75, 0.10825051496827132), (38, 0.047234682325063226), (12, 0), (16, 0), (3, 0), (21, 0), (23, 0), (5, 0), (29, 0), (20, 0), (35, 0), (55, 0), (4, 0), (1, 0), (27, 0), (25, 0), (6, 0), (31, 0), (19, 0)]\n"
     ]
    },
    {
     "name": "stderr",
     "output_type": "stream",
     "text": [
      "/home/student/.local/lib/python3.8/site-packages/scipy/spatial/distance.py:622: RuntimeWarning: invalid value encountered in double_scalars\n",
      "  dist = 1.0 - uv / np.sqrt(uu * vv)\n"
     ]
    }
   ],
   "source": [
    "sims = get_three_most_similar_unis(projs_dict, proj_usuario)\n",
    "print(sims)"
   ]
  },
  {
   "cell_type": "code",
   "execution_count": 43,
   "id": "39534348",
   "metadata": {},
   "outputs": [
    {
     "name": "stdout",
     "output_type": "stream",
     "text": [
      "SELECT proyecto_final.universidades.nombre AS nombre_univ, proyecto_final.campos.nombre AS nombre_campo, proyecto_final.rankings.id_univ, proyecto_final.rankings.id_campo, proyecto_final.rankings.puntuacion FROM proyecto_final.campos\n",
      "                    INNER JOIN proyecto_final.rankings ON proyecto_final.campos.id = proyecto_final.rankings.id_campo\n",
      "                     INNER JOIN proyecto_final.universidades ON proyecto_final.universidades.id = proyecto_final.rankings.id_univ\n",
      "                    WHERE proyecto_final.campos.id IN (4,2,6)\n"
     ]
    }
   ],
   "source": [
    "print(sentencia_sql)"
   ]
  },
  {
   "cell_type": "code",
   "execution_count": null,
   "id": "dd31f026",
   "metadata": {},
   "outputs": [],
   "source": []
  }
 ],
 "metadata": {
  "kernelspec": {
   "display_name": "Python 3 (ipykernel)",
   "language": "python",
   "name": "python3"
  },
  "language_info": {
   "codemirror_mode": {
    "name": "ipython",
    "version": 3
   },
   "file_extension": ".py",
   "mimetype": "text/x-python",
   "name": "python",
   "nbconvert_exporter": "python",
   "pygments_lexer": "ipython3",
   "version": "3.8.11"
  }
 },
 "nbformat": 4,
 "nbformat_minor": 5
}

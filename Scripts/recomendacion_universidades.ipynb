{
 "cells": [
  {
   "cell_type": "markdown",
   "id": "4ed007f2",
   "metadata": {},
   "source": [
    "# 1. Cuestionario del alumno"
   ]
  },
  {
   "cell_type": "code",
   "execution_count": 1,
   "id": "d0b00d0f",
   "metadata": {},
   "outputs": [],
   "source": [
    "from scipy import spatial\n",
    "import numpy as np"
   ]
  },
  {
   "cell_type": "code",
   "execution_count": 2,
   "id": "e07edf1e",
   "metadata": {},
   "outputs": [],
   "source": [
    "BD = \"proyecto_final\""
   ]
  },
  {
   "cell_type": "code",
   "execution_count": 3,
   "id": "291c8a1f",
   "metadata": {},
   "outputs": [],
   "source": [
    "dic_campos_bd = {\n",
    "     1: \"arte_diseno_arquitectura\",\n",
    "     2: \"agricultura_forestal\",\n",
    "     3: \"empresariales_administracion\",\n",
    "     4: \"economicas\",\n",
    "     5: \"educacion\",\n",
    "     6: \"ingenieria_tecnologia\",\n",
    "     7: \"historia_filosofia_teologia\",\n",
    "     8: \"leyes_abogacia\",\n",
    "     9: \"ciencias_salud\",\n",
    "    10: \"ciencias_naturales\",\n",
    "    11: \"ciencias_sociales\",\n",
    "    12: \"otros\",\n",
    "}\n",
    "\n",
    "dic_campos_usuario = {\n",
    "    \"arte_diseno_arquitectura\": \"Arte, diseño y arquitectura\",\n",
    "    \"agricultura_forestal\": \"Agricultura y forestal\",\n",
    "    \"empresariales_administracion\": \"Empresariales y administración\",\n",
    "    \"economicas\": \"Economía\",\n",
    "    \"educacion\": \"Educación\",\n",
    "    \"ingenieria_tecnologia\": \"Ingeniería y tecnología\",\n",
    "    \"historia_filosofia_teologia\": \"Historia, filosofía y teología\",\n",
    "    \"leyes_abogacia\": \"Leyes y abogacía\",\n",
    "    \"ciencias_salud\": \"Ciencias de la salud\",\n",
    "    \"ciencias_naturales\": \"Ciencias naturales\",\n",
    "    \"ciencias_sociales\": \"Ciencias sociales\",\n",
    "    \"otros\": \"Otros\",\n",
    "}"
   ]
  },
  {
   "cell_type": "code",
   "execution_count": 4,
   "id": "79466feb",
   "metadata": {},
   "outputs": [
    {
     "name": "stdout",
     "output_type": "stream",
     "text": [
      "Introduce el identificador de 3 campos de tu interés de mayor a menor preferencia:\n",
      "  1. Arte, diseño y arquitectura\n",
      "  2. Agricultura y forestal\n",
      "  3. Empresariales y administración\n",
      "  4. Economía\n",
      "  5. Educación\n",
      "  6. Ingeniería y tecnología\n",
      "  7. Historia, filosofía y teología\n",
      "  8. Leyes y abogacía\n",
      "  9. Ciencias de la salud\n",
      " 10. Ciencias naturales\n",
      " 11. Ciencias sociales\n",
      " 12. Otros\n",
      "\n",
      "Introduce el identificador de tu elección (0/3): 4\n",
      "    Has elegido Economía\n",
      "Introduce el identificador de tu elección (1/3): 5\n",
      "    Has elegido Educación\n",
      "Introduce el identificador de tu elección (2/3): 11\n",
      "    Has elegido Ciencias sociales\n"
     ]
    }
   ],
   "source": [
    "print(\"Introduce el identificador de 3 campos de tu interés de mayor a menor preferencia:\")\n",
    "for key, value in dic_campos_bd.items():\n",
    "    print(f\"{'{:3d}'.format(key)}. {dic_campos_usuario[value]}\")\n",
    "print()\n",
    "\n",
    "completed = False\n",
    "selected_ids = []\n",
    "max_length = 3\n",
    "while not completed:\n",
    "    selection = input(f\"Introduce el identificador de tu elección ({len(selected_ids)}/{max_length}): \")\n",
    "    if selection not in selected_ids:\n",
    "        print(f\"    Has elegido {dic_campos_usuario[dic_campos_bd[int(selection)]]}\")\n",
    "        selected_ids.append(selection)\n",
    "        if len(selected_ids) == max_length:\n",
    "            completed = True\n",
    "    else:\n",
    "        print(\"    Error: Ya has escogido ese campo\")"
   ]
  },
  {
   "cell_type": "code",
   "execution_count": 17,
   "id": "34bf5db7",
   "metadata": {},
   "outputs": [
    {
     "name": "stdout",
     "output_type": "stream",
     "text": [
      "['4', '5', '11']\n"
     ]
    }
   ],
   "source": [
    "proj_usuario = [10, 5, 2]\n",
    "print(selected_ids)"
   ]
  },
  {
   "cell_type": "markdown",
   "id": "deea0047",
   "metadata": {},
   "source": [
    "Sentencia para obtener el ranking de las universidades en los campos elegidos por el usuario"
   ]
  },
  {
   "cell_type": "code",
   "execution_count": 6,
   "id": "23a6d5ed",
   "metadata": {
    "scrolled": true
   },
   "outputs": [
    {
     "name": "stderr",
     "output_type": "stream",
     "text": [
      "2023-07-26 00:39:53,827 WARN conf.HiveConf: HiveConf of name hive.stats.jdbc.timeout does not exist\n",
      "2023-07-26 00:39:53,828 WARN conf.HiveConf: HiveConf of name hive.stats.retries.wait does not exist\n",
      "2023-07-26 00:39:55,326 WARN metastore.ObjectStore: Failed to get database global_temp, returning NoSuchObjectException\n"
     ]
    },
    {
     "name": "stdout",
     "output_type": "stream",
     "text": [
      "+--------------------+-----------------+-------+--------+----------+\n",
      "|         nombre_univ|     nombre_campo|id_univ|id_campo|puntuacion|\n",
      "+--------------------+-----------------+-------+--------+----------+\n",
      "|Universidad Nacio...|       economicas|     36|       4|         5|\n",
      "|Universidad Nacio...|        educacion|     36|       5|         4|\n",
      "|Universidad Nacio...|ciencias_sociales|     36|      11|        13|\n",
      "|Universidad Obert...|       economicas|     37|       4|         4|\n",
      "|Universidad Obert...|        educacion|     37|       5|         9|\n",
      "|Universidad Obert...|ciencias_sociales|     37|      11|        39|\n",
      "|Universidad Polit...|       economicas|     41|       4|         1|\n",
      "|Universidad Polit...|        educacion|     41|       5|         3|\n",
      "|Universidad Polit...|ciencias_sociales|     41|      11|         6|\n",
      "|Universidad de Ba...|       economicas|     57|       4|        23|\n",
      "|Universidad de Ba...|        educacion|     57|       5|        21|\n",
      "|Universidad de Ba...|ciencias_sociales|     57|      11|        70|\n",
      "|Universidad de Gr...|       economicas|     66|       4|         8|\n",
      "|Universidad de Gr...|        educacion|     66|       5|        11|\n",
      "|Universidad de Gr...|ciencias_sociales|     66|      11|        39|\n",
      "|Universidad de Má...|       economicas|     74|       4|         2|\n",
      "|Universidad de Má...|        educacion|     74|       5|         3|\n",
      "|Universidad de Má...|ciencias_sociales|     74|      11|        22|\n",
      "|Universidad de Sa...|       economicas|     77|       4|        17|\n",
      "|Universidad de Sa...|        educacion|     77|       5|        23|\n",
      "+--------------------+-----------------+-------+--------+----------+\n",
      "only showing top 20 rows\n",
      "\n"
     ]
    }
   ],
   "source": [
    "sentencia_select = f\"SELECT {BD}.universidades.nombre AS nombre_univ, {BD}.campos.nombre AS nombre_campo, {BD}.rankings.id_univ, {BD}.rankings.id_campo, {BD}.rankings.puntuacion FROM {BD}.campos\"\n",
    "sentencia_join = f\"\"\"INNER JOIN {BD}.rankings ON {BD}.campos.id = {BD}.rankings.id_campo\n",
    "                     INNER JOIN {BD}.universidades ON {BD}.universidades.id = {BD}.rankings.id_univ\"\"\"\n",
    "ids_str = ','.join(selected_ids)\n",
    "sentencia_where = f\"WHERE {BD}.campos.id IN ({','.join(selected_ids)})\"\n",
    "\n",
    "sentencia_sql = f\"\"\"{sentencia_select}\n",
    "                    {sentencia_join}\n",
    "                    {sentencia_where}\"\"\"\n",
    "\n",
    "\n",
    "rankings_df = spark.sql(sentencia_sql).fillna(0)\n",
    "rankings_df.show()"
   ]
  },
  {
   "cell_type": "code",
   "execution_count": 7,
   "id": "cfd9bdbb",
   "metadata": {},
   "outputs": [],
   "source": [
    "list_of_unis = zip(*(iter(rankings_df.collect()),) * 3)"
   ]
  },
  {
   "cell_type": "code",
   "execution_count": 8,
   "id": "e833d571",
   "metadata": {},
   "outputs": [],
   "source": [
    "unis_dict = {}\n",
    "for campo_1, campo_2, campo_3 in list_of_unis:\n",
    "    uni_dict = {campo_1['id_campo']: campo_1['puntuacion'],\n",
    "                campo_2['id_campo']: campo_2['puntuacion'],\n",
    "                campo_3['id_campo']: campo_3['puntuacion'],\n",
    "                }\n",
    "    unis_dict[campo_1['id_univ']] = uni_dict"
   ]
  },
  {
   "cell_type": "code",
   "execution_count": 79,
   "id": "0984934a",
   "metadata": {},
   "outputs": [
    {
     "name": "stdout",
     "output_type": "stream",
     "text": [
      "+-------+--------------------+------------+--------+\n",
      "|id_univ|         nombre_univ|nombre_campo|carreras|\n",
      "+-------+--------------------+------------+--------+\n",
      "|     18|Universidad Compl...|  economicas|       2|\n",
      "|     17|Universidad Catól...|  economicas|       5|\n",
      "|     30|Universidad Inter...|  economicas|       1|\n",
      "|     28|Universidad Inter...|  economicas|       2|\n",
      "|     79|Universidad de Se...|  economicas|       2|\n",
      "|     33|Universidad Jaume...|  economicas|       8|\n",
      "+-------+--------------------+------------+--------+\n",
      "\n"
     ]
    }
   ],
   "source": [
    "#SEGUNDA PARTE DE LA PROYECCION BASAR EN EL LOGARITMO EN BASE A LA UNIVERSIDAD CON MAYOR NUMERO DE CARRERAS EN ESE\n",
    "sentencia_select = f\"SELECT {BD}.universidades.id AS id_univ, {BD}.universidades.nombre AS nombre_univ, {BD}.campos.nombre AS nombre_campo, COUNT(*) AS carreras FROM {BD}.campos\"\n",
    "sentencia_join = f\"\"\"INNER JOIN {BD}.facultades ON {BD}.campos.id = {BD}.facultades.id_campo INNER JOIN {BD}.grados ON {BD}.grados.id_fac = {BD}.facultades.id INNER JOIN {BD}.universidades ON {BD}.universidades.id = {BD}.facultades.id_univ\"\"\"\n",
    "\n",
    "ids_str = ','.join(selected_ids)\n",
    "sentencia_where = f\"WHERE {BD}.campos.id IN ({selected_ids[0]})\"\n",
    "sentencia_group_by = f\"GROUP BY {BD}.campos.nombre, {BD}.universidades.nombre, {BD}.universidades.id\"\n",
    "sentencia_sql = f\"\"\"{sentencia_select} {sentencia_join} {sentencia_where} {sentencia_group_by}\"\"\"\n",
    "\n",
    "\n",
    "carreras_total_df = spark.sql(sentencia_sql)\n",
    "carreras_total_df.show()\n"
   ]
  },
  {
   "cell_type": "code",
   "execution_count": 54,
   "id": "b34345a6",
   "metadata": {},
   "outputs": [
    {
     "ename": "SyntaxError",
     "evalue": "invalid syntax (3252934731.py, line 2)",
     "output_type": "error",
     "traceback": [
      "\u001b[0;36m  File \u001b[0;32m\"/tmp/ipykernel_12617/3252934731.py\"\u001b[0;36m, line \u001b[0;32m2\u001b[0m\n\u001b[0;31m    SELECT universidades.nombre AS nombre_univ, campos.nombre AS nombre_campo, COUNT(*) AS carreras FROM campos INNER JOIN facultades ON campos.id = facultades.id_campo INNER JOIN grados ON grados.id_fac = facultades.id INNER JOIN universidades ON universidades.id = facultades.id_univ WHERE campos.id IN (4,5,11) GROUP BY campos.nombre, universidades.nombre\u001b[0m\n\u001b[0m           ^\u001b[0m\n\u001b[0;31mSyntaxError\u001b[0m\u001b[0;31m:\u001b[0m invalid syntax\n"
     ]
    }
   ],
   "source": [
    "\n",
    "print(sentencia_sql)\n",
    "SELECT universidades.nombre AS nombre_univ, campos.nombre AS nombre_campo, COUNT(*) AS carreras FROM campos INNER JOIN facultades ON campos.id = facultades.id_campo INNER JOIN grados ON grados.id_fac = facultades.id INNER JOIN universidades ON universidades.id = facultades.id_univ WHERE campos.id IN (4,5,11) GROUP BY campos.nombre, universidades.nombre"
   ]
  },
  {
   "cell_type": "code",
   "execution_count": 20,
   "id": "bcdfc210",
   "metadata": {},
   "outputs": [],
   "source": [
    "def calculate_uni_projection(uni_dict, selected_ids):\n",
    "    \"\"\"\n",
    "    \"\"\"\n",
    "    total_investigators = 0\n",
    "    for investigators in uni_dict.values():\n",
    "        total_investigators += investigators\n",
    "    \n",
    "    if total_investigators == 0:\n",
    "        return [-100, -100, -100]\n",
    "    # For each field, ordered by user preference, calculate the percentage of total investigators\n",
    "    \n",
    "    ordered_dict = sorted(uni_dict.items(), key=lambda x:x[1], reverse=True)\n",
    "    punctuations_dict = {}\n",
    "    punctuations_dict[ordered_dict[0][0]] = 10\n",
    "    punctuations_dict[ordered_dict[1][0]] = 5\n",
    "    punctuations_dict[ordered_dict[2][0]] = 2\n",
    "    \n",
    "    uni_proj = []\n",
    "    for campo in selected_ids:\n",
    "        percentage = uni_dict[int(campo)]\n",
    "        uni_proj.append(punctuations_dict[int(campo)])\n",
    "        \n",
    "    return uni_proj"
   ]
  },
  {
   "cell_type": "code",
   "execution_count": 21,
   "id": "4d1f536e",
   "metadata": {},
   "outputs": [
    {
     "name": "stdout",
     "output_type": "stream",
     "text": [
      "{36: [5, 2, 10], 37: [2, 5, 10], 41: [2, 5, 10], 57: [5, 2, 10], 66: [2, 5, 10], 74: [2, 5, 10], 77: [2, 5, 10], 87: [5, 2, 10], 8: [5, 2, 10], 10: [2, 5, 10], 11: [5, 2, 10], 12: [2, 5, 10], 13: [-100, -100, -100], 14: [10, 2, 5], 16: [-100, -100, -100], 51: [10, 2, 5], 44: [5, 2, 10], 18: [5, 2, 10], 2: [-100, -100, -100], 3: [5, 2, 10], 22: [5, 2, 10], 24: [5, 2, 10], 21: [-100, -100, -100], 23: [-100, -100, -100], 26: [5, 2, 10], 5: [-100, -100, -100], 30: [5, 2, 10], 32: [2, 10, 5], 29: [-100, -100, -100], 33: [5, 2, 10], 48: [5, 2, 10], 34: [5, 2, 10], 20: [5, 2, 10], 35: [-100, -100, -100], 9: [2, 5, 10], 52: [2, 5, 10], 38: [5, 2, 10], 39: [10, 2, 5], 42: [5, 2, 10], 43: [5, 2, 10], 45: [2, 5, 10], 46: [5, 2, 10], 47: [2, 5, 10], 49: [2, 5, 10], 17: [5, 2, 10], 15: [2, 5, 10], 50: [5, 2, 10], 40: [5, 2, 10], 28: [2, 5, 10], 53: [2, 5, 10], 54: [5, 2, 10], 55: [-100, -100, -100], 56: [5, 2, 10], 58: [10, 2, 5], 61: [2, 5, 10], 59: [10, 2, 5], 60: [5, 2, 10], 62: [5, 2, 10], 63: [5, 2, 10], 64: [2, 5, 10], 65: [5, 2, 10], 67: [2, 5, 10], 68: [2, 5, 10], 69: [2, 5, 10], 84: [2, 5, 10], 70: [5, 2, 10], 71: [5, 2, 10], 72: [2, 5, 10], 7: [5, 2, 10], 73: [2, 5, 10], 75: [5, 2, 10], 76: [5, 2, 10], 78: [5, 2, 10], 79: [2, 5, 10], 85: [5, 2, 10], 86: [5, 2, 10], 88: [5, 2, 10], 80: [2, 5, 10], 81: [5, 2, 10], 82: [5, 2, 10], 83: [5, 2, 10], 4: [-100, -100, -100], 1: [-100, -100, -100], 27: [-100, -100, -100], 25: [-100, -100, -100], 6: [2, 10, 5], 31: [-100, -100, -100], 19: [-100, -100, -100]}\n"
     ]
    }
   ],
   "source": [
    "projs_dict = {}\n",
    "for key, value in unis_dict.items():\n",
    "    projs_dict[key] = calculate_uni_projection(value, selected_ids)\n",
    "print(projs_dict)"
   ]
  },
  {
   "cell_type": "code",
   "execution_count": 22,
   "id": "e8109460",
   "metadata": {},
   "outputs": [],
   "source": [
    "def get_three_most_similar_unis(projs_dict, proj_user):\n",
    "    \"\"\"\n",
    "        Searches for the three most similar unis to the user preferences\n",
    "    \"\"\"\n",
    "    similarities_dict = {}\n",
    "    for uni_key, proj in projs_dict.items():\n",
    "        similarities_dict[uni_key] = 1 - spatial.distance.cosine(proj_user, proj)\n",
    "        \n",
    "    similarities_ordered = sorted(similarities_dict.items(), key=lambda x:x[1], reverse=True)\n",
    "    return similarities_ordered[:3]"
   ]
  },
  {
   "cell_type": "code",
   "execution_count": 23,
   "id": "86103da6",
   "metadata": {},
   "outputs": [
    {
     "name": "stdout",
     "output_type": "stream",
     "text": [
      "[(14, 0.9302325581395349), (51, 0.9302325581395349), (39, 0.9302325581395349)]\n"
     ]
    }
   ],
   "source": [
    "sims = get_three_most_similar_unis(projs_dict, proj_usuario)\n",
    "print(sims)"
   ]
  },
  {
   "cell_type": "code",
   "execution_count": 13,
   "id": "39534348",
   "metadata": {},
   "outputs": [
    {
     "name": "stdout",
     "output_type": "stream",
     "text": [
      "SELECT proyecto_final.universidades.nombre AS nombre_univ, proyecto_final.campos.nombre AS nombre_campo, proyecto_final.rankings.id_univ, proyecto_final.rankings.id_campo, proyecto_final.rankings.puntuacion FROM proyecto_final.campos\n",
      "                    INNER JOIN proyecto_final.rankings ON proyecto_final.campos.id = proyecto_final.rankings.id_campo\n",
      "                     INNER JOIN proyecto_final.universidades ON proyecto_final.universidades.id = proyecto_final.rankings.id_univ\n",
      "                    WHERE proyecto_final.campos.id IN (4,5,11)\n"
     ]
    }
   ],
   "source": [
    "print(sentencia_sql)"
   ]
  },
  {
   "cell_type": "code",
   "execution_count": 14,
   "id": "dd31f026",
   "metadata": {},
   "outputs": [
    {
     "ename": "SyntaxError",
     "evalue": "invalid syntax (198619458.py, line 1)",
     "output_type": "error",
     "traceback": [
      "\u001b[0;36m  File \u001b[0;32m\"/tmp/ipykernel_12617/198619458.py\"\u001b[0;36m, line \u001b[0;32m1\u001b[0m\n\u001b[0;31m    SELECT universidades.nombre AS nombre_univ, campos.nombre AS nombre_campo, rankings.id_univ, rankings.id_campo, rankings.puntuacion FROM campos INNER JOIN rankings ON campos.id = rankings.id_campo INNER JOIN universidades ON universidades.id = rankings.id_univ WHERE campos.id IN (4,5,11)\u001b[0m\n\u001b[0m           ^\u001b[0m\n\u001b[0;31mSyntaxError\u001b[0m\u001b[0;31m:\u001b[0m invalid syntax\n"
     ]
    }
   ],
   "source": [
    "SELECT universidades.nombre AS nombre_univ, campos.nombre AS nombre_campo, rankings.id_univ, rankings.id_campo, rankings.puntuacion FROM campos INNER JOIN rankings ON campos.id = rankings.id_campo INNER JOIN universidades ON universidades.id = rankings.id_univ WHERE campos.id IN (4,5,11)"
   ]
  }
 ],
 "metadata": {
  "kernelspec": {
   "display_name": "Python 3 (ipykernel)",
   "language": "python",
   "name": "python3"
  },
  "language_info": {
   "codemirror_mode": {
    "name": "ipython",
    "version": 3
   },
   "file_extension": ".py",
   "mimetype": "text/x-python",
   "name": "python",
   "nbconvert_exporter": "python",
   "pygments_lexer": "ipython3",
   "version": "3.8.11"
  }
 },
 "nbformat": 4,
 "nbformat_minor": 5
}

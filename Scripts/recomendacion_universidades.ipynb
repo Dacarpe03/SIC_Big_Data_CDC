{
 "cells": [
  {
   "cell_type": "markdown",
   "id": "a0c67b4e",
   "metadata": {},
   "source": [
    "# 0. Importar librerías, definir variables globales y funciones"
   ]
  },
  {
   "cell_type": "markdown",
   "id": "648a5f6f",
   "metadata": {},
   "source": [
    "## 0.1 Librerías"
   ]
  },
  {
   "cell_type": "code",
   "execution_count": 1,
   "id": "78812ce2",
   "metadata": {},
   "outputs": [],
   "source": [
    "from scipy import spatial\n",
    "import numpy as np\n",
    "import math\n",
    "from itertools import islice\n",
    "import matplotlib.pyplot as plt"
   ]
  },
  {
   "cell_type": "markdown",
   "id": "5cced81e",
   "metadata": {},
   "source": [
    "## 0.2 Variables globales"
   ]
  },
  {
   "cell_type": "code",
   "execution_count": 2,
   "id": "0f5bb5ba",
   "metadata": {},
   "outputs": [],
   "source": [
    "# Nombre de la base de datos del proyecto final\n",
    "BD = \"proyecto_final\"\n",
    "\n",
    "# La proyección del usuario en el espacio vectorial para realizar la recomendación\n",
    "PROJ_USER = [10, 5, 2, 1, 1, 1]\n",
    "\n",
    "# Diccionarios para hacer la visualizacion de datos y cambiar de id a nombre legible\n",
    "DIC_CAMPOS_BD = {\n",
    "     1: \"arte_diseno_arquitectura\",\n",
    "     2: \"agricultura_forestal\",\n",
    "     3: \"empresariales_administracion\",\n",
    "     4: \"economicas\",\n",
    "     5: \"educacion\",\n",
    "     6: \"ingenieria_tecnologia\",\n",
    "     7: \"historia_filosofia_teologia\",\n",
    "     8: \"leyes_abogacia\",\n",
    "     9: \"ciencias_salud\",\n",
    "    10: \"ciencias_naturales\",\n",
    "    11: \"ciencias_sociales\",\n",
    "    12: \"otros\",\n",
    "}\n",
    "\n",
    "DIC_CAMPOS_USUARIO = {\n",
    "    \"arte_diseno_arquitectura\": \"Arte, diseño y arquitectura\",\n",
    "    \"agricultura_forestal\": \"Agricultura y forestal\",\n",
    "    \"empresariales_administracion\": \"Empresariales y administración\",\n",
    "    \"economicas\": \"Economía\",\n",
    "    \"educacion\": \"Educación\",\n",
    "    \"ingenieria_tecnologia\": \"Ingeniería y tecnología\",\n",
    "    \"historia_filosofia_teologia\": \"Historia, filosofía y teología\",\n",
    "    \"leyes_abogacia\": \"Leyes y abogacía\",\n",
    "    \"ciencias_salud\": \"Ciencias de la salud\",\n",
    "    \"ciencias_naturales\": \"Ciencias naturales\",\n",
    "    \"ciencias_sociales\": \"Ciencias sociales\",\n",
    "    \"otros\": \"Otros\",\n",
    "}\n",
    "\n"
   ]
  },
  {
   "cell_type": "markdown",
   "id": "10f98aed",
   "metadata": {},
   "source": [
    "## 0.3 Funciones"
   ]
  },
  {
   "cell_type": "code",
   "execution_count": 83,
   "id": "faf9d356",
   "metadata": {},
   "outputs": [],
   "source": [
    "def take(n, iterable):\n",
    "    \"\"\"\n",
    "    Return the first n items of the iterable as a list.\n",
    "    \n",
    "    Input:\n",
    "        n (int): The size of each slice\n",
    "        iterable: The iterable item to slice\n",
    "        \n",
    "    Returns:\n",
    "        sliced_iterable (list): A list with the sliced iterable\n",
    "    \"\"\"\n",
    "    sliced_iterable = list(islice(iterable, n))\n",
    "    return sliced_iterable\n",
    "\n",
    "                           \n",
    "def get_investigators_per_field(fields_id):\n",
    "    \"\"\"\n",
    "    Reads from hive a view where each row contains the university info, a field and the investigators in that field\n",
    "    \n",
    "    Input:\n",
    "        fields_id(list): A string list containing the id of the user's interest fields\n",
    "    \n",
    "    Returns:\n",
    "        rankings_df(DataFrame): A dataframe with the resulting query (columns: nombre_univ, nombre_campo, id_univ, id_campo, puntuacion)\n",
    "    \"\"\"\n",
    "                           \n",
    "    # Select sentence to get the desired columns\n",
    "    sentencia_select = f\"\"\"\n",
    "                        SELECT \n",
    "                        {BD}.universidades.nombre AS nombre_univ, \n",
    "                        {BD}.campos.nombre AS nombre_campo, \n",
    "                        {BD}.rankings.id_univ, \n",
    "                        {BD}.rankings.id_campo, \n",
    "                        {BD}.rankings.puntuacion \n",
    "                        FROM {BD}.campos\n",
    "                        \"\"\"\n",
    "    # The join sentence to combine tables\n",
    "    sentencia_join = f\"\"\"\n",
    "                      INNER JOIN {BD}.rankings ON {BD}.campos.id = {BD}.rankings.id_campo\n",
    "                      INNER JOIN {BD}.universidades ON {BD}.universidades.id = {BD}.rankings.id_univ\n",
    "                      \"\"\"\n",
    "                           \n",
    "    # The where sentence to only get rows related to the user selected fields\n",
    "    ids_str = ','.join(fields_id)\n",
    "    sentencia_where = f\"WHERE {BD}.campos.id IN ({ids_str})\"\n",
    "    \n",
    "    # The complete sql sentence\n",
    "    sentencia_sql = f\"\"\"\n",
    "                    {sentencia_select}\n",
    "                    {sentencia_join}\n",
    "                    {sentencia_where}\n",
    "                    \"\"\"\n",
    "\n",
    "    \n",
    "    # Execute the sentence to read from hive\n",
    "    rankings_df = spark.sql(sentencia_sql).fillna(0)\n",
    "    return rankings_df\n",
    "                           \n",
    "\n",
    "def calcular_especialidad(unis_dict, id_especialidad, especialidad_key):\n",
    "    \"\"\"\n",
    "    Updates the universities dictionary to add information about the specialization of a university in a field\n",
    "    based on the number of degrees in that field\n",
    "    \n",
    "    Input:\n",
    "        unis_dict (dictionary): A dictionary containing a subdictionary by university key, subdictionary contains\n",
    "                                the information for the projection that will be used\n",
    "        id_especialidad (string): The string representing the field id in the database\n",
    "        especialidad_key(string): The speciality or field key in the uni dictionary\n",
    "    \n",
    "    Returns:\n",
    "        None\n",
    "                                \n",
    "    \"\"\"\n",
    "    # Select sentence to get the desired columns\n",
    "    sentencia_select = f\"\"\"\n",
    "                        SELECT \n",
    "                        {BD}.universidades.id AS id_univ, \n",
    "                        {BD}.universidades.nombre AS nombre_univ, \n",
    "                        {BD}.campos.nombre AS nombre_campo, \n",
    "                        COUNT(*) AS carreras \n",
    "                        FROM {BD}.campos\n",
    "                        \"\"\"\n",
    "    \n",
    "    # Join sentece to merge desired tables\n",
    "    sentencia_join = f\"\"\"\n",
    "                      INNER JOIN {BD}.facultades ON {BD}.campos.id = {BD}.facultades.id_campo \n",
    "                      INNER JOIN {BD}.grados ON {BD}.grados.id_fac = {BD}.facultades.id \n",
    "                      INNER JOIN {BD}.universidades ON {BD}.universidades.id = {BD}.facultades.id_univ\n",
    "                      \"\"\"\n",
    "\n",
    "    \n",
    "    # Where sentence to query only for the desired speciality or field\n",
    "    sentencia_where = f\"WHERE {BD}.campos.id IN ({id_especialidad})\"\n",
    "    \n",
    "    # Group by sentence to count degrees by field\n",
    "    sentencia_group_by = f\"GROUP BY {BD}.campos.nombre, {BD}.universidades.nombre, {BD}.universidades.id\"\n",
    "    \n",
    "    # Order by sentence to order in descending order by the number of degrees in a field\n",
    "    sentencia_order_by = 'ORDER BY COUNT(*) DESC'\n",
    "    sentencia_sql = f\"\"\"\n",
    "                     {sentencia_select} \n",
    "                     {sentencia_join}\n",
    "                     {sentencia_where}\n",
    "                     {sentencia_group_by}\n",
    "                     {sentencia_order_by}\n",
    "                     \"\"\"\n",
    "    \n",
    "    # Execute the sentence to read from hive\n",
    "    carreras_total_df = spark.sql(sentencia_sql).collect()\n",
    "    \n",
    "    # Calculate the maximum number of degrees of a field in a university\n",
    "    max_especialidad = carreras_total_df[0]['carreras']\n",
    "    \n",
    "    # Update the unis_dict\n",
    "    for row in carreras_total_df:\n",
    "        id_univ = row['id_univ']\n",
    "        num_carreras = row['carreras']\n",
    "        # We set the speciality as the logarithm of the number of degrees with base equal to the max number of degrees\n",
    "        unis_dict[id_univ][especialidad_key] = math.log(num_carreras, max_especialidad)\n",
    "\n",
    "        \n",
    "def calculate_uni_projection(uni_dict, selected_ids):\n",
    "    \"\"\"\n",
    "    Computes the projection of the universities and stores it in a list\n",
    "    \n",
    "    Input:\n",
    "        uni_dict (dictionary): The dictionary containing the info of the university\n",
    "        selected_ids (string): A string list containing the selected fields by the user\n",
    "        \n",
    "    Returns:\n",
    "        proj (list): An int list containing the computed projection of the university\n",
    "    \"\"\"\n",
    "    \n",
    "    # Check that the university has at least one investigator in the selected fields\n",
    "    total_investigators = 0\n",
    "    for investigators in uni_dict.values():\n",
    "        total_investigators += investigators\n",
    "    \n",
    "    # If it has no investigators in the fields, then return a projection far away from the user projection\n",
    "    if total_investigators == 0:\n",
    "        return [-100, -100, -100, -1, -1, -1]\n",
    "    \n",
    "    # Get the three first keys and values of the uni dictionary to compute the speciality or field with more investigators\n",
    "    kv_pairs = take(3, uni_dict.items())\n",
    "    sub_dict = {}\n",
    "    for k, v in kv_pairs:\n",
    "        sub_dict[k] = v\n",
    "    ordered_dict = sorted(sub_dict.items(), key=lambda x:x[1], reverse=True)\n",
    "    punctuations_dict = {}\n",
    "    \n",
    "    # Assign to each field the values 10, 5, and 2 to the fields ordered descending by the number of investigators in \n",
    "    # each field, if any field has no investigators then assign -100 to that coordinate in the projection\n",
    "    if ordered_dict[0][1] == 0:\n",
    "        punctuations_dict[ordered_dict[0][0]] = -100\n",
    "    else:\n",
    "        punctuations_dict[ordered_dict[0][0]] = 10\n",
    "    \n",
    "    if ordered_dict[1][1] == 0:\n",
    "        punctuations_dict[ordered_dict[1][0]] = -100\n",
    "    else:\n",
    "        punctuations_dict[ordered_dict[1][0]] = 5\n",
    "    \n",
    "    if ordered_dict[2][1] == 0:\n",
    "        punctuations_dict[ordered_dict[2][0]] = -100\n",
    "    else:\n",
    "        punctuations_dict[ordered_dict[2][0]] = 2\n",
    "    \n",
    "    uni_proj = []\n",
    "    for campo in selected_ids:\n",
    "        percentage = uni_dict[int(campo)]\n",
    "        uni_proj.append(punctuations_dict[int(campo)])\n",
    "        \n",
    "    # Finally add how specialized is a university in a field based on the number of degrees in the field (previously computed)\n",
    "    uni_proj.append(uni_dict['especialidad1'])\n",
    "    uni_proj.append(uni_dict['especialidad2'])\n",
    "    uni_proj.append(uni_dict['especialidad3']) \n",
    "    \n",
    "    # Return the computed projection\n",
    "    return uni_proj\n",
    "\n",
    "\n",
    "def get_three_most_similar_unis(projs_dict, proj_user):\n",
    "    \"\"\"\n",
    "    Searches for the three most similar unis to the user preferences based on the distance of the projections\n",
    "    \n",
    "    Input:\n",
    "        projc_dict (dictionary): A dictionary with the projections of the universities with the university id as key\n",
    "        proj_user (list): An int list with the projection of the user preferences\n",
    "        \n",
    "    Returns:\n",
    "        best_three_ids (list): An int list with the three best universities ids\n",
    "    \"\"\"\n",
    "    \n",
    "    # Converto to numpy array the user projection\n",
    "    np_user_proj = np.array(proj_user)\n",
    "    \n",
    "    # Create a similarities dictionary to order later\n",
    "    similarities_dict = {}\n",
    "    \n",
    "    # Iterate through the projections computing euclidean distance\n",
    "    for uni_key, proj in projs_dict.items():\n",
    "        np_uni_proj = np.array(proj)\n",
    "        similarities_dict[uni_key] = np.linalg.norm(np_user_proj-np_uni_proj)\n",
    "    \n",
    "    # Order the similarities\n",
    "    similarities_ordered = sorted(similarities_dict.items(), key=lambda x:x[1])\n",
    "    \n",
    "    # Return the first three universities\n",
    "    best_three = similarities_ordered[:3]\n",
    "    best_three_ids = []\n",
    "    for u in best_three:\n",
    "        best_three_ids.append(u[0])\n",
    "    return best_three_ids\n",
    "\n",
    "\n",
    "def get_universities_by_id(unis_ids):\n",
    "    \"\"\"\n",
    "    Gets the initials and h_indexes of the universities\n",
    "    \"\"\"\n",
    "    unis_id_str = [str(uid) for uid in unis_ids]\n",
    "    unis_str = ','.join(unis_id_str)\n",
    "    sentencia_select = f\"SELECT {BD}.universidades.siglas, {BD}.universidades.posicion_hindex FROM {BD}.universidades\"\n",
    "    sentencia_where = f\"WHERE {BD}.universidades.id IN ({unis_str})\"\n",
    "    sentencia_sql = f\"\"\"\n",
    "                     {sentencia_select}\n",
    "                     {sentencia_where}\n",
    "                     \"\"\"\n",
    "    recommended_unis_df = spark.sql(sentencia_sql)\n",
    "    return recommended_unis_df\n",
    "\n",
    "\n",
    "def visualizar_posiciones_hindex(recomendaciones):\n",
    "    \n",
    "    datos_ranking_hindex = get_universities_by_id(recomendations)\n",
    "    datos_hindex_rows = datos_ranking_hindex.fillna(0).orderBy(datos_ranking_hindex.posicion_hindex).collect()\n",
    "    \n",
    "    inverse_hindexes= [130-datos_hindex_rows[1]['posicion_hindex'], \n",
    "                       130-datos_hindex_rows[0]['posicion_hindex'],\n",
    "                       130-datos_hindex_rows[2]['posicion_hindex']]\n",
    "    \n",
    "    hindexes= [datos_hindex_rows[1]['posicion_hindex'], \n",
    "               datos_hindex_rows[0]['posicion_hindex'],\n",
    "               datos_hindex_rows[2]['posicion_hindex']]\n",
    "    \n",
    "    siglas =[datos_hindex_rows[1]['siglas'], \n",
    "             datos_hindex_rows[0]['siglas'],\n",
    "             datos_hindex_rows[2]['siglas']]\n",
    "    \n",
    "    fig, ax = plt.subplots(figsize=(8,6))\n",
    "    \n",
    "    ax.set_ylim(0, 150-datos_hindex_rows[0]['posicion_hindex'])\n",
    "    ax.yaxis.set_tick_params(labelleft=False)\n",
    "    \n",
    "    \n",
    "    \n",
    "    for i in range(len(hindexes)):\n",
    "        plt.text(i, inverse_hindexes[i]+5, f\"{hindexes[i]}º\", ha = 'center', fontdict={'fontsize':14})\n",
    "    \n",
    "    paleta=['#814DFF', '#FF83B6', '#FF9022']\n",
    "    ax.bar(siglas, inverse_hindexes, width=0.8,color=paleta)\n",
    "    ax.tick_params(left=False)\n",
    "    plt.xticks(fontsize=16)\n",
    "    ax.set_title('Posiciones H-index de las universidades', loc = 'left', fontdict={'fontsize':18, 'fontweight':'bold', 'color':'gray'})\n",
    "    ax.grid(axis ='y', color = 'gray', linestyle = 'dashed')"
   ]
  },
  {
   "cell_type": "markdown",
   "id": "4ed007f2",
   "metadata": {},
   "source": [
    "# 1. Cuestionario del alumno"
   ]
  },
  {
   "cell_type": "code",
   "execution_count": 4,
   "id": "79466feb",
   "metadata": {},
   "outputs": [
    {
     "name": "stdout",
     "output_type": "stream",
     "text": [
      "Introduce el identificador de 3 campos de tu interés de mayor a menor preferencia:\n",
      "  1. Arte, diseño y arquitectura\n",
      "  2. Agricultura y forestal\n",
      "  3. Empresariales y administración\n",
      "  4. Economía\n",
      "  5. Educación\n",
      "  6. Ingeniería y tecnología\n",
      "  7. Historia, filosofía y teología\n",
      "  8. Leyes y abogacía\n",
      "  9. Ciencias de la salud\n",
      " 10. Ciencias naturales\n",
      " 11. Ciencias sociales\n",
      " 12. Otros\n",
      "\n",
      "Introduce el identificador de tu elección (0/3): 4\n",
      "    Has elegido Economía\n",
      "Introduce el identificador de tu elección (1/3): 5\n",
      "    Has elegido Educación\n",
      "Introduce el identificador de tu elección (2/3): 11\n",
      "    Has elegido Ciencias sociales\n"
     ]
    }
   ],
   "source": [
    "print(\"Introduce el identificador de 3 campos de tu interés de mayor a menor preferencia:\")\n",
    "for key, value in DIC_CAMPOS_BD.items():\n",
    "    print(f\"{'{:3d}'.format(key)}. {DIC_CAMPOS_USUARIO[value]}\")\n",
    "print()\n",
    "\n",
    "completed = False\n",
    "selected_ids = []\n",
    "max_length = 3\n",
    "while not completed:\n",
    "    selection = input(f\"Introduce el identificador de tu elección ({len(selected_ids)}/{max_length}): \")\n",
    "    if selection not in selected_ids:\n",
    "        print(f\"    Has elegido {DIC_CAMPOS_USUARIO[DIC_CAMPOS_BD[int(selection)]]}\")\n",
    "        selected_ids.append(selection)\n",
    "        if len(selected_ids) == max_length:\n",
    "            completed = True\n",
    "    else:\n",
    "        print(\"    Error: Ya has escogido ese campo\")"
   ]
  },
  {
   "cell_type": "markdown",
   "id": "deea0047",
   "metadata": {},
   "source": [
    "Hacemos query para obtener información de las universidades y campos"
   ]
  },
  {
   "cell_type": "code",
   "execution_count": 5,
   "id": "23a6d5ed",
   "metadata": {
    "scrolled": true
   },
   "outputs": [
    {
     "name": "stderr",
     "output_type": "stream",
     "text": [
      "2023-07-27 14:51:14,882 WARN conf.HiveConf: HiveConf of name hive.stats.jdbc.timeout does not exist\n",
      "2023-07-27 14:51:14,882 WARN conf.HiveConf: HiveConf of name hive.stats.retries.wait does not exist\n",
      "2023-07-27 14:51:16,502 WARN metastore.ObjectStore: Failed to get database global_temp, returning NoSuchObjectException\n",
      "                                                                                \r"
     ]
    },
    {
     "name": "stdout",
     "output_type": "stream",
     "text": [
      "+--------------------+-----------------+-------+--------+----------+\n",
      "|         nombre_univ|     nombre_campo|id_univ|id_campo|puntuacion|\n",
      "+--------------------+-----------------+-------+--------+----------+\n",
      "|Universidad Nacio...|       economicas|     36|       4|         5|\n",
      "|Universidad Nacio...|        educacion|     36|       5|         4|\n",
      "|Universidad Nacio...|ciencias_sociales|     36|      11|        13|\n",
      "|Universidad Obert...|       economicas|     37|       4|         4|\n",
      "|Universidad Obert...|        educacion|     37|       5|         9|\n",
      "|Universidad Obert...|ciencias_sociales|     37|      11|        39|\n",
      "|Universidad Polit...|       economicas|     41|       4|         1|\n",
      "|Universidad Polit...|        educacion|     41|       5|         3|\n",
      "|Universidad Polit...|ciencias_sociales|     41|      11|         6|\n",
      "|Universidad de Ba...|       economicas|     57|       4|        23|\n",
      "|Universidad de Ba...|        educacion|     57|       5|        21|\n",
      "|Universidad de Ba...|ciencias_sociales|     57|      11|        70|\n",
      "|Universidad de Gr...|       economicas|     66|       4|         8|\n",
      "|Universidad de Gr...|        educacion|     66|       5|        11|\n",
      "|Universidad de Gr...|ciencias_sociales|     66|      11|        39|\n",
      "|Universidad de Má...|       economicas|     74|       4|         2|\n",
      "|Universidad de Má...|        educacion|     74|       5|         3|\n",
      "|Universidad de Má...|ciencias_sociales|     74|      11|        22|\n",
      "|Universidad de Sa...|       economicas|     77|       4|        17|\n",
      "|Universidad de Sa...|        educacion|     77|       5|        23|\n",
      "+--------------------+-----------------+-------+--------+----------+\n",
      "only showing top 20 rows\n",
      "\n"
     ]
    }
   ],
   "source": [
    "rankings_df = get_investigators_per_field(selected_ids)\n",
    "rankings_df.show()"
   ]
  },
  {
   "cell_type": "markdown",
   "id": "05f64b20",
   "metadata": {},
   "source": [
    "# 2. Procesamiento de datos"
   ]
  },
  {
   "cell_type": "markdown",
   "id": "33fb4cc2",
   "metadata": {},
   "source": [
    "Creamos un iterable del resultado de la query"
   ]
  },
  {
   "cell_type": "code",
   "execution_count": 6,
   "id": "cfd9bdbb",
   "metadata": {},
   "outputs": [],
   "source": [
    "list_of_unis = zip(*(iter(rankings_df.collect()),) * 3)"
   ]
  },
  {
   "cell_type": "markdown",
   "id": "3a10288a",
   "metadata": {},
   "source": [
    "Creamos un diccionario de universidades para procesar la información que usaremos para calcular la proyección de la universidad"
   ]
  },
  {
   "cell_type": "code",
   "execution_count": 7,
   "id": "e833d571",
   "metadata": {},
   "outputs": [],
   "source": [
    "unis_dict = {}\n",
    "for campo_1, campo_2, campo_3 in list_of_unis:\n",
    "    uni_dict = {campo_1['id_campo']: campo_1['puntuacion'],\n",
    "                campo_2['id_campo']: campo_2['puntuacion'],\n",
    "                campo_3['id_campo']: campo_3['puntuacion'],\n",
    "                'especialidad1': -1,\n",
    "                'especialidad2': -1,\n",
    "                'especialidad3': -1\n",
    "                }\n",
    "    unis_dict[campo_1['id_univ']] = uni_dict"
   ]
  },
  {
   "cell_type": "markdown",
   "id": "72b9a89e",
   "metadata": {},
   "source": [
    "Añadimos al diccionario el nivel de especialización por campo"
   ]
  },
  {
   "cell_type": "code",
   "execution_count": 8,
   "id": "b6f8cae8",
   "metadata": {},
   "outputs": [
    {
     "name": "stderr",
     "output_type": "stream",
     "text": [
      "\r",
      "[Stage 10:======================================>               (143 + 7) / 200]\r",
      "\r",
      "                                                                                \r"
     ]
    }
   ],
   "source": [
    "calcular_especialidad(unis_dict, selected_ids[0], 'especialidad1')\n",
    "calcular_especialidad(unis_dict, selected_ids[1], 'especialidad2')\n",
    "calcular_especialidad(unis_dict, selected_ids[2], 'especialidad3')"
   ]
  },
  {
   "cell_type": "markdown",
   "id": "036d54c5",
   "metadata": {},
   "source": [
    "Calculamos las proyecciones de las universidades"
   ]
  },
  {
   "cell_type": "code",
   "execution_count": 9,
   "id": "4d1f536e",
   "metadata": {},
   "outputs": [],
   "source": [
    "projs_dict = {}\n",
    "for key, value in unis_dict.items():\n",
    "    projs_dict[key] = calculate_uni_projection(value, selected_ids)"
   ]
  },
  {
   "cell_type": "markdown",
   "id": "9fb60cf4",
   "metadata": {},
   "source": [
    "# 3. Búsqueda de universidades"
   ]
  },
  {
   "cell_type": "markdown",
   "id": "e64b2ec3",
   "metadata": {},
   "source": [
    "Calcular las tres universidades más cercanas a las preferencias de usuario en base a sus proyecciones"
   ]
  },
  {
   "cell_type": "code",
   "execution_count": 11,
   "id": "86103da6",
   "metadata": {},
   "outputs": [],
   "source": [
    "recomendations = get_three_most_similar_unis(projs_dict, PROJ_USER)"
   ]
  },
  {
   "cell_type": "markdown",
   "id": "b6b0b606",
   "metadata": {},
   "source": [
    "# 4. Visualización"
   ]
  },
  {
   "cell_type": "code",
   "execution_count": 85,
   "id": "348a0f56",
   "metadata": {},
   "outputs": [
    {
     "data": {
      "image/png": "[encoded data removed]",
      "text/plain": [
       "<Figure size 576x432 with 1 Axes>"
      ]
     },
     "metadata": {
      "needs_background": "light"
     },
     "output_type": "display_data"
    }
   ],
   "source": [
    "visualizar_posiciones_hindex(recomendations)"
   ]
  },
  {
   "cell_type": "code",
   "execution_count": null,
   "id": "d8f11ab2",
   "metadata": {},
   "outputs": [],
   "source": []
  }
 ],
 "metadata": {
  "kernelspec": {
   "display_name": "Python 3 (ipykernel)",
   "language": "python",
   "name": "python3"
  },
  "language_info": {
   "codemirror_mode": {
    "name": "ipython",
    "version": 3
   },
   "file_extension": ".py",
   "mimetype": "text/x-python",
   "name": "python",
   "nbconvert_exporter": "python",
   "pygments_lexer": "ipython3",
   "version": "3.8.11"
  }
 },
 "nbformat": 4,
 "nbformat_minor": 5
}

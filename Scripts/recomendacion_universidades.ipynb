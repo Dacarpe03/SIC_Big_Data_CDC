{
 "cells": [
  {
   "cell_type": "markdown",
   "id": "4ed007f2",
   "metadata": {},
   "source": [
    "# 1. Cuestionario del alumno"
   ]
  },
  {
   "cell_type": "code",
   "execution_count": 104,
   "id": "d0b00d0f",
   "metadata": {},
   "outputs": [],
   "source": [
    "from scipy import spatial\n",
    "import numpy as np\n",
    "import math\n",
    "from itertools import islice\n",
    "\n",
    "def take(n, iterable):\n",
    "    \"\"\"Return the first n items of the iterable as a list.\"\"\"\n",
    "    return list(islice(iterable, n))"
   ]
  },
  {
   "cell_type": "code",
   "execution_count": 105,
   "id": "e07edf1e",
   "metadata": {},
   "outputs": [],
   "source": [
    "BD = \"proyecto_final\""
   ]
  },
  {
   "cell_type": "code",
   "execution_count": 106,
   "id": "291c8a1f",
   "metadata": {},
   "outputs": [],
   "source": [
    "dic_campos_bd = {\n",
    "     1: \"arte_diseno_arquitectura\",\n",
    "     2: \"agricultura_forestal\",\n",
    "     3: \"empresariales_administracion\",\n",
    "     4: \"economicas\",\n",
    "     5: \"educacion\",\n",
    "     6: \"ingenieria_tecnologia\",\n",
    "     7: \"historia_filosofia_teologia\",\n",
    "     8: \"leyes_abogacia\",\n",
    "     9: \"ciencias_salud\",\n",
    "    10: \"ciencias_naturales\",\n",
    "    11: \"ciencias_sociales\",\n",
    "    12: \"otros\",\n",
    "}\n",
    "\n",
    "dic_campos_usuario = {\n",
    "    \"arte_diseno_arquitectura\": \"Arte, diseño y arquitectura\",\n",
    "    \"agricultura_forestal\": \"Agricultura y forestal\",\n",
    "    \"empresariales_administracion\": \"Empresariales y administración\",\n",
    "    \"economicas\": \"Economía\",\n",
    "    \"educacion\": \"Educación\",\n",
    "    \"ingenieria_tecnologia\": \"Ingeniería y tecnología\",\n",
    "    \"historia_filosofia_teologia\": \"Historia, filosofía y teología\",\n",
    "    \"leyes_abogacia\": \"Leyes y abogacía\",\n",
    "    \"ciencias_salud\": \"Ciencias de la salud\",\n",
    "    \"ciencias_naturales\": \"Ciencias naturales\",\n",
    "    \"ciencias_sociales\": \"Ciencias sociales\",\n",
    "    \"otros\": \"Otros\",\n",
    "}"
   ]
  },
  {
   "cell_type": "code",
   "execution_count": 131,
   "id": "79466feb",
   "metadata": {},
   "outputs": [
    {
     "name": "stdout",
     "output_type": "stream",
     "text": [
      "Introduce el identificador de 3 campos de tu interés de mayor a menor preferencia:\n",
      "  1. Arte, diseño y arquitectura\n",
      "  2. Agricultura y forestal\n",
      "  3. Empresariales y administración\n",
      "  4. Economía\n",
      "  5. Educación\n",
      "  6. Ingeniería y tecnología\n",
      "  7. Historia, filosofía y teología\n",
      "  8. Leyes y abogacía\n",
      "  9. Ciencias de la salud\n",
      " 10. Ciencias naturales\n",
      " 11. Ciencias sociales\n",
      " 12. Otros\n",
      "\n",
      "Introduce el identificador de tu elección (0/3): 1\n",
      "    Has elegido Arte, diseño y arquitectura\n",
      "Introduce el identificador de tu elección (1/3): 7\n",
      "    Has elegido Historia, filosofía y teología\n",
      "Introduce el identificador de tu elección (2/3): 8\n",
      "    Has elegido Leyes y abogacía\n"
     ]
    }
   ],
   "source": [
    "print(\"Introduce el identificador de 3 campos de tu interés de mayor a menor preferencia:\")\n",
    "for key, value in dic_campos_bd.items():\n",
    "    print(f\"{'{:3d}'.format(key)}. {dic_campos_usuario[value]}\")\n",
    "print()\n",
    "\n",
    "completed = False\n",
    "selected_ids = []\n",
    "max_length = 3\n",
    "while not completed:\n",
    "    selection = input(f\"Introduce el identificador de tu elección ({len(selected_ids)}/{max_length}): \")\n",
    "    if selection not in selected_ids:\n",
    "        print(f\"    Has elegido {dic_campos_usuario[dic_campos_bd[int(selection)]]}\")\n",
    "        selected_ids.append(selection)\n",
    "        if len(selected_ids) == max_length:\n",
    "            completed = True\n",
    "    else:\n",
    "        print(\"    Error: Ya has escogido ese campo\")"
   ]
  },
  {
   "cell_type": "code",
   "execution_count": 132,
   "id": "34bf5db7",
   "metadata": {},
   "outputs": [
    {
     "name": "stdout",
     "output_type": "stream",
     "text": [
      "['1', '7', '8']\n"
     ]
    }
   ],
   "source": [
    "proj_usuario = [10, 5, 2, 1, 1, 1]\n",
    "print(selected_ids)"
   ]
  },
  {
   "cell_type": "markdown",
   "id": "deea0047",
   "metadata": {},
   "source": [
    "Sentencia para obtener el ranking de las universidades en los campos elegidos por el usuario"
   ]
  },
  {
   "cell_type": "code",
   "execution_count": 133,
   "id": "23a6d5ed",
   "metadata": {
    "scrolled": true
   },
   "outputs": [
    {
     "name": "stdout",
     "output_type": "stream",
     "text": [
      "+--------------------+--------------------+-------+--------+----------+\n",
      "|         nombre_univ|        nombre_campo|id_univ|id_campo|puntuacion|\n",
      "+--------------------+--------------------+-------+--------+----------+\n",
      "|Universidad Nacio...|arte_diseno_arqui...|     36|       1|         1|\n",
      "|Universidad Nacio...|historia_filosofi...|     36|       7|         4|\n",
      "|Universidad Nacio...|      leyes_abogacia|     36|       8|         5|\n",
      "|Universidad Obert...|arte_diseno_arqui...|     37|       1|         5|\n",
      "|Universidad Obert...|historia_filosofi...|     37|       7|         1|\n",
      "|Universidad Obert...|      leyes_abogacia|     37|       8|         5|\n",
      "|Universidad Polit...|arte_diseno_arqui...|     41|       1|         7|\n",
      "|Universidad Polit...|historia_filosofi...|     41|       7|         1|\n",
      "|Universidad Polit...|      leyes_abogacia|     41|       8|         0|\n",
      "|Universidad de Ba...|arte_diseno_arqui...|     57|       1|         6|\n",
      "|Universidad de Ba...|historia_filosofi...|     57|       7|        12|\n",
      "|Universidad de Ba...|      leyes_abogacia|     57|       8|        16|\n",
      "|Universidad de Gr...|arte_diseno_arqui...|     66|       1|         3|\n",
      "|Universidad de Gr...|historia_filosofi...|     66|       7|        12|\n",
      "|Universidad de Gr...|      leyes_abogacia|     66|       8|        15|\n",
      "|Universidad de Má...|arte_diseno_arqui...|     74|       1|         0|\n",
      "|Universidad de Má...|historia_filosofi...|     74|       7|         3|\n",
      "|Universidad de Má...|      leyes_abogacia|     74|       8|        11|\n",
      "|Universidad de Sa...|arte_diseno_arqui...|     77|       1|         4|\n",
      "|Universidad de Sa...|historia_filosofi...|     77|       7|        19|\n",
      "+--------------------+--------------------+-------+--------+----------+\n",
      "only showing top 20 rows\n",
      "\n"
     ]
    }
   ],
   "source": [
    "sentencia_select = f\"SELECT {BD}.universidades.nombre AS nombre_univ, {BD}.campos.nombre AS nombre_campo, {BD}.rankings.id_univ, {BD}.rankings.id_campo, {BD}.rankings.puntuacion FROM {BD}.campos\"\n",
    "sentencia_join = f\"\"\"INNER JOIN {BD}.rankings ON {BD}.campos.id = {BD}.rankings.id_campo\n",
    "                     INNER JOIN {BD}.universidades ON {BD}.universidades.id = {BD}.rankings.id_univ\"\"\"\n",
    "ids_str = ','.join(selected_ids)\n",
    "sentencia_where = f\"WHERE {BD}.campos.id IN ({','.join(selected_ids)})\"\n",
    "\n",
    "sentencia_sql = f\"\"\"{sentencia_select}\n",
    "                    {sentencia_join}\n",
    "                    {sentencia_where}\"\"\"\n",
    "\n",
    "\n",
    "rankings_df = spark.sql(sentencia_sql).fillna(0)\n",
    "rankings_df.show()"
   ]
  },
  {
   "cell_type": "code",
   "execution_count": 134,
   "id": "cfd9bdbb",
   "metadata": {},
   "outputs": [],
   "source": [
    "list_of_unis = zip(*(iter(rankings_df.collect()),) * 3)"
   ]
  },
  {
   "cell_type": "code",
   "execution_count": 135,
   "id": "e833d571",
   "metadata": {},
   "outputs": [],
   "source": [
    "unis_dict = {}\n",
    "for campo_1, campo_2, campo_3 in list_of_unis:\n",
    "    uni_dict = {campo_1['id_campo']: campo_1['puntuacion'],\n",
    "                campo_2['id_campo']: campo_2['puntuacion'],\n",
    "                campo_3['id_campo']: campo_3['puntuacion'],\n",
    "                'especialidad1': -1,\n",
    "                'especialidad2': -1,\n",
    "                'especialidad3': -1\n",
    "                }\n",
    "    unis_dict[campo_1['id_univ']] = uni_dict"
   ]
  },
  {
   "cell_type": "code",
   "execution_count": 136,
   "id": "3fc61319",
   "metadata": {},
   "outputs": [],
   "source": [
    "def calcular_especialidad(unis_dict, id_especialidad, especialidad_key):\n",
    "    sentencia_select = f\"SELECT {BD}.universidades.id AS id_univ, {BD}.universidades.nombre AS nombre_univ, {BD}.campos.nombre AS nombre_campo, COUNT(*) AS carreras FROM {BD}.campos\"\n",
    "    sentencia_join = f\"\"\"INNER JOIN {BD}.facultades ON {BD}.campos.id = {BD}.facultades.id_campo INNER JOIN {BD}.grados ON {BD}.grados.id_fac = {BD}.facultades.id INNER JOIN {BD}.universidades ON {BD}.universidades.id = {BD}.facultades.id_univ\"\"\"\n",
    "\n",
    "    ids_str = ','.join(selected_ids)\n",
    "    sentencia_where = f\"WHERE {BD}.campos.id IN ({id_especialidad})\"\n",
    "    sentencia_group_by = f\"GROUP BY {BD}.campos.nombre, {BD}.universidades.nombre, {BD}.universidades.id\"\n",
    "    sentencia_sql = f\"\"\"{sentencia_select} {sentencia_join} {sentencia_where} {sentencia_group_by} ORDER BY COUNT(*) DESC\"\"\"\n",
    "    \n",
    "    carreras_total_df = spark.sql(sentencia_sql).collect()\n",
    "    max_especialidad = carreras_total_df[0]['carreras']\n",
    "    for row in carreras_total_df:\n",
    "        id_univ = row['id_univ']\n",
    "        num_carreras = row['carreras']\n",
    "        unis_dict[id_univ][especialidad_key] = math.log(num_carreras, max_especialidad)"
   ]
  },
  {
   "cell_type": "code",
   "execution_count": 137,
   "id": "b6f8cae8",
   "metadata": {},
   "outputs": [
    {
     "name": "stdout",
     "output_type": "stream",
     "text": [
      "{36: {1: 1, 7: 4, 8: 5, 'especialidad1': -1, 'especialidad2': 0.4484876484351508, 'especialidad3': 0.35436764027111584}, 37: {1: 5, 7: 1, 8: 5, 'especialidad1': -1, 'especialidad2': -1, 'especialidad3': -1}, 41: {1: 7, 7: 1, 8: 0, 'especialidad1': 0.7586544129592989, 'especialidad2': -1, 'especialidad3': -1}, 57: {1: 6, 7: 12, 8: 16, 'especialidad1': 0.42831734103139474, 'especialidad2': 0.6295320036582305, 'especialidad3': 0.45801353078493934}, 66: {1: 3, 7: 12, 8: 15, 'especialidad1': 0.42831734103139474, 'especialidad2': 0.8537758278758059, 'especialidad3': 0.45801353078493934}, 74: {1: 0, 7: 3, 8: 11, 'especialidad1': 0.27023815442731974, 'especialidad2': 0.6727314726527263, 'especialidad3': 0.17718382013555792}, 77: {1: 4, 7: 19, 8: 18, 'especialidad1': 0.0, 'especialidad2': 0.5796618766207391, 'especialidad3': 0.35436764027111584}, 87: {1: 0, 7: 2, 8: 6, 'especialidad1': -1, 'especialidad2': -1, 'especialidad3': -1}, 8: {1: 0, 7: 0, 8: 0, 'especialidad1': 0.42831734103139474, 'especialidad2': -1, 'especialidad3': -1}, 10: {1: 2, 7: 3, 8: 5, 'especialidad1': 0.27023815442731974, 'especialidad2': 1.0, 'especialidad3': 0.28082971064938145}, 11: {1: 0, 7: 31, 8: 11, 'especialidad1': -1, 'especialidad2': 0.8760960879589352, 'especialidad3': 0.17718382013555792}, 12: {1: 1, 7: 1, 8: 0, 'especialidad1': 1.0, 'especialidad2': -1, 'especialidad3': -1}, 13: {1: 0, 7: 1, 8: 2, 'especialidad1': -1, 'especialidad2': -1, 'especialidad3': -1}, 14: {1: 1, 7: 12, 8: 11, 'especialidad1': -1, 'especialidad2': -1, 'especialidad3': 0.6922378005816024}, 16: {1: 0, 7: 0, 8: 0, 'especialidad1': 0.8107144632819592, 'especialidad2': -1, 'especialidad3': 0.4974178695665277}, 51: {1: 1, 7: 1, 8: 2, 'especialidad1': -1, 'especialidad2': -1, 'especialidad3': 0.28082971064938145}, 44: {1: 0, 7: 1, 8: 3, 'especialidad1': -1, 'especialidad2': -1, 'especialidad3': 0.0}, 18: {1: 6, 7: 86, 8: 24, 'especialidad1': 0.42831734103139474, 'especialidad2': 0.7108361048063275, 'especialidad3': 0.45801353078493934}, 2: {1: 0, 7: 0, 8: 0, 'especialidad1': -1, 'especialidad2': -1, 'especialidad3': -1}, 3: {1: 0, 7: 0, 8: 2, 'especialidad1': -1, 'especialidad2': -1, 'especialidad3': 0.45801353078493934}, 22: {1: 0, 7: 0, 8: 1, 'especialidad1': 1.0, 'especialidad2': -1, 'especialidad3': -1}, 24: {1: 0, 7: 1, 8: 0, 'especialidad1': -1, 'especialidad2': -1, 'especialidad3': -1}, 21: {1: 0, 7: 0, 8: 0, 'especialidad1': 0.0, 'especialidad2': -1, 'especialidad3': -1}, 23: {1: 0, 7: 0, 8: 0, 'especialidad1': 0.5404763088546395, 'especialidad2': -1, 'especialidad3': -1}, 26: {1: 0, 7: 1, 8: 0, 'especialidad1': -1, 'especialidad2': -1, 'especialidad3': -1}, 5: {1: 0, 7: 0, 8: 0, 'especialidad1': 0.42831734103139474, 'especialidad2': -1, 'especialidad3': -1}, 30: {1: 1, 7: 0, 8: 1, 'especialidad1': 0.0, 'especialidad2': -1, 'especialidad3': 0.0}, 32: {1: 1, 7: 1, 8: 8, 'especialidad1': -1, 'especialidad2': -1, 'especialidad3': 0.28082971064938145}, 29: {1: 0, 7: 0, 8: 0, 'especialidad1': 0.6274735630753033, 'especialidad2': -1, 'especialidad3': 0.45801353078493934}, 33: {1: 2, 7: 7, 8: 4, 'especialidad1': -1, 'especialidad2': -1, 'especialidad3': -1}, 48: {1: 1, 7: 6, 8: 13, 'especialidad1': 1.0, 'especialidad2': -1, 'especialidad3': 1.0}, 34: {1: 0, 7: 2, 8: 1, 'especialidad1': -1, 'especialidad2': -1, 'especialidad3': 0.35436764027111584}, 20: {1: 0, 7: 0, 8: 0, 'especialidad1': -1, 'especialidad2': -1, 'especialidad3': -1}, 35: {1: 0, 7: 0, 8: 0, 'especialidad1': 0.0, 'especialidad2': -1, 'especialidad3': 0.588591910067779}, 9: {1: 3, 7: 0, 8: 1, 'especialidad1': 0.8566346820627895, 'especialidad2': -1, 'especialidad3': -1}, 52: {1: 1, 7: 1, 8: 5, 'especialidad1': -1, 'especialidad2': -1, 'especialidad3': 0.28082971064938145}, 38: {1: 0, 7: 6, 8: 7, 'especialidad1': -1, 'especialidad2': -1, 'especialidad3': 0.41140808993222105}, 39: {1: 2, 7: 0, 8: 1, 'especialidad1': 0.42831734103139474, 'especialidad2': -1, 'especialidad3': -1}, 42: {1: 22, 7: 0, 8: 0, 'especialidad1': 0.8977117175026231, 'especialidad2': -1, 'especialidad3': -1}, 43: {1: 11, 7: 22, 8: 23, 'especialidad1': -1, 'especialidad2': -1, 'especialidad3': 0.28082971064938145}, 45: {1: 1, 7: 1, 8: 0, 'especialidad1': 0.42831734103139474, 'especialidad2': -1, 'especialidad3': -1}, 46: {1: 0, 7: 2, 8: 1, 'especialidad1': -1, 'especialidad2': -1, 'especialidad3': 0.17718382013555792}, 47: {1: 3, 7: 2, 8: 0, 'especialidad1': 0.42831734103139474, 'especialidad2': 0.2242438242175754, 'especialidad3': 0.17718382013555792}, 49: {1: 1, 7: 9, 8: 4, 'especialidad1': 0.0, 'especialidad2': -1, 'especialidad3': 0.35436764027111584}, 17: {1: 0, 7: 1, 8: 0, 'especialidad1': -1, 'especialidad2': 0.2242438242175754, 'especialidad3': -1}, 15: {1: 1, 7: 0, 8: 1, 'especialidad1': -1, 'especialidad2': -1, 'especialidad3': -1}, 50: {1: 0, 7: 2, 8: 2, 'especialidad1': 0.7586544129592989, 'especialidad2': -1, 'especialidad3': -1}, 40: {1: 11, 7: 4, 8: 0, 'especialidad1': 0.27023815442731974, 'especialidad2': -1, 'especialidad3': -1}, 28: {1: 0, 7: 1, 8: 0, 'especialidad1': -1, 'especialidad2': -1, 'especialidad3': -1}, 53: {1: 5, 7: 6, 8: 7, 'especialidad1': 0.5404763088546395, 'especialidad2': -1, 'especialidad3': 0.0}, 54: {1: 3, 7: 9, 8: 4, 'especialidad1': 0.27023815442731974, 'especialidad2': 0.6295320036582305, 'especialidad3': 0.0}, 55: {1: 0, 7: 0, 8: 0, 'especialidad1': -1, 'especialidad2': 0.744921859773347, 'especialidad3': 0.41140808993222105}, 56: {1: 0, 7: 0, 8: 0, 'especialidad1': -1, 'especialidad2': -1, 'especialidad3': 0.28082971064938145}, 58: {1: 0, 7: 2, 8: 1, 'especialidad1': -1, 'especialidad2': -1, 'especialidad3': 0.28082971064938145}, 61: {1: 1, 7: 15, 8: 13, 'especialidad1': -1, 'especialidad2': 0.6727314726527263, 'especialidad3': 0.28082971064938145}, 59: {1: 2, 7: 13, 8: 2, 'especialidad1': -1, 'especialidad2': 0.2242438242175754, 'especialidad3': 0.17718382013555792}, 60: {1: 1, 7: 4, 8: 7, 'especialidad1': 0.27023815442731974, 'especialidad2': -1, 'especialidad3': 0.588591910067779}, 62: {1: 1, 7: 7, 8: 6, 'especialidad1': -1, 'especialidad2': 0.6295320036582305, 'especialidad3': -1}, 63: {1: 1, 7: 2, 8: 4, 'especialidad1': -1, 'especialidad2': -1, 'especialidad3': 0.17718382013555792}, 64: {1: 1, 7: 7, 8: 3, 'especialidad1': -1, 'especialidad2': 0.6727314726527263, 'especialidad3': 0.28082971064938145}, 65: {1: 0, 7: 2, 8: 8, 'especialidad1': -1, 'especialidad2': -1, 'especialidad3': 0.28082971064938145}, 67: {1: 0, 7: 12, 8: 6, 'especialidad1': -1, 'especialidad2': -1, 'especialidad3': 0.0}, 68: {1: 0, 7: 5, 8: 4, 'especialidad1': -1, 'especialidad2': -1, 'especialidad3': 0.4974178695665277}, 69: {1: 2, 7: 9, 8: 1, 'especialidad1': 0.42831734103139474, 'especialidad2': -1, 'especialidad3': 0.17718382013555792}, 84: {1: 1, 7: 4, 8: 2, 'especialidad1': -1, 'especialidad2': -1, 'especialidad3': 0.28082971064938145}, 70: {1: 1, 7: 9, 8: 5, 'especialidad1': 0.0, 'especialidad2': 0.2242438242175754, 'especialidad3': 0.28082971064938145}, 71: {1: 0, 7: 1, 8: 2, 'especialidad1': -1, 'especialidad2': 0.5796618766207391, 'especialidad3': 0.0}, 72: {1: 0, 7: 3, 8: 2, 'especialidad1': -1, 'especialidad2': -1, 'especialidad3': 0.28082971064938145}, 7: {1: 0, 7: 0, 8: 0, 'especialidad1': -1, 'especialidad2': -1, 'especialidad3': -1}, 73: {1: 2, 7: 18, 8: 5, 'especialidad1': 0.0, 'especialidad2': 0.0, 'especialidad3': 0.28082971064938145}, 75: {1: 3, 7: 15, 8: 11, 'especialidad1': 0.27023815442731974, 'especialidad2': 0.4484876484351508, 'especialidad3': 0.17718382013555792}, 76: {1: 4, 7: 3, 8: 16, 'especialidad1': -1, 'especialidad2': 0.7108361048063275, 'especialidad3': 0.0}, 78: {1: 4, 7: 20, 8: 10, 'especialidad1': -1, 'especialidad2': 0.4484876484351508, 'especialidad3': 0.17718382013555792}, 79: {1: 16, 7: 32, 8: 19, 'especialidad1': 0.42831734103139474, 'especialidad2': 0.6295320036582305, 'especialidad3': 0.17718382013555792}, 85: {1: 1, 7: 8, 8: 2, 'especialidad1': -1, 'especialidad2': 0.6727314726527263, 'especialidad3': 0.35436764027111584}, 86: {1: 1, 7: 14, 8: 7, 'especialidad1': 0.5404763088546395, 'especialidad2': -1, 'especialidad3': 0.28082971064938145}, 88: {1: 1, 7: 18, 8: 17, 'especialidad1': -1, 'especialidad2': 0.4484876484351508, 'especialidad3': 0.28082971064938145}, 80: {1: 10, 7: 17, 8: 7, 'especialidad1': 0.0, 'especialidad2': 0.744921859773347, 'especialidad3': 0.4974178695665277}, 81: {1: 0, 7: 2, 8: 0, 'especialidad1': 0.5404763088546395, 'especialidad2': -1, 'especialidad3': -1}, 82: {1: 0, 7: 3, 8: 1, 'especialidad1': 0.0, 'especialidad2': 0.0, 'especialidad3': 0.35436764027111584}, 83: {1: 9, 7: 15, 8: 15, 'especialidad1': 0.8566346820627895, 'especialidad2': 0.744921859773347, 'especialidad3': 0.0}, 4: {1: 1, 7: 0, 8: 0, 'especialidad1': -1, 'especialidad2': -1, 'especialidad3': -1}, 1: {1: 1, 7: 0, 8: 0, 'especialidad1': -1, 'especialidad2': -1, 'especialidad3': 0.5315514604066737}, 27: {1: 0, 7: 0, 8: 0, 'especialidad1': -1, 'especialidad2': -1, 'especialidad3': -1}, 25: {1: 0, 7: 0, 8: 1, 'especialidad1': -1, 'especialidad2': -1, 'especialidad3': -1}, 6: {1: 0, 7: 1, 8: 0, 'especialidad1': -1, 'especialidad2': -1, 'especialidad3': 0.6129553096878929}, 31: {1: 0, 7: 0, 8: 0, 'especialidad1': -1, 'especialidad2': -1, 'especialidad3': -1}, 19: {1: 0, 7: 0, 8: 0, 'especialidad1': -1, 'especialidad2': -1, 'especialidad3': -1}}\n"
     ]
    }
   ],
   "source": [
    "calcular_especialidad(unis_dict, selected_ids[0], 'especialidad1')\n",
    "calcular_especialidad(unis_dict, selected_ids[1], 'especialidad2')\n",
    "calcular_especialidad(unis_dict, selected_ids[2], 'especialidad3')\n",
    "print(unis_dict)"
   ]
  },
  {
   "cell_type": "code",
   "execution_count": 164,
   "id": "bcdfc210",
   "metadata": {},
   "outputs": [],
   "source": [
    "def calculate_uni_projection(uni_dict, selected_ids):\n",
    "    \"\"\"\n",
    "    \"\"\"\n",
    "    total_investigators = 0\n",
    "    for investigators in uni_dict.values():\n",
    "        total_investigators += investigators\n",
    "    \n",
    "    if total_investigators == 0:\n",
    "        return [-100, -100, -100, -1, -1, -1]\n",
    "    # For each field, ordered by user preference, calculate the percentage of total investigators\n",
    "    \n",
    "    kv_pairs = take(3, uni_dict.items())\n",
    "    sub_dict = {}\n",
    "    for k, v in kv_pairs:\n",
    "        sub_dict[k] = v\n",
    "    ordered_dict = sorted(sub_dict.items(), key=lambda x:x[1], reverse=True)\n",
    "    punctuations_dict = {}\n",
    "    \n",
    "    \n",
    "    if ordered_dict[0][1] == 0:\n",
    "        print(sub_dict)\n",
    "        punctuations_dict[ordered_dict[0][0]] = -100\n",
    "    else:\n",
    "        punctuations_dict[ordered_dict[0][0]] = 10\n",
    "    \n",
    "    if ordered_dict[1][1] == 0:\n",
    "        punctuations_dict[ordered_dict[1][0]] = -100\n",
    "    else:\n",
    "        punctuations_dict[ordered_dict[1][0]] = 5\n",
    "    \n",
    "    if ordered_dict[2][1] == 0:\n",
    "        punctuations_dict[ordered_dict[2][0]] = -100\n",
    "    else:\n",
    "        punctuations_dict[ordered_dict[2][0]] = 2\n",
    "    \n",
    "    uni_proj = []\n",
    "    for campo in selected_ids:\n",
    "        percentage = uni_dict[int(campo)]\n",
    "        uni_proj.append(punctuations_dict[int(campo)])\n",
    "    uni_proj.append(uni_dict['especialidad1'])\n",
    "    uni_proj.append(uni_dict['especialidad2'])\n",
    "    uni_proj.append(uni_dict['especialidad3']) \n",
    "        \n",
    "    return uni_proj"
   ]
  },
  {
   "cell_type": "code",
   "execution_count": 168,
   "id": "9c637b29",
   "metadata": {},
   "outputs": [
    {
     "data": {
      "text/plain": [
       "[-100, -100, -100, 0.42831734103139474, -1, -1]"
      ]
     },
     "execution_count": 168,
     "metadata": {},
     "output_type": "execute_result"
    }
   ],
   "source": [
    "projs_dict[8]"
   ]
  },
  {
   "cell_type": "code",
   "execution_count": 167,
   "id": "4d1f536e",
   "metadata": {},
   "outputs": [
    {
     "name": "stdout",
     "output_type": "stream",
     "text": [
      "36\n",
      "37\n",
      "41\n",
      "57\n",
      "66\n",
      "74\n",
      "77\n",
      "87\n",
      "8\n",
      "{1: 0, 7: 0, 8: 0}\n",
      "10\n",
      "11\n",
      "12\n",
      "13\n",
      "14\n",
      "16\n",
      "{1: 0, 7: 0, 8: 0}\n",
      "51\n",
      "44\n",
      "18\n",
      "2\n",
      "{1: 0, 7: 0, 8: 0}\n",
      "3\n",
      "22\n",
      "24\n",
      "21\n",
      "{1: 0, 7: 0, 8: 0}\n",
      "23\n",
      "{1: 0, 7: 0, 8: 0}\n",
      "26\n",
      "5\n",
      "{1: 0, 7: 0, 8: 0}\n",
      "30\n",
      "32\n",
      "29\n",
      "{1: 0, 7: 0, 8: 0}\n",
      "33\n",
      "48\n",
      "34\n",
      "20\n",
      "{1: 0, 7: 0, 8: 0}\n",
      "35\n",
      "{1: 0, 7: 0, 8: 0}\n",
      "9\n",
      "52\n",
      "38\n",
      "39\n",
      "42\n",
      "43\n",
      "45\n",
      "46\n",
      "47\n",
      "49\n",
      "17\n",
      "15\n",
      "50\n",
      "40\n",
      "28\n",
      "53\n",
      "54\n",
      "55\n",
      "{1: 0, 7: 0, 8: 0}\n",
      "56\n",
      "{1: 0, 7: 0, 8: 0}\n",
      "58\n",
      "61\n",
      "59\n",
      "60\n",
      "62\n",
      "63\n",
      "64\n",
      "65\n",
      "67\n",
      "68\n",
      "69\n",
      "84\n",
      "70\n",
      "71\n",
      "72\n",
      "7\n",
      "{1: 0, 7: 0, 8: 0}\n",
      "73\n",
      "75\n",
      "76\n",
      "78\n",
      "79\n",
      "85\n",
      "86\n",
      "88\n",
      "80\n",
      "81\n",
      "82\n",
      "83\n",
      "4\n",
      "1\n",
      "27\n",
      "{1: 0, 7: 0, 8: 0}\n",
      "25\n",
      "6\n",
      "31\n",
      "{1: 0, 7: 0, 8: 0}\n",
      "19\n",
      "{1: 0, 7: 0, 8: 0}\n",
      "{36: [2, 5, 10, -1, 0.4484876484351508, 0.35436764027111584], 37: [10, 2, 5, -1, -1, -1], 41: [10, 5, -100, 0.7586544129592989, -1, -1], 57: [2, 5, 10, 0.42831734103139474, 0.6295320036582305, 0.45801353078493934], 66: [2, 5, 10, 0.42831734103139474, 0.8537758278758059, 0.45801353078493934], 74: [-100, 5, 10, 0.27023815442731974, 0.6727314726527263, 0.17718382013555792], 77: [2, 10, 5, 0.0, 0.5796618766207391, 0.35436764027111584], 87: [-100, 5, 10, -1, -1, -1], 8: [-100, -100, -100, 0.42831734103139474, -1, -1], 10: [2, 5, 10, 0.27023815442731974, 1.0, 0.28082971064938145], 11: [-100, 10, 5, -1, 0.8760960879589352, 0.17718382013555792], 12: [10, 5, -100, 1.0, -1, -1], 13: [-100, -100, -100, -1, -1, -1], 14: [2, 10, 5, -1, -1, 0.6922378005816024], 16: [-100, -100, -100, 0.8107144632819592, -1, 0.4974178695665277], 51: [5, 2, 10, -1, -1, 0.28082971064938145], 44: [-100, 5, 10, -1, -1, 0.0], 18: [2, 10, 5, 0.42831734103139474, 0.7108361048063275, 0.45801353078493934], 2: [-100, -100, -100, -1, -1, -1], 3: [-100, -100, 10, -1, -1, 0.45801353078493934], 22: [-100, -100, -100, -1, -1, -1], 24: [-100, 10, -100, -1, -1, -1], 21: [-100, -100, -100, 0.0, -1, -1], 23: [-100, -100, -100, 0.5404763088546395, -1, -1], 26: [-100, 10, -100, -1, -1, -1], 5: [-100, -100, -100, 0.42831734103139474, -1, -1], 30: [10, -100, 5, 0.0, -1, 0.0], 32: [5, 2, 10, -1, -1, 0.28082971064938145], 29: [-100, -100, -100, 0.6274735630753033, -1, 0.45801353078493934], 33: [2, 10, 5, -1, -1, -1], 48: [2, 5, 10, 1.0, -1, 1.0], 34: [-100, 10, 5, -1, -1, 0.35436764027111584], 20: [-100, -100, -100, -1, -1, -1], 35: [-100, -100, -100, 0.0, -1, 0.588591910067779], 9: [10, -100, 5, 0.8566346820627895, -1, -1], 52: [5, 2, 10, -1, -1, 0.28082971064938145], 38: [-100, 5, 10, -1, -1, 0.41140808993222105], 39: [10, -100, 5, 0.42831734103139474, -1, -1], 42: [10, -100, -100, 0.8977117175026231, -1, -1], 43: [2, 5, 10, -1, -1, 0.28082971064938145], 45: [10, 5, -100, 0.42831734103139474, -1, -1], 46: [-100, 10, 5, -1, -1, 0.17718382013555792], 47: [10, 5, -100, 0.42831734103139474, 0.2242438242175754, 0.17718382013555792], 49: [2, 10, 5, 0.0, -1, 0.35436764027111584], 17: [-100, 10, -100, -1, 0.2242438242175754, -1], 15: [10, -100, 5, -1, -1, -1], 50: [-100, 10, 5, 0.7586544129592989, -1, -1], 40: [10, 5, -100, 0.27023815442731974, -1, -1], 28: [-100, 10, -100, -1, -1, -1], 53: [2, 5, 10, 0.5404763088546395, -1, 0.0], 54: [2, 10, 5, 0.27023815442731974, 0.6295320036582305, 0.0], 55: [-100, -100, -100, -1, 0.744921859773347, 0.41140808993222105], 56: [-100, -100, -100, -1, -1, 0.28082971064938145], 58: [-100, 10, 5, -1, -1, 0.28082971064938145], 61: [2, 10, 5, -1, 0.6727314726527263, 0.28082971064938145], 59: [5, 10, 2, -1, 0.2242438242175754, 0.17718382013555792], 60: [2, 5, 10, 0.27023815442731974, -1, 0.588591910067779], 62: [2, 10, 5, -1, 0.6295320036582305, -1], 63: [2, 5, 10, -1, -1, 0.17718382013555792], 64: [2, 10, 5, -1, 0.6727314726527263, 0.28082971064938145], 65: [-100, 5, 10, -1, -1, 0.28082971064938145], 67: [-100, 10, 5, -1, -1, 0.0], 68: [-100, 10, 5, -1, -1, 0.4974178695665277], 69: [5, 10, 2, 0.42831734103139474, -1, 0.17718382013555792], 84: [2, 10, 5, -1, -1, 0.28082971064938145], 70: [2, 10, 5, 0.0, 0.2242438242175754, 0.28082971064938145], 71: [-100, 5, 10, -1, 0.5796618766207391, 0.0], 72: [-100, 10, 5, -1, -1, 0.28082971064938145], 7: [-100, -100, -100, -1, -1, -1], 73: [2, 10, 5, 0.0, 0.0, 0.28082971064938145], 75: [2, 10, 5, 0.27023815442731974, 0.4484876484351508, 0.17718382013555792], 76: [5, 2, 10, -1, 0.7108361048063275, 0.0], 78: [2, 10, 5, -1, 0.4484876484351508, 0.17718382013555792], 79: [2, 10, 5, 0.42831734103139474, 0.6295320036582305, 0.17718382013555792], 85: [2, 10, 5, -1, 0.6727314726527263, 0.35436764027111584], 86: [2, 10, 5, 0.5404763088546395, -1, 0.28082971064938145], 88: [2, 10, 5, -1, 0.4484876484351508, 0.28082971064938145], 80: [5, 10, 2, 0.0, 0.744921859773347, 0.4974178695665277], 81: [-100, 10, -100, 0.5404763088546395, -1, -1], 82: [-100, 10, 5, 0.0, 0.0, 0.35436764027111584], 83: [2, 10, 5, 0.8566346820627895, 0.744921859773347, 0.0], 4: [10, -100, -100, -1, -1, -1], 1: [10, -100, -100, -1, -1, 0.5315514604066737], 27: [-100, -100, -100, -1, -1, -1], 25: [-100, -100, 10, -1, -1, -1], 6: [-100, 10, -100, -1, -1, 0.6129553096878929], 31: [-100, -100, -100, -1, -1, -1], 19: [-100, -100, -100, -1, -1, -1]}\n"
     ]
    }
   ],
   "source": [
    "projs_dict = {}\n",
    "for key, value in unis_dict.items():\n",
    "    print(key)\n",
    "    projs_dict[key] = calculate_uni_projection(value, selected_ids)\n",
    "print(projs_dict)"
   ]
  },
  {
   "cell_type": "code",
   "execution_count": 170,
   "id": "e8109460",
   "metadata": {},
   "outputs": [],
   "source": [
    "def get_three_most_similar_unis(projs_dict, proj_user):\n",
    "    \"\"\"\n",
    "        Searches for the three most similar unis to the user preferences\n",
    "    \"\"\"\n",
    "    np_user_proj = np.array(proj_user)\n",
    "    similarities_dict = {}\n",
    "    for uni_key, proj in projs_dict.items():\n",
    "        np_uni_proj = np.array(proj)\n",
    "        similarities_dict[uni_key] = np.linalg.norm(np_user_proj-np_uni_proj)\n",
    "        \n",
    "    similarities_ordered = sorted(similarities_dict.items(), key=lambda x:x[1])\n",
    "    return similarities_ordered[:3]"
   ]
  },
  {
   "cell_type": "code",
   "execution_count": 171,
   "id": "86103da6",
   "metadata": {},
   "outputs": [
    {
     "name": "stdout",
     "output_type": "stream",
     "text": [
      "[(37, 5.477225575051661), (80, 7.163634109546113), (69, 7.416457882871859)]\n"
     ]
    }
   ],
   "source": [
    "recomendations = get_three_most_similar_unis(projs_dict, proj_usuario)\n",
    "print(recomendations)"
   ]
  },
  {
   "cell_type": "code",
   "execution_count": 172,
   "id": "39534348",
   "metadata": {},
   "outputs": [
    {
     "name": "stdout",
     "output_type": "stream",
     "text": [
      "SELECT proyecto_final.universidades.nombre AS nombre_univ, proyecto_final.campos.nombre AS nombre_campo, proyecto_final.rankings.id_univ, proyecto_final.rankings.id_campo, proyecto_final.rankings.puntuacion FROM proyecto_final.campos\n",
      "                    INNER JOIN proyecto_final.rankings ON proyecto_final.campos.id = proyecto_final.rankings.id_campo\n",
      "                     INNER JOIN proyecto_final.universidades ON proyecto_final.universidades.id = proyecto_final.rankings.id_univ\n",
      "                    WHERE proyecto_final.campos.id IN (1,7,8)\n"
     ]
    }
   ],
   "source": [
    "print(sentencia_sql)"
   ]
  },
  {
   "cell_type": "code",
   "execution_count": 173,
   "id": "b34345a6",
   "metadata": {},
   "outputs": [
    {
     "ename": "SyntaxError",
     "evalue": "invalid syntax (3252934731.py, line 2)",
     "output_type": "error",
     "traceback": [
      "\u001b[0;36m  File \u001b[0;32m\"/tmp/ipykernel_9599/3252934731.py\"\u001b[0;36m, line \u001b[0;32m2\u001b[0m\n\u001b[0;31m    SELECT universidades.nombre AS nombre_univ, campos.nombre AS nombre_campo, COUNT(*) AS carreras FROM campos INNER JOIN facultades ON campos.id = facultades.id_campo INNER JOIN grados ON grados.id_fac = facultades.id INNER JOIN universidades ON universidades.id = facultades.id_univ WHERE campos.id IN (4,5,11) GROUP BY campos.nombre, universidades.nombre\u001b[0m\n\u001b[0m           ^\u001b[0m\n\u001b[0;31mSyntaxError\u001b[0m\u001b[0;31m:\u001b[0m invalid syntax\n"
     ]
    }
   ],
   "source": [
    "\n",
    "print(sentencia_sql)\n",
    "SELECT universidades.nombre AS nombre_univ, campos.nombre AS nombre_campo, COUNT(*) AS carreras FROM campos INNER JOIN facultades ON campos.id = facultades.id_campo INNER JOIN grados ON grados.id_fac = facultades.id INNER JOIN universidades ON universidades.id = facultades.id_univ WHERE campos.id IN (4,5,11) GROUP BY campos.nombre, universidades.nombre"
   ]
  },
  {
   "cell_type": "code",
   "execution_count": 174,
   "id": "dd31f026",
   "metadata": {},
   "outputs": [
    {
     "ename": "SyntaxError",
     "evalue": "invalid syntax (198619458.py, line 1)",
     "output_type": "error",
     "traceback": [
      "\u001b[0;36m  File \u001b[0;32m\"/tmp/ipykernel_9599/198619458.py\"\u001b[0;36m, line \u001b[0;32m1\u001b[0m\n\u001b[0;31m    SELECT universidades.nombre AS nombre_univ, campos.nombre AS nombre_campo, rankings.id_univ, rankings.id_campo, rankings.puntuacion FROM campos INNER JOIN rankings ON campos.id = rankings.id_campo INNER JOIN universidades ON universidades.id = rankings.id_univ WHERE campos.id IN (4,5,11)\u001b[0m\n\u001b[0m           ^\u001b[0m\n\u001b[0;31mSyntaxError\u001b[0m\u001b[0;31m:\u001b[0m invalid syntax\n"
     ]
    }
   ],
   "source": [
    "SELECT universidades.nombre AS nombre_univ, campos.nombre AS nombre_campo, rankings.id_univ, rankings.id_campo, rankings.puntuacion FROM campos INNER JOIN rankings ON campos.id = rankings.id_campo INNER JOIN universidades ON universidades.id = rankings.id_univ WHERE campos.id IN (4,5,11)"
   ]
  },
  {
   "cell_type": "code",
   "execution_count": null,
   "id": "859c5f6e",
   "metadata": {},
   "outputs": [],
   "source": []
  },
  {
   "cell_type": "code",
   "execution_count": null,
   "id": "4d01b46a",
   "metadata": {},
   "outputs": [],
   "source": []
  }
 ],
 "metadata": {
  "kernelspec": {
   "display_name": "Python 3 (ipykernel)",
   "language": "python",
   "name": "python3"
  },
  "language_info": {
   "codemirror_mode": {
    "name": "ipython",
    "version": 3
   },
   "file_extension": ".py",
   "mimetype": "text/x-python",
   "name": "python",
   "nbconvert_exporter": "python",
   "pygments_lexer": "ipython3",
   "version": "3.8.11"
  }
 },
 "nbformat": 4,
 "nbformat_minor": 5
}

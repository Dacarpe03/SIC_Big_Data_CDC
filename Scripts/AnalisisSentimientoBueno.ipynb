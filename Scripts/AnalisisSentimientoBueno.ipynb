{
 "cells": [
  {
   "cell_type": "code",
   "execution_count": 147,
   "id": "cc014fbd",
   "metadata": {},
   "outputs": [],
   "source": [
    "import pandas as pd\n",
    "import matplotlib.pyplot as plt\n",
    "\n",
    "from pyspark.sql.functions import monotonically_increasing_id"
   ]
  },
  {
   "cell_type": "code",
   "execution_count": 148,
   "id": "f4bfe742",
   "metadata": {},
   "outputs": [
    {
     "data": {
      "text/plain": [
       "Row(user='vazquezsue', mensaje='La Universidad de Murcia se enorgullece de su compromiso social, pero la falta de diversidad y representación en el cuerpo docente y estudiantil es una preocupación. #UMU #FaltaDeDiversidad', likes='413')"
      ]
     },
     "execution_count": 148,
     "metadata": {},
     "output_type": "execute_result"
    }
   ],
   "source": [
    "TweetsDf.head()"
   ]
  },
  {
   "cell_type": "markdown",
   "id": "e0c168fa",
   "metadata": {},
   "source": [
    "Algoritmo usando SparkMlib"
   ]
  },
  {
   "cell_type": "code",
   "execution_count": 149,
   "id": "eb75de62",
   "metadata": {},
   "outputs": [],
   "source": [
    "from pyspark.sql import SparkSession\n",
    "from pyspark.ml import Pipeline\n",
    "from pyspark.ml.feature import HashingTF, Tokenizer\n",
    "from pyspark.ml.classification import LogisticRegression\n",
    "from pyspark.sql.functions import udf\n",
    "from pyspark.sql.types import IntegerType\n",
    "from pyspark.ml.evaluation import BinaryClassificationEvaluator, MulticlassClassificationEvaluator\n",
    "from pyspark.ml.tuning import ParamGridBuilder, CrossValidator"
   ]
  },
  {
   "cell_type": "code",
   "execution_count": 150,
   "id": "366d1c9a",
   "metadata": {},
   "outputs": [],
   "source": [
    "# Palabras clave para tweets positivos y negativos\n",
    "palabras_clave_positivas = [\"privilegio\", \"maravilloso\", \"increíble\", \"genial\", \"emocionado\",\"calidad\"\n",
    "                           ,\"diversidad\",\"paradisíacas\",\"crecimiento\",\"amigable\",\"ideal\",\"acogedora\",\"innovador\",\"emprendimiento\",\n",
    "                           \"evolución\",\"innovadores\",\"emprendedor\",\"excelencia\",\"enriquecedora\",\"oasis\",\"enriquecedora\",\"placentera\",\n",
    "                           \"brillante\",\"belleza\",\"tesoro\",\"inspiran\",\"joya\",\"fascinado\"]\n",
    "\n",
    "\n",
    "\n",
    "\n",
    "palabras_clave_negativas = [\"triste\", \"decepcionado\", \"odio\", \"mal\", \"falta\",\"desfasados\",\"incompetencia\",\"carece\",\n",
    "                            \"corrupción\",\"indignado\",\"pesadilla\",\"deficiente\",\"discriminación\",\"competitivo\",\"muere\",\n",
    "                            \"desigualdad\",\"tortura\",\"desalentadora\",\"monotonía\"]"
   ]
  },
  {
   "cell_type": "code",
   "execution_count": 151,
   "id": "5c65b00e",
   "metadata": {},
   "outputs": [],
   "source": [
    "# Función para asignar valor 1 si el mensaje contiene palabras clave positivas, 0 si contiene palabras clave negativas, y -1 si no contiene ninguna palabra clave\n",
    "def clasificar_mensaje(mensaje):\n",
    "    for palabra in palabras_clave_positivas:\n",
    "        if palabra in mensaje:\n",
    "            return 1\n",
    "    for palabra in palabras_clave_negativas:\n",
    "        if palabra in mensaje:\n",
    "            return 0\n",
    "    return -1"
   ]
  },
  {
   "cell_type": "code",
   "execution_count": 152,
   "id": "23d6b1df",
   "metadata": {},
   "outputs": [],
   "source": [
    "# Crear una sesión de Spark\n",
    "spark = SparkSession.builder.appName(\"ClasificadorMensajes\").getOrCreate()\n",
    "\n",
    "\n",
    "ruta_archivo = \"file:///home/student/Downloads/tweetsMejorado-2.csv\"\n",
    "df = spark.read.csv(ruta_archivo, header=True, inferSchema=True)\n"
   ]
  },
  {
   "cell_type": "code",
   "execution_count": 153,
   "id": "4d239431",
   "metadata": {},
   "outputs": [],
   "source": [
    "udf_clasificar_mensaje = udf(clasificar_mensaje, IntegerType())\n"
   ]
  },
  {
   "cell_type": "code",
   "execution_count": 154,
   "id": "cc2435d5",
   "metadata": {},
   "outputs": [
    {
     "name": "stdout",
     "output_type": "stream",
     "text": [
      "+-----------------+--------------------+-----+-------------+\n",
      "|             user|             mensaje|likes|clasificacion|\n",
      "+-----------------+--------------------+-----+-------------+\n",
      "|       vazquezsue|La Universidad de...|  413|            1|\n",
      "|    samanthasmith|En la Universidad...|  929|            0|\n",
      "|alexanderreynolds|La Universidad de...|  932|            1|\n",
      "|        connielee|En la Universitat...|  395|            0|\n",
      "|   zacharyjackson|La Universidad de...|  119|            0|\n",
      "+-----------------+--------------------+-----+-------------+\n",
      "only showing top 5 rows\n",
      "\n"
     ]
    }
   ],
   "source": [
    "# Agregar la nueva columna de clasificación al DataFrame\n",
    "df = df.withColumn(\"clasificacion\", udf_clasificar_mensaje(df[\"mensaje\"]))\n",
    "\n",
    "# Mostrar el DataFrame resultante\n",
    "df.show(5)"
   ]
  },
  {
   "cell_type": "code",
   "execution_count": 155,
   "id": "9611f3bc",
   "metadata": {},
   "outputs": [],
   "source": [
    "# Mostrar las primeras 5 filas del DataFrame, mostrando solo las columnas 'usuario', 'mensaje' y 'clasificacion'\n"
   ]
  },
  {
   "cell_type": "code",
   "execution_count": 156,
   "id": "fb410996",
   "metadata": {},
   "outputs": [
    {
     "name": "stdout",
     "output_type": "stream",
     "text": [
      "                user                                            mensaje  \\\n",
      "0         vazquezsue  La Universidad de Murcia se enorgullece de su ...   \n",
      "1      samanthasmith  En la Universidad de Barcelona no solo encuent...   \n",
      "2  alexanderreynolds  La Universidad de Santiago de Compostela es un...   \n",
      "3          connielee  En la Universitat de Lleida no solo encuentro ...   \n",
      "4     zacharyjackson  La Universidad de Jaén es una institución que ...   \n",
      "\n",
      "   likes  clasificacion  \n",
      "0    413              1  \n",
      "1    929              0  \n",
      "2    932              1  \n",
      "3    395              0  \n",
      "4    119              0  \n"
     ]
    }
   ],
   "source": [
    "df_pandas = df.toPandas()\n",
    "\n",
    "# Ahora df_pandas es un DataFrame de pandas\n",
    "print(df_pandas.head())"
   ]
  },
  {
   "cell_type": "code",
   "execution_count": 157,
   "id": "edb1c6c0",
   "metadata": {},
   "outputs": [
    {
     "name": "stdout",
     "output_type": "stream",
     "text": [
      "La Universitat Pompeu Fabra es un tesoro académico. Sus campus llenos de historia, su compromiso con la sostenibilidad y el ambiente acogedor hacen que estudiar aquí sea una experiencia inolvidable. #UPF #UniversidadSostenible\n"
     ]
    }
   ],
   "source": [
    "primera_fila = df_pandas.iloc[555]['mensaje']\n",
    "# Mostrar la primera fila\n",
    "print(primera_fila)"
   ]
  },
  {
   "cell_type": "code",
   "execution_count": 158,
   "id": "6fe09c34",
   "metadata": {},
   "outputs": [
    {
     "name": "stdout",
     "output_type": "stream",
     "text": [
      "1\n"
     ]
    }
   ],
   "source": [
    "primera_fila = df_pandas.iloc[555]['clasificacion']\n",
    "# Mostrar la primera fila\n",
    "print(primera_fila)"
   ]
  },
  {
   "cell_type": "code",
   "execution_count": 159,
   "id": "bae3def2",
   "metadata": {},
   "outputs": [
    {
     "name": "stdout",
     "output_type": "stream",
     "text": [
      "Empty DataFrame\n",
      "Columns: [user, mensaje, likes, clasificacion]\n",
      "Index: []\n"
     ]
    }
   ],
   "source": [
    "filas_con_clasificacion_negativa = df_pandas[df_pandas['clasificacion'] == -1]\n",
    "\n",
    "# Mostrar las filas con clasificacion igual a -1\n",
    "print(filas_con_clasificacion_negativa)#-->NO HAY SIN CLASIFICAR"
   ]
  },
  {
   "cell_type": "code",
   "execution_count": 160,
   "id": "8c1e6db1",
   "metadata": {},
   "outputs": [
    {
     "name": "stdout",
     "output_type": "stream",
     "text": [
      "+-----------------+--------------------+-----+-------------+\n",
      "|             user|             mensaje|likes|clasificacion|\n",
      "+-----------------+--------------------+-----+-------------+\n",
      "|       vazquezsue|La Universidad de...|  413|            1|\n",
      "|    samanthasmith|En la Universidad...|  929|            0|\n",
      "|alexanderreynolds|La Universidad de...|  932|            1|\n",
      "|        connielee|En la Universitat...|  395|            0|\n",
      "|   zacharyjackson|La Universidad de...|  119|            0|\n",
      "|         reedtony|En la Universidad...|  579|            0|\n",
      "|      vcunningham|Estudiar en la Un...|  681|            1|\n",
      "|            jyang|En la Universitat...|  988|            0|\n",
      "|    warnerrichard|En la Universidad...|  861|            1|\n",
      "|             jlee|La Universidad de...|   15|            0|\n",
      "|         jeremy09|¡La Universidad d...|  209|            1|\n",
      "|          paula26|La Universitat de...|  493|            1|\n",
      "|         brettkim|En la Universidad...|  247|            1|\n",
      "|       irasmussen|La Universidad de...|  909|            0|\n",
      "|        lferguson|En la Universitat...|  192|            0|\n",
      "|           luis12|En la Universidad...|  667|            1|\n",
      "|         jeanne36|Estudiar en la Un...|   45|            0|\n",
      "|          zpowell|La Universidad Co...|   22|            0|\n",
      "|           ibooth|En la Universidad...|  614|            0|\n",
      "|            hwood|La Universidad de...|   29|            1|\n",
      "+-----------------+--------------------+-----+-------------+\n",
      "only showing top 20 rows\n",
      "\n"
     ]
    }
   ],
   "source": [
    "# Crear una sesión de Spark\n",
    "spark = SparkSession.builder.appName(\"Conversion\").getOrCreate()\n",
    "# Crear un DataFrame de PySpark a partir del DataFrame de pandas\n",
    "df_spark = spark.createDataFrame(df_pandas)\n",
    "# Ahora df_spark es un DataFrame de PySpark\n",
    "df_spark.show()"
   ]
  },
  {
   "cell_type": "markdown",
   "id": "2496e169",
   "metadata": {},
   "source": [
    "# Modelo"
   ]
  },
  {
   "cell_type": "code",
   "execution_count": 161,
   "id": "c1fc7c79",
   "metadata": {},
   "outputs": [],
   "source": [
    "spark = SparkSession.builder.appName(\"MLPipeline\").getOrCreate()\n",
    "train_data, test_data = df_spark.randomSplit([0.8, 0.2], seed=42)"
   ]
  },
  {
   "cell_type": "code",
   "execution_count": 162,
   "id": "0cec7afa",
   "metadata": {},
   "outputs": [
    {
     "name": "stdout",
     "output_type": "stream",
     "text": [
      "Contenido del conjunto de prueba (test_data):\n",
      "+-----------------+--------------------+-----+\n",
      "|             user|             mensaje|likes|\n",
      "+-----------------+--------------------+-----+\n",
      "|alexanderreynolds|La Universidad de...|  932|\n",
      "|         andrea37|La Universidad de...|  498|\n",
      "|         andrew17|¡La Universidad d...|  240|\n",
      "|            bluna|Estudiar en la Un...|  621|\n",
      "|          brian53|La Universidad Au...|  171|\n",
      "|    burgesssandra|En la Universidad...|  159|\n",
      "|       cristina87|Estudiar en la Un...|  949|\n",
      "|     debbienguyen|En la Universidad...|  758|\n",
      "|     edwardslaura|En la Universitat...|  558|\n",
      "|    emilywilliams|¡La Universidad d...|  896|\n",
      "|    erikabartlett|La Universitat de...|  570|\n",
      "|           eyoung|¡La Universidad d...|   15|\n",
      "|        foleytara|La Universidad de...|  183|\n",
      "|         ginacarr|La Universidad de...|  919|\n",
      "|            hwood|La Universidad de...|   29|\n",
      "|         jeanne36|Estudiar en la Un...|   45|\n",
      "|     josegonzalez|La Universidad de...|  554|\n",
      "|  matthewslindsey|La Universidad de...|  696|\n",
      "|    perrycourtney|La Universidad de...|  386|\n",
      "|         reedtony|En la Universidad...|  579|\n",
      "+-----------------+--------------------+-----+\n",
      "only showing top 20 rows\n",
      "\n"
     ]
    }
   ],
   "source": [
    "print(\"Contenido del conjunto de prueba (test_data):\")\n",
    "etiquetas_reales_df = test_data.select(\"mensaje\", \"clasificacion\")\n",
    "test_data = test_data.drop(\"clasificacion\")\n",
    "test_data.show()"
   ]
  },
  {
   "cell_type": "code",
   "execution_count": 163,
   "id": "17128aad",
   "metadata": {},
   "outputs": [],
   "source": [
    "# Stage 1: Tokenizer\n",
    "tokenizer = Tokenizer(inputCol=\"mensaje\", outputCol=\"palabras\")\n",
    "\n",
    "# Stage 2: HashingTF\n",
    "hashingTF = HashingTF(inputCol=\"palabras\", outputCol=\"features\")\n",
    "\n",
    "# Stage 3: Logistic Regression\n",
    "logistic_regression = LogisticRegression(maxIter=10, regParam=0.01, labelCol=\"clasificacion\")\n",
    "\n",
    "# Crear el pipeline con las etapas\n",
    "pipeline = Pipeline(stages=[tokenizer, hashingTF, logistic_regression])\n"
   ]
  },
  {
   "cell_type": "code",
   "execution_count": 164,
   "id": "1825e29e",
   "metadata": {},
   "outputs": [],
   "source": [
    "# Define the parameter grid for hyperparameter tuning (if needed)\n",
    "paramGrid = (ParamGridBuilder()\n",
    "             .addGrid(logistic_regression.regParam, [0.01, 0.1, 1.0])\n",
    "             .build())\n",
    "\n",
    "# Define the binary classification evaluator\n",
    "evaluator = BinaryClassificationEvaluator(labelCol=\"clasificacion\")"
   ]
  },
  {
   "cell_type": "code",
   "execution_count": 165,
   "id": "c2e5895d",
   "metadata": {},
   "outputs": [],
   "source": [
    "# Create the cross-validator for hyperparameter tuning (optional)\n",
    "cross_validator = CrossValidator(estimator=pipeline,\n",
    "                                 estimatorParamMaps=paramGrid,\n",
    "                                 evaluator=evaluator,\n",
    "                                 numFolds=3)"
   ]
  },
  {
   "cell_type": "code",
   "execution_count": 166,
   "id": "5a82891e",
   "metadata": {},
   "outputs": [],
   "source": [
    "# Fit the cross-validator to the training data (or fit the pipeline if not using hyperparameter tuning)\n",
    "model = cross_validator.fit(train_data)\n",
    "\n",
    "# Make predictions on the test data\n",
    "predictions = model.transform(test_data)"
   ]
  },
  {
   "cell_type": "code",
   "execution_count": 167,
   "id": "f5bcac93",
   "metadata": {},
   "outputs": [
    {
     "data": {
      "text/html": [
       "<table border='1'>\n",
       "<tr><th>user</th><th>mensaje</th><th>likes</th><th>palabras</th><th>features</th><th>rawPrediction</th><th>probability</th><th>prediction</th></tr>\n",
       "<tr><td>alexanderreynolds</td><td>La Universidad de...</td><td>932</td><td>[la, universidad,...</td><td>(262144,[12967,14...</td><td>[-5.9030537661207...</td><td>[0.00272365340741...</td><td>1.0</td></tr>\n",
       "<tr><td>andrea37</td><td>La Universidad de...</td><td>498</td><td>[la, universidad,...</td><td>(262144,[4631,148...</td><td>[5.38893790162706...</td><td>[0.99545393986948...</td><td>0.0</td></tr>\n",
       "<tr><td>andrew17</td><td>¡La Universidad d...</td><td>240</td><td>[¡la, universidad...</td><td>(262144,[4631,234...</td><td>[5.97759847628605...</td><td>[0.99747150287746...</td><td>0.0</td></tr>\n",
       "<tr><td>bluna</td><td>Estudiar en la Un...</td><td>621</td><td>[estudiar, en, la...</td><td>(262144,[7188,234...</td><td>[-4.9756731857293...</td><td>[0.00685653317589...</td><td>1.0</td></tr>\n",
       "<tr><td>brian53</td><td>La Universidad Au...</td><td>171</td><td>[la, universidad,...</td><td>(262144,[4631,148...</td><td>[5.62983845411117...</td><td>[0.99642368087027...</td><td>0.0</td></tr>\n",
       "<tr><td>burgesssandra</td><td>En la Universidad...</td><td>159</td><td>[en, la, universi...</td><td>(262144,[220,2348...</td><td>[5.13090010960264...</td><td>[0.99412350006882...</td><td>0.0</td></tr>\n",
       "<tr><td>cristina87</td><td>Estudiar en la Un...</td><td>949</td><td>[estudiar, en, la...</td><td>(262144,[7188,234...</td><td>[-4.9571106415240...</td><td>[0.00698409928982...</td><td>1.0</td></tr>\n",
       "<tr><td>debbienguyen</td><td>En la Universidad...</td><td>758</td><td>[en, la, universi...</td><td>(262144,[7188,103...</td><td>[5.31619152941392...</td><td>[0.99511258102045...</td><td>0.0</td></tr>\n",
       "<tr><td>edwardslaura</td><td>En la Universitat...</td><td>558</td><td>[en, la, universi...</td><td>(262144,[4523,310...</td><td>[5.70278057641178...</td><td>[0.99667442170514...</td><td>0.0</td></tr>\n",
       "<tr><td>emilywilliams</td><td>¡La Universidad d...</td><td>896</td><td>[¡la, universidad...</td><td>(262144,[16800,23...</td><td>[5.92860724524051...</td><td>[0.99734488124129...</td><td>0.0</td></tr>\n",
       "<tr><td>erikabartlett</td><td>La Universitat de...</td><td>570</td><td>[la, universitat,...</td><td>(262144,[4631,148...</td><td>[5.33637310841912...</td><td>[0.99520976044793...</td><td>0.0</td></tr>\n",
       "<tr><td>eyoung</td><td>¡La Universidad d...</td><td>15</td><td>[¡la, universidad...</td><td>(262144,[23484,28...</td><td>[5.11330609228087...</td><td>[0.99401981770562...</td><td>0.0</td></tr>\n",
       "<tr><td>foleytara</td><td>La Universidad de...</td><td>183</td><td>[la, universidad,...</td><td>(262144,[13026,14...</td><td>[4.86623246600414...</td><td>[0.99235654294459...</td><td>0.0</td></tr>\n",
       "<tr><td>ginacarr</td><td>La Universidad de...</td><td>919</td><td>[la, universidad,...</td><td>(262144,[20186,23...</td><td>[-5.0661379164879...</td><td>[0.00626720471594...</td><td>1.0</td></tr>\n",
       "<tr><td>hwood</td><td>La Universidad de...</td><td>29</td><td>[la, universidad,...</td><td>(262144,[6626,223...</td><td>[-5.2340076789355...</td><td>[0.00530383239369...</td><td>1.0</td></tr>\n",
       "<tr><td>jeanne36</td><td>Estudiar en la Un...</td><td>45</td><td>[estudiar, en, la...</td><td>(262144,[4631,718...</td><td>[4.91097485407604...</td><td>[0.99268854635105...</td><td>0.0</td></tr>\n",
       "<tr><td>josegonzalez</td><td>La Universidad de...</td><td>554</td><td>[la, universidad,...</td><td>(262144,[4631,148...</td><td>[5.81249594556895...</td><td>[0.99701895521975...</td><td>0.0</td></tr>\n",
       "<tr><td>matthewslindsey</td><td>La Universidad de...</td><td>696</td><td>[la, universidad,...</td><td>(262144,[8738,118...</td><td>[-5.4562599746574...</td><td>[0.00425134285459...</td><td>1.0</td></tr>\n",
       "<tr><td>perrycourtney</td><td>La Universidad de...</td><td>386</td><td>[la, universidad,...</td><td>(262144,[14821,23...</td><td>[4.97017151075146...</td><td>[0.99310590122706...</td><td>0.0</td></tr>\n",
       "<tr><td>reedtony</td><td>En la Universidad...</td><td>579</td><td>[en, la, universi...</td><td>(262144,[220,2348...</td><td>[5.18994172331393...</td><td>[0.99445854726936...</td><td>0.0</td></tr>\n",
       "</table>\n",
       "only showing top 20 rows\n"
      ],
      "text/plain": [
       "+-----------------+--------------------+-----+--------------------+--------------------+--------------------+--------------------+----------+\n",
       "|             user|             mensaje|likes|            palabras|            features|       rawPrediction|         probability|prediction|\n",
       "+-----------------+--------------------+-----+--------------------+--------------------+--------------------+--------------------+----------+\n",
       "|alexanderreynolds|La Universidad de...|  932|[la, universidad,...|(262144,[12967,14...|[-5.9030537661207...|[0.00272365340741...|       1.0|\n",
       "|         andrea37|La Universidad de...|  498|[la, universidad,...|(262144,[4631,148...|[5.38893790162706...|[0.99545393986948...|       0.0|\n",
       "|         andrew17|¡La Universidad d...|  240|[¡la, universidad...|(262144,[4631,234...|[5.97759847628605...|[0.99747150287746...|       0.0|\n",
       "|            bluna|Estudiar en la Un...|  621|[estudiar, en, la...|(262144,[7188,234...|[-4.9756731857293...|[0.00685653317589...|       1.0|\n",
       "|          brian53|La Universidad Au...|  171|[la, universidad,...|(262144,[4631,148...|[5.62983845411117...|[0.99642368087027...|       0.0|\n",
       "|    burgesssandra|En la Universidad...|  159|[en, la, universi...|(262144,[220,2348...|[5.13090010960264...|[0.99412350006882...|       0.0|\n",
       "|       cristina87|Estudiar en la Un...|  949|[estudiar, en, la...|(262144,[7188,234...|[-4.9571106415240...|[0.00698409928982...|       1.0|\n",
       "|     debbienguyen|En la Universidad...|  758|[en, la, universi...|(262144,[7188,103...|[5.31619152941392...|[0.99511258102045...|       0.0|\n",
       "|     edwardslaura|En la Universitat...|  558|[en, la, universi...|(262144,[4523,310...|[5.70278057641178...|[0.99667442170514...|       0.0|\n",
       "|    emilywilliams|¡La Universidad d...|  896|[¡la, universidad...|(262144,[16800,23...|[5.92860724524051...|[0.99734488124129...|       0.0|\n",
       "|    erikabartlett|La Universitat de...|  570|[la, universitat,...|(262144,[4631,148...|[5.33637310841912...|[0.99520976044793...|       0.0|\n",
       "|           eyoung|¡La Universidad d...|   15|[¡la, universidad...|(262144,[23484,28...|[5.11330609228087...|[0.99401981770562...|       0.0|\n",
       "|        foleytara|La Universidad de...|  183|[la, universidad,...|(262144,[13026,14...|[4.86623246600414...|[0.99235654294459...|       0.0|\n",
       "|         ginacarr|La Universidad de...|  919|[la, universidad,...|(262144,[20186,23...|[-5.0661379164879...|[0.00626720471594...|       1.0|\n",
       "|            hwood|La Universidad de...|   29|[la, universidad,...|(262144,[6626,223...|[-5.2340076789355...|[0.00530383239369...|       1.0|\n",
       "|         jeanne36|Estudiar en la Un...|   45|[estudiar, en, la...|(262144,[4631,718...|[4.91097485407604...|[0.99268854635105...|       0.0|\n",
       "|     josegonzalez|La Universidad de...|  554|[la, universidad,...|(262144,[4631,148...|[5.81249594556895...|[0.99701895521975...|       0.0|\n",
       "|  matthewslindsey|La Universidad de...|  696|[la, universidad,...|(262144,[8738,118...|[-5.4562599746574...|[0.00425134285459...|       1.0|\n",
       "|    perrycourtney|La Universidad de...|  386|[la, universidad,...|(262144,[14821,23...|[4.97017151075146...|[0.99310590122706...|       0.0|\n",
       "|         reedtony|En la Universidad...|  579|[en, la, universi...|(262144,[220,2348...|[5.18994172331393...|[0.99445854726936...|       0.0|\n",
       "+-----------------+--------------------+-----+--------------------+--------------------+--------------------+--------------------+----------+\n",
       "only showing top 20 rows"
      ]
     },
     "execution_count": 167,
     "metadata": {},
     "output_type": "execute_result"
    }
   ],
   "source": [
    "predictions"
   ]
  },
  {
   "cell_type": "code",
   "execution_count": null,
   "id": "f9c01e4c",
   "metadata": {},
   "outputs": [],
   "source": []
  },
  {
   "cell_type": "code",
   "execution_count": 169,
   "id": "cef51a5e",
   "metadata": {},
   "outputs": [],
   "source": [
    "predictions_df = predictions\n"
   ]
  },
  {
   "cell_type": "code",
   "execution_count": 170,
   "id": "f164fb74",
   "metadata": {},
   "outputs": [
    {
     "name": "stdout",
     "output_type": "stream",
     "text": [
      "DataFrame unido:\n"
     ]
    },
    {
     "data": {
      "text/html": [
       "<table border='1'>\n",
       "<tr><th>mensaje</th><th>user</th><th>likes</th><th>palabras</th><th>features</th><th>rawPrediction</th><th>probability</th><th>prediction</th><th>clasificacion</th></tr>\n",
       "<tr><td>En la Universidad...</td><td>burgesssandra</td><td>159</td><td>[en, la, universi...</td><td>(262144,[220,2348...</td><td>[5.13090010960264...</td><td>[0.99412350006882...</td><td>0.0</td><td>0</td></tr>\n",
       "<tr><td>Estudiar en la Un...</td><td>heather59</td><td>592</td><td>[estudiar, en, la...</td><td>(262144,[484,7188...</td><td>[4.91574473935805...</td><td>[0.99272308492727...</td><td>0.0</td><td>0</td></tr>\n",
       "<tr><td>La Universitat Po...</td><td>housemariah</td><td>494</td><td>[la, universitat,...</td><td>(262144,[31013,31...</td><td>[-5.4859113193279...</td><td>[0.00412764806648...</td><td>1.0</td><td>1</td></tr>\n",
       "<tr><td>La Universitat de...</td><td>rthomas</td><td>751</td><td>[la, universitat,...</td><td>(262144,[31013,31...</td><td>[-5.6199451035771...</td><td>[0.00361174808498...</td><td>1.0</td><td>1</td></tr>\n",
       "<tr><td>En la Universidad...</td><td>jdavis</td><td>850</td><td>[en, la, universi...</td><td>(262144,[220,2348...</td><td>[4.98331235325603...</td><td>[0.99319529041464...</td><td>0.0</td><td>0</td></tr>\n",
       "<tr><td>La Universitat de...</td><td>erikabartlett</td><td>570</td><td>[la, universitat,...</td><td>(262144,[4631,148...</td><td>[5.33637310841912...</td><td>[0.99520976044793...</td><td>0.0</td><td>0</td></tr>\n",
       "<tr><td>En la Universidad...</td><td>millerrebecca</td><td>597</td><td>[en, la, universi...</td><td>(262144,[7188,304...</td><td>[-4.7894753438431...</td><td>[0.00824822074329...</td><td>1.0</td><td>1</td></tr>\n",
       "<tr><td>En la Universidad...</td><td>crystal62</td><td>489</td><td>[en, la, universi...</td><td>(262144,[220,2348...</td><td>[5.35698863655790...</td><td>[0.99530704409888...</td><td>0.0</td><td>0</td></tr>\n",
       "<tr><td>La Universidad de...</td><td>alexanderreynolds</td><td>932</td><td>[la, universidad,...</td><td>(262144,[12967,14...</td><td>[-5.9030537661207...</td><td>[0.00272365340741...</td><td>1.0</td><td>1</td></tr>\n",
       "<tr><td>¡La Universidad d...</td><td>theresa12</td><td>681</td><td>[¡la, universidad...</td><td>(262144,[23484,31...</td><td>[4.92269325462130...</td><td>[0.99277310926527...</td><td>0.0</td><td>0</td></tr>\n",
       "<tr><td>En la Universidad...</td><td>melissamiller</td><td>721</td><td>[en, la, universi...</td><td>(262144,[12320,15...</td><td>[-5.2384890177975...</td><td>[0.00528024252228...</td><td>1.0</td><td>1</td></tr>\n",
       "<tr><td>Estudiar en la Un...</td><td>tabithaholt</td><td>470</td><td>[estudiar, en, la...</td><td>(262144,[4631,718...</td><td>[4.88573617134513...</td><td>[0.99250306753710...</td><td>0.0</td><td>0</td></tr>\n",
       "<tr><td>En la Universidad...</td><td>cjordan</td><td>148</td><td>[en, la, universi...</td><td>(262144,[24915,30...</td><td>[5.47850713639304...</td><td>[0.99584180420340...</td><td>0.0</td><td>0</td></tr>\n",
       "<tr><td>La Universidad de...</td><td>christopher87</td><td>423</td><td>[la, universidad,...</td><td>(262144,[14821,23...</td><td>[5.03714752785331...</td><td>[0.99354963644661...</td><td>0.0</td><td>0</td></tr>\n",
       "<tr><td>La Universidad de...</td><td>christopher87</td><td>423</td><td>[la, universidad,...</td><td>(262144,[14821,23...</td><td>[5.03714752785331...</td><td>[0.99354963644661...</td><td>0.0</td><td>0</td></tr>\n",
       "<tr><td>La Universidad de...</td><td>randall07</td><td>788</td><td>[la, universidad,...</td><td>(262144,[14821,23...</td><td>[5.03714752785331...</td><td>[0.99354963644661...</td><td>0.0</td><td>0</td></tr>\n",
       "<tr><td>La Universidad de...</td><td>randall07</td><td>788</td><td>[la, universidad,...</td><td>(262144,[14821,23...</td><td>[5.03714752785331...</td><td>[0.99354963644661...</td><td>0.0</td><td>0</td></tr>\n",
       "<tr><td>La Universidad de...</td><td>evansmichelle</td><td>468</td><td>[la, universidad,...</td><td>(262144,[484,1840...</td><td>[-5.3300485877411...</td><td>[0.00482048502313...</td><td>1.0</td><td>1</td></tr>\n",
       "<tr><td>La Universidad de...</td><td>rodriguezdaniel</td><td>609</td><td>[la, universidad,...</td><td>(262144,[809,1482...</td><td>[4.91099356389157...</td><td>[0.99268868214557...</td><td>0.0</td><td>0</td></tr>\n",
       "<tr><td>En la Universidad...</td><td>hallstephanie</td><td>522</td><td>[en, la, universi...</td><td>(262144,[705,1780...</td><td>[-6.1014106542339...</td><td>[0.00223470096593...</td><td>1.0</td><td>1</td></tr>\n",
       "</table>\n",
       "only showing top 20 rows\n"
      ],
      "text/plain": [
       "+--------------------+-----------------+-----+--------------------+--------------------+--------------------+--------------------+----------+-------------+\n",
       "|             mensaje|             user|likes|            palabras|            features|       rawPrediction|         probability|prediction|clasificacion|\n",
       "+--------------------+-----------------+-----+--------------------+--------------------+--------------------+--------------------+----------+-------------+\n",
       "|En la Universidad...|    burgesssandra|  159|[en, la, universi...|(262144,[220,2348...|[5.13090010960264...|[0.99412350006882...|       0.0|            0|\n",
       "|Estudiar en la Un...|        heather59|  592|[estudiar, en, la...|(262144,[484,7188...|[4.91574473935805...|[0.99272308492727...|       0.0|            0|\n",
       "|La Universitat Po...|      housemariah|  494|[la, universitat,...|(262144,[31013,31...|[-5.4859113193279...|[0.00412764806648...|       1.0|            1|\n",
       "|La Universitat de...|          rthomas|  751|[la, universitat,...|(262144,[31013,31...|[-5.6199451035771...|[0.00361174808498...|       1.0|            1|\n",
       "|En la Universidad...|           jdavis|  850|[en, la, universi...|(262144,[220,2348...|[4.98331235325603...|[0.99319529041464...|       0.0|            0|\n",
       "|La Universitat de...|    erikabartlett|  570|[la, universitat,...|(262144,[4631,148...|[5.33637310841912...|[0.99520976044793...|       0.0|            0|\n",
       "|En la Universidad...|    millerrebecca|  597|[en, la, universi...|(262144,[7188,304...|[-4.7894753438431...|[0.00824822074329...|       1.0|            1|\n",
       "|En la Universidad...|        crystal62|  489|[en, la, universi...|(262144,[220,2348...|[5.35698863655790...|[0.99530704409888...|       0.0|            0|\n",
       "|La Universidad de...|alexanderreynolds|  932|[la, universidad,...|(262144,[12967,14...|[-5.9030537661207...|[0.00272365340741...|       1.0|            1|\n",
       "|¡La Universidad d...|        theresa12|  681|[¡la, universidad...|(262144,[23484,31...|[4.92269325462130...|[0.99277310926527...|       0.0|            0|\n",
       "|En la Universidad...|    melissamiller|  721|[en, la, universi...|(262144,[12320,15...|[-5.2384890177975...|[0.00528024252228...|       1.0|            1|\n",
       "|Estudiar en la Un...|      tabithaholt|  470|[estudiar, en, la...|(262144,[4631,718...|[4.88573617134513...|[0.99250306753710...|       0.0|            0|\n",
       "|En la Universidad...|          cjordan|  148|[en, la, universi...|(262144,[24915,30...|[5.47850713639304...|[0.99584180420340...|       0.0|            0|\n",
       "|La Universidad de...|    christopher87|  423|[la, universidad,...|(262144,[14821,23...|[5.03714752785331...|[0.99354963644661...|       0.0|            0|\n",
       "|La Universidad de...|    christopher87|  423|[la, universidad,...|(262144,[14821,23...|[5.03714752785331...|[0.99354963644661...|       0.0|            0|\n",
       "|La Universidad de...|        randall07|  788|[la, universidad,...|(262144,[14821,23...|[5.03714752785331...|[0.99354963644661...|       0.0|            0|\n",
       "|La Universidad de...|        randall07|  788|[la, universidad,...|(262144,[14821,23...|[5.03714752785331...|[0.99354963644661...|       0.0|            0|\n",
       "|La Universidad de...|    evansmichelle|  468|[la, universidad,...|(262144,[484,1840...|[-5.3300485877411...|[0.00482048502313...|       1.0|            1|\n",
       "|La Universidad de...|  rodriguezdaniel|  609|[la, universidad,...|(262144,[809,1482...|[4.91099356389157...|[0.99268868214557...|       0.0|            0|\n",
       "|En la Universidad...|    hallstephanie|  522|[en, la, universi...|(262144,[705,1780...|[-6.1014106542339...|[0.00223470096593...|       1.0|            1|\n",
       "+--------------------+-----------------+-----+--------------------+--------------------+--------------------+--------------------+----------+-------------+\n",
       "only showing top 20 rows"
      ]
     },
     "execution_count": 170,
     "metadata": {},
     "output_type": "execute_result"
    }
   ],
   "source": [
    "merged_df = predictions_df.join(etiquetas_reales_df, \"mensaje\")\n",
    "\n",
    "# Visualizar el DataFrame unido\n",
    "print(\"DataFrame unido:\")\n",
    "merged_df"
   ]
  },
  {
   "cell_type": "markdown",
   "id": "34d42881",
   "metadata": {},
   "source": [
    "##Medir rendimiento"
   ]
  },
  {
   "cell_type": "code",
   "execution_count": 171,
   "id": "48603882",
   "metadata": {},
   "outputs": [
    {
     "name": "stdout",
     "output_type": "stream",
     "text": [
      "Precisión del modelo (Area Under ROC): 1.0\n"
     ]
    }
   ],
   "source": [
    "evaluator_binary = BinaryClassificationEvaluator(labelCol=\"clasificacion\")\n",
    "\n",
    "# Calcular la precisión del modelo\n",
    "accuracy = evaluator_binary.evaluate(merged_df, {evaluator_binary.metricName: \"areaUnderROC\"})\n",
    "print(\"Precisión del modelo (Area Under ROC):\", accuracy)"
   ]
  },
  {
   "cell_type": "code",
   "execution_count": null,
   "id": "ebd4a18c",
   "metadata": {},
   "outputs": [],
   "source": [
    "evaluator_multiclass = MulticlassClassificationEvaluator(labelCol=\"clasificacion\")\n",
    "\n",
    "# Calcular el f1-score del modelo\n",
    "f1_score = evaluator_multiclass.evaluate(merged_df, {evaluator_multiclass.metricName: \"f1\"})\n",
    "print(\"F1-Score del modelo:\", f1_score)\n"
   ]
  },
  {
   "cell_type": "code",
   "execution_count": 174,
   "id": "2d9f2e2d",
   "metadata": {},
   "outputs": [],
   "source": [
    "#model.save(\"ModeloEntrenado\")\n",
    "model.write().save(\"file:///home/student/Downloads/ModeloEntrenado_Parametros\")"
   ]
  },
  {
   "cell_type": "code",
   "execution_count": null,
   "id": "579b4755",
   "metadata": {},
   "outputs": [],
   "source": [
    "model.load()"
   ]
  }
 ],
 "metadata": {
  "kernelspec": {
   "display_name": "Python 3 (ipykernel)",
   "language": "python",
   "name": "python3"
  },
  "language_info": {
   "codemirror_mode": {
    "name": "ipython",
    "version": 3
   },
   "file_extension": ".py",
   "mimetype": "text/x-python",
   "name": "python",
   "nbconvert_exporter": "python",
   "pygments_lexer": "ipython3",
   "version": "3.8.11"
  }
 },
 "nbformat": 4,
 "nbformat_minor": 5
}

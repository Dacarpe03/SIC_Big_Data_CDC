{
 "cells": [
  {
   "cell_type": "code",
   "execution_count": 1,
   "id": "6754e393",
   "metadata": {},
   "outputs": [],
   "source": [
    "import pandas as pd\n",
    "import matplotlib.pyplot as plt\n",
    "\n",
    "from pyspark.sql.functions import monotonically_increasing_id"
   ]
  },
  {
   "cell_type": "markdown",
   "id": "8f5fe4ed",
   "metadata": {},
   "source": [
    "Algoritmo usando SparkMlib"
   ]
  },
  {
   "cell_type": "code",
   "execution_count": 2,
   "id": "f915e6c6",
   "metadata": {},
   "outputs": [],
   "source": [
    "from pyspark.sql import SparkSession\n",
    "from pyspark.ml import Pipeline\n",
    "from pyspark.ml.feature import HashingTF, Tokenizer\n",
    "from pyspark.ml.classification import LogisticRegression\n",
    "from pyspark.sql.functions import udf\n",
    "from pyspark.sql.types import IntegerType\n",
    "from pyspark.ml.evaluation import BinaryClassificationEvaluator, MulticlassClassificationEvaluator\n",
    "from pyspark.ml.tuning import ParamGridBuilder, CrossValidator, CrossValidatorModel"
   ]
  },
  {
   "cell_type": "code",
   "execution_count": 3,
   "id": "fc62ee54",
   "metadata": {},
   "outputs": [],
   "source": [
    "# Palabras clave para tweets positivos y negativos\n",
    "palabras_clave_positivas = [\"privilegio\", \"maravilloso\", \"increíble\", \"genial\", \"emocionado\",\"calidad\"\n",
    "                           ,\"diversidad\",\"paradisíacas\",\"crecimiento\",\"amigable\",\"ideal\",\"acogedora\",\"innovador\",\"emprendimiento\",\n",
    "                           \"evolución\",\"innovadores\",\"emprendedor\",\"excelencia\",\"enriquecedora\",\"oasis\",\"enriquecedora\",\"placentera\",\n",
    "                           \"brillante\",\"belleza\",\"tesoro\",\"inspiran\",\"joya\",\"fascinado\"]\n",
    "\n",
    "\n",
    "\n",
    "\n",
    "palabras_clave_negativas = [\"triste\", \"decepcionado\", \"odio\", \"mal\", \"falta\",\"desfasados\",\"incompetencia\",\"carece\",\n",
    "                            \"corrupción\",\"indignado\",\"pesadilla\",\"deficiente\",\"discriminación\",\"competitivo\",\"muere\",\n",
    "                            \"desigualdad\",\"tortura\",\"desalentadora\",\"monotonía\"]"
   ]
  },
  {
   "cell_type": "code",
   "execution_count": 4,
   "id": "91148439",
   "metadata": {},
   "outputs": [],
   "source": [
    "# Función para asignar valor 1 si el mensaje contiene palabras clave positivas, 0 si contiene palabras clave negativas, y -1 si no contiene ninguna palabra clave\n",
    "def clasificar_mensaje(mensaje):\n",
    "    for palabra in palabras_clave_positivas:\n",
    "        if palabra in mensaje:\n",
    "            return 1\n",
    "    for palabra in palabras_clave_negativas:\n",
    "        if palabra in mensaje:\n",
    "            return 0\n",
    "    return -1"
   ]
  },
  {
   "cell_type": "code",
   "execution_count": 5,
   "id": "737ccf5f",
   "metadata": {},
   "outputs": [
    {
     "name": "stderr",
     "output_type": "stream",
     "text": [
      "\r",
      "[Stage 0:>                                                          (0 + 1) / 1]\r",
      "\r",
      "                                                                                \r"
     ]
    }
   ],
   "source": [
    "# Crear una sesión de Spark\n",
    "spark = SparkSession.builder.appName(\"ClasificadorMensajes\").getOrCreate()\n",
    "\n",
    "\n",
    "ruta_archivo = \"file:///home/student/SIC_Big_Data_CDC/Datos/tweetsMejorado.csv\"\n",
    "df = spark.read.csv(ruta_archivo, header=True, inferSchema=True)\n"
   ]
  },
  {
   "cell_type": "code",
   "execution_count": 6,
   "id": "6b301eab",
   "metadata": {},
   "outputs": [],
   "source": [
    "udf_clasificar_mensaje = udf(clasificar_mensaje, IntegerType())\n"
   ]
  },
  {
   "cell_type": "code",
   "execution_count": 7,
   "id": "bbbe937c",
   "metadata": {},
   "outputs": [
    {
     "name": "stdout",
     "output_type": "stream",
     "text": [
      "+-----------------+--------------------+-----+-------------+\n",
      "|             user|             mensaje|likes|clasificacion|\n",
      "+-----------------+--------------------+-----+-------------+\n",
      "|       vazquezsue|La Universidad de...|  413|            1|\n",
      "|    samanthasmith|En la Universidad...|  929|            0|\n",
      "|alexanderreynolds|La Universidad de...|  932|            1|\n",
      "|        connielee|En la Universitat...|  395|            0|\n",
      "|   zacharyjackson|La Universidad de...|  119|            0|\n",
      "+-----------------+--------------------+-----+-------------+\n",
      "only showing top 5 rows\n",
      "\n"
     ]
    },
    {
     "name": "stderr",
     "output_type": "stream",
     "text": [
      "\r",
      "[Stage 2:>                                                          (0 + 1) / 1]\r",
      "\r",
      "                                                                                \r"
     ]
    }
   ],
   "source": [
    "# Agregar la nueva columna de clasificación al DataFrame\n",
    "df = df.withColumn(\"clasificacion\", udf_clasificar_mensaje(df[\"mensaje\"]))\n",
    "\n",
    "# Mostrar el DataFrame resultante\n",
    "df.show(5)"
   ]
  },
  {
   "cell_type": "code",
   "execution_count": 8,
   "id": "dc6466e4",
   "metadata": {},
   "outputs": [],
   "source": [
    "# Mostrar las primeras 5 filas del DataFrame, mostrando solo las columnas 'usuario', 'mensaje' y 'clasificacion'\n"
   ]
  },
  {
   "cell_type": "code",
   "execution_count": 9,
   "id": "0dfd613f",
   "metadata": {},
   "outputs": [
    {
     "name": "stdout",
     "output_type": "stream",
     "text": [
      "                user                                            mensaje  \\\n",
      "0         vazquezsue  La Universidad de Murcia se enorgullece de su ...   \n",
      "1      samanthasmith  En la Universidad de Barcelona no solo encuent...   \n",
      "2  alexanderreynolds  La Universidad de Santiago de Compostela es un...   \n",
      "3          connielee  En la Universitat de Lleida no solo encuentro ...   \n",
      "4     zacharyjackson  La Universidad de Jaén es una institución que ...   \n",
      "\n",
      "   likes  clasificacion  \n",
      "0    413              1  \n",
      "1    929              0  \n",
      "2    932              1  \n",
      "3    395              0  \n",
      "4    119              0  \n"
     ]
    }
   ],
   "source": [
    "df_pandas = df.toPandas()\n",
    "\n",
    "# Ahora df_pandas es un DataFrame de pandas\n",
    "print(df_pandas.head())"
   ]
  },
  {
   "cell_type": "code",
   "execution_count": 10,
   "id": "ac6d7dfc",
   "metadata": {},
   "outputs": [
    {
     "name": "stdout",
     "output_type": "stream",
     "text": [
      "La Universitat Pompeu Fabra es un tesoro académico. Sus campus llenos de historia, su compromiso con la sostenibilidad y el ambiente acogedor hacen que estudiar aquí sea una experiencia inolvidable. #UPF #UniversidadSostenible\n"
     ]
    }
   ],
   "source": [
    "primera_fila = df_pandas.iloc[555]['mensaje']\n",
    "# Mostrar la primera fila\n",
    "print(primera_fila)"
   ]
  },
  {
   "cell_type": "code",
   "execution_count": 11,
   "id": "44cbf45a",
   "metadata": {},
   "outputs": [
    {
     "name": "stdout",
     "output_type": "stream",
     "text": [
      "1\n"
     ]
    }
   ],
   "source": [
    "primera_fila = df_pandas.iloc[555]['clasificacion']\n",
    "# Mostrar la primera fila\n",
    "print(primera_fila)"
   ]
  },
  {
   "cell_type": "code",
   "execution_count": 12,
   "id": "f2eadc8c",
   "metadata": {},
   "outputs": [
    {
     "name": "stdout",
     "output_type": "stream",
     "text": [
      "Empty DataFrame\n",
      "Columns: [user, mensaje, likes, clasificacion]\n",
      "Index: []\n"
     ]
    }
   ],
   "source": [
    "filas_con_clasificacion_negativa = df_pandas[df_pandas['clasificacion'] == -1]\n",
    "\n",
    "# Mostrar las filas con clasificacion igual a -1\n",
    "print(filas_con_clasificacion_negativa)#-->NO HAY SIN CLASIFICAR"
   ]
  },
  {
   "cell_type": "code",
   "execution_count": 13,
   "id": "83e52fa1",
   "metadata": {},
   "outputs": [
    {
     "name": "stdout",
     "output_type": "stream",
     "text": [
      "+-----------------+--------------------+-----+-------------+\n",
      "|             user|             mensaje|likes|clasificacion|\n",
      "+-----------------+--------------------+-----+-------------+\n",
      "|       vazquezsue|La Universidad de...|  413|            1|\n",
      "|    samanthasmith|En la Universidad...|  929|            0|\n",
      "|alexanderreynolds|La Universidad de...|  932|            1|\n",
      "|        connielee|En la Universitat...|  395|            0|\n",
      "|   zacharyjackson|La Universidad de...|  119|            0|\n",
      "|         reedtony|En la Universidad...|  579|            0|\n",
      "|      vcunningham|Estudiar en la Un...|  681|            1|\n",
      "|            jyang|En la Universitat...|  988|            0|\n",
      "|    warnerrichard|En la Universidad...|  861|            1|\n",
      "|             jlee|La Universidad de...|   15|            0|\n",
      "|         jeremy09|¡La Universidad d...|  209|            1|\n",
      "|          paula26|La Universitat de...|  493|            1|\n",
      "|         brettkim|En la Universidad...|  247|            1|\n",
      "|       irasmussen|La Universidad de...|  909|            0|\n",
      "|        lferguson|En la Universitat...|  192|            0|\n",
      "|           luis12|En la Universidad...|  667|            1|\n",
      "|         jeanne36|Estudiar en la Un...|   45|            0|\n",
      "|          zpowell|La Universidad Co...|   22|            0|\n",
      "|           ibooth|En la Universidad...|  614|            0|\n",
      "|            hwood|La Universidad de...|   29|            1|\n",
      "+-----------------+--------------------+-----+-------------+\n",
      "only showing top 20 rows\n",
      "\n"
     ]
    }
   ],
   "source": [
    "# Crear una sesión de Spark\n",
    "spark = SparkSession.builder.appName(\"Conversion\").getOrCreate()\n",
    "# Crear un DataFrame de PySpark a partir del DataFrame de pandas\n",
    "df_spark = spark.createDataFrame(df_pandas)\n",
    "# Ahora df_spark es un DataFrame de PySpark\n",
    "df_spark.show()"
   ]
  },
  {
   "cell_type": "markdown",
   "id": "c82c3444",
   "metadata": {},
   "source": [
    "# Modelo"
   ]
  },
  {
   "cell_type": "code",
   "execution_count": 14,
   "id": "b2514d10",
   "metadata": {},
   "outputs": [],
   "source": [
    "spark = SparkSession.builder.appName(\"MLPipeline\").getOrCreate()\n",
    "train_data, test_data = df_spark.randomSplit([0.8, 0.2], seed=42)"
   ]
  },
  {
   "cell_type": "code",
   "execution_count": 15,
   "id": "139020be",
   "metadata": {},
   "outputs": [
    {
     "name": "stdout",
     "output_type": "stream",
     "text": [
      "Contenido del conjunto de prueba (test_data):\n",
      "+-----------------+--------------------+-----+\n",
      "|             user|             mensaje|likes|\n",
      "+-----------------+--------------------+-----+\n",
      "|alexanderreynolds|La Universidad de...|  932|\n",
      "|         andrea37|La Universidad de...|  498|\n",
      "|         andrew17|¡La Universidad d...|  240|\n",
      "|            bluna|Estudiar en la Un...|  621|\n",
      "|          brian53|La Universidad Au...|  171|\n",
      "|    burgesssandra|En la Universidad...|  159|\n",
      "|       cristina87|Estudiar en la Un...|  949|\n",
      "|     debbienguyen|En la Universidad...|  758|\n",
      "|     edwardslaura|En la Universitat...|  558|\n",
      "|    emilywilliams|¡La Universidad d...|  896|\n",
      "|    erikabartlett|La Universitat de...|  570|\n",
      "|           eyoung|¡La Universidad d...|   15|\n",
      "|        foleytara|La Universidad de...|  183|\n",
      "|         ginacarr|La Universidad de...|  919|\n",
      "|            hwood|La Universidad de...|   29|\n",
      "|         jeanne36|Estudiar en la Un...|   45|\n",
      "|     josegonzalez|La Universidad de...|  554|\n",
      "|  matthewslindsey|La Universidad de...|  696|\n",
      "|    perrycourtney|La Universidad de...|  386|\n",
      "|         reedtony|En la Universidad...|  579|\n",
      "+-----------------+--------------------+-----+\n",
      "only showing top 20 rows\n",
      "\n"
     ]
    }
   ],
   "source": [
    "print(\"Contenido del conjunto de prueba (test_data):\")\n",
    "etiquetas_reales_df = test_data.select(\"mensaje\", \"clasificacion\")\n",
    "test_data = test_data.drop(\"clasificacion\")\n",
    "test_data.show()"
   ]
  },
  {
   "cell_type": "code",
   "execution_count": 16,
   "id": "18964bb4",
   "metadata": {},
   "outputs": [],
   "source": [
    "# Stage 1: Tokenizer\n",
    "tokenizer = Tokenizer(inputCol=\"mensaje\", outputCol=\"palabras\")\n",
    "\n",
    "# Stage 2: HashingTF\n",
    "hashingTF = HashingTF(inputCol=\"palabras\", outputCol=\"features\")\n",
    "\n",
    "# Stage 3: Logistic Regression\n",
    "logistic_regression = LogisticRegression(maxIter=10, regParam=0.01, labelCol=\"clasificacion\")\n",
    "\n",
    "# Crear el pipeline con las etapas\n",
    "pipeline = Pipeline(stages=[tokenizer, hashingTF, logistic_regression])\n"
   ]
  },
  {
   "cell_type": "code",
   "execution_count": 17,
   "id": "977fcf25",
   "metadata": {},
   "outputs": [],
   "source": [
    "# Define the parameter grid for hyperparameter tuning (if needed)\n",
    "paramGrid = (ParamGridBuilder()\n",
    "             .addGrid(logistic_regression.regParam, [0.01, 0.1, 1.0])\n",
    "             .build())\n",
    "\n",
    "# Define the binary classification evaluator\n",
    "evaluator = BinaryClassificationEvaluator(labelCol=\"clasificacion\")"
   ]
  },
  {
   "cell_type": "code",
   "execution_count": 18,
   "id": "59f2aa18",
   "metadata": {},
   "outputs": [],
   "source": [
    "# Create the cross-validator for hyperparameter tuning (optional)\n",
    "cross_validator = CrossValidator(estimator=pipeline,\n",
    "                                 estimatorParamMaps=paramGrid,\n",
    "                                 evaluator=evaluator,\n",
    "                                 numFolds=3)"
   ]
  },
  {
   "cell_type": "code",
   "execution_count": 19,
   "id": "38a4b587",
   "metadata": {},
   "outputs": [
    {
     "name": "stderr",
     "output_type": "stream",
     "text": [
      "2023-07-27 17:32:54,340 WARN netlib.BLAS: Failed to load implementation from: com.github.fommil.netlib.NativeSystemBLAS\n",
      "2023-07-27 17:32:54,341 WARN netlib.BLAS: Failed to load implementation from: com.github.fommil.netlib.NativeRefBLAS\n"
     ]
    }
   ],
   "source": [
    "# Fit the cross-validator to the training data (or fit the pipeline if not using hyperparameter tuning)\n",
    "model = cross_validator.fit(train_data)\n",
    "\n",
    "# Make predictions on the test data\n",
    "predictions = model.transform(test_data)"
   ]
  },
  {
   "cell_type": "code",
   "execution_count": 29,
   "id": "cdeeaf9c",
   "metadata": {},
   "outputs": [
    {
     "name": "stdout",
     "output_type": "stream",
     "text": [
      "+-----------------+--------------------+-----+--------------------+--------------------+--------------------+--------------------+----------+\n",
      "|             user|             mensaje|likes|            palabras|            features|       rawPrediction|         probability|prediction|\n",
      "+-----------------+--------------------+-----+--------------------+--------------------+--------------------+--------------------+----------+\n",
      "|alexanderreynolds|La Universidad de...|  932|[la, universidad,...|(262144,[12967,14...|[-5.9030537661207...|[0.00272365340741...|       1.0|\n",
      "|         andrea37|La Universidad de...|  498|[la, universidad,...|(262144,[4631,148...|[5.38893790162706...|[0.99545393986948...|       0.0|\n",
      "|         andrew17|¡La Universidad d...|  240|[¡la, universidad...|(262144,[4631,234...|[5.97759847628605...|[0.99747150287746...|       0.0|\n",
      "|            bluna|Estudiar en la Un...|  621|[estudiar, en, la...|(262144,[7188,234...|[-4.9756731857293...|[0.00685653317589...|       1.0|\n",
      "|          brian53|La Universidad Au...|  171|[la, universidad,...|(262144,[4631,148...|[5.62983845411117...|[0.99642368087027...|       0.0|\n",
      "|    burgesssandra|En la Universidad...|  159|[en, la, universi...|(262144,[220,2348...|[5.13090010960264...|[0.99412350006882...|       0.0|\n",
      "|       cristina87|Estudiar en la Un...|  949|[estudiar, en, la...|(262144,[7188,234...|[-4.9571106415240...|[0.00698409928982...|       1.0|\n",
      "|     debbienguyen|En la Universidad...|  758|[en, la, universi...|(262144,[7188,103...|[5.31619152941392...|[0.99511258102045...|       0.0|\n",
      "|     edwardslaura|En la Universitat...|  558|[en, la, universi...|(262144,[4523,310...|[5.70278057641178...|[0.99667442170514...|       0.0|\n",
      "|    emilywilliams|¡La Universidad d...|  896|[¡la, universidad...|(262144,[16800,23...|[5.92860724524051...|[0.99734488124129...|       0.0|\n",
      "|    erikabartlett|La Universitat de...|  570|[la, universitat,...|(262144,[4631,148...|[5.33637310841912...|[0.99520976044793...|       0.0|\n",
      "|           eyoung|¡La Universidad d...|   15|[¡la, universidad...|(262144,[23484,28...|[5.11330609228087...|[0.99401981770562...|       0.0|\n",
      "|        foleytara|La Universidad de...|  183|[la, universidad,...|(262144,[13026,14...|[4.86623246600414...|[0.99235654294459...|       0.0|\n",
      "|         ginacarr|La Universidad de...|  919|[la, universidad,...|(262144,[20186,23...|[-5.0661379164879...|[0.00626720471594...|       1.0|\n",
      "|            hwood|La Universidad de...|   29|[la, universidad,...|(262144,[6626,223...|[-5.2340076789355...|[0.00530383239369...|       1.0|\n",
      "|         jeanne36|Estudiar en la Un...|   45|[estudiar, en, la...|(262144,[4631,718...|[4.91097485407604...|[0.99268854635105...|       0.0|\n",
      "|     josegonzalez|La Universidad de...|  554|[la, universidad,...|(262144,[4631,148...|[5.81249594556895...|[0.99701895521975...|       0.0|\n",
      "|  matthewslindsey|La Universidad de...|  696|[la, universidad,...|(262144,[8738,118...|[-5.4562599746574...|[0.00425134285459...|       1.0|\n",
      "|    perrycourtney|La Universidad de...|  386|[la, universidad,...|(262144,[14821,23...|[4.97017151075146...|[0.99310590122706...|       0.0|\n",
      "|         reedtony|En la Universidad...|  579|[en, la, universi...|(262144,[220,2348...|[5.18994172331393...|[0.99445854726936...|       0.0|\n",
      "+-----------------+--------------------+-----+--------------------+--------------------+--------------------+--------------------+----------+\n",
      "only showing top 20 rows\n",
      "\n"
     ]
    }
   ],
   "source": [
    "predictions.show()"
   ]
  },
  {
   "cell_type": "code",
   "execution_count": null,
   "id": "5a1f2963",
   "metadata": {},
   "outputs": [],
   "source": []
  },
  {
   "cell_type": "code",
   "execution_count": 21,
   "id": "12c2f0c5",
   "metadata": {},
   "outputs": [],
   "source": [
    "predictions_df = predictions\n"
   ]
  },
  {
   "cell_type": "code",
   "execution_count": 22,
   "id": "56d881a7",
   "metadata": {},
   "outputs": [
    {
     "name": "stdout",
     "output_type": "stream",
     "text": [
      "DataFrame unido:\n"
     ]
    },
    {
     "data": {
      "text/plain": [
       "DataFrame[mensaje: string, user: string, likes: bigint, palabras: array<string>, features: vector, rawPrediction: vector, probability: vector, prediction: double, clasificacion: bigint]"
      ]
     },
     "execution_count": 22,
     "metadata": {},
     "output_type": "execute_result"
    }
   ],
   "source": [
    "merged_df = predictions_df.join(etiquetas_reales_df, \"mensaje\")\n",
    "\n",
    "# Visualizar el DataFrame unido\n",
    "print(\"DataFrame unido:\")\n",
    "merged_df"
   ]
  },
  {
   "cell_type": "markdown",
   "id": "fcc4b7bf",
   "metadata": {},
   "source": [
    "##Medir rendimiento"
   ]
  },
  {
   "cell_type": "code",
   "execution_count": 23,
   "id": "76705f76",
   "metadata": {},
   "outputs": [
    {
     "name": "stdout",
     "output_type": "stream",
     "text": [
      "Precisión del modelo (Area Under ROC): 1.0\n"
     ]
    }
   ],
   "source": [
    "evaluator_binary = BinaryClassificationEvaluator(labelCol=\"clasificacion\")\n",
    "\n",
    "# Calcular la precisión del modelo\n",
    "accuracy = evaluator_binary.evaluate(merged_df, {evaluator_binary.metricName: \"areaUnderROC\"})\n",
    "print(\"Precisión del modelo (Area Under ROC):\", accuracy)"
   ]
  },
  {
   "cell_type": "code",
   "execution_count": 24,
   "id": "a960623d",
   "metadata": {},
   "outputs": [
    {
     "name": "stdout",
     "output_type": "stream",
     "text": [
      "F1-Score del modelo: 1.0\n"
     ]
    }
   ],
   "source": [
    "evaluator_multiclass = MulticlassClassificationEvaluator(labelCol=\"clasificacion\")\n",
    "\n",
    "# Calcular el f1-score del modelo\n",
    "f1_score = evaluator_multiclass.evaluate(merged_df, {evaluator_multiclass.metricName: \"f1\"})\n",
    "print(\"F1-Score del modelo:\", f1_score)\n"
   ]
  },
  {
   "cell_type": "code",
   "execution_count": 25,
   "id": "2b5a2165",
   "metadata": {},
   "outputs": [
    {
     "name": "stderr",
     "output_type": "stream",
     "text": [
      "                                                                                \r"
     ]
    }
   ],
   "source": [
    "#model.save(\"ModeloEntrenado\")\n",
    "model.write().save(\"../Modelos/Sentimientos\")"
   ]
  },
  {
   "cell_type": "code",
   "execution_count": 26,
   "id": "db2b079d",
   "metadata": {},
   "outputs": [],
   "source": [
    "modelo_cargado = CrossValidatorModel.load(\"../Modelos/Sentimientos\")"
   ]
  },
  {
   "cell_type": "code",
   "execution_count": 27,
   "id": "b9166d19",
   "metadata": {},
   "outputs": [],
   "source": [
    "predictions = modelo_cargado.transform(test_data)"
   ]
  },
  {
   "cell_type": "code",
   "execution_count": 30,
   "id": "2db532be",
   "metadata": {},
   "outputs": [
    {
     "name": "stdout",
     "output_type": "stream",
     "text": [
      "+-----------------+--------------------+-----+--------------------+--------------------+--------------------+--------------------+----------+\n",
      "|             user|             mensaje|likes|            palabras|            features|       rawPrediction|         probability|prediction|\n",
      "+-----------------+--------------------+-----+--------------------+--------------------+--------------------+--------------------+----------+\n",
      "|alexanderreynolds|La Universidad de...|  932|[la, universidad,...|(262144,[12967,14...|[-5.9030537661207...|[0.00272365340741...|       1.0|\n",
      "|         andrea37|La Universidad de...|  498|[la, universidad,...|(262144,[4631,148...|[5.38893790162706...|[0.99545393986948...|       0.0|\n",
      "|         andrew17|¡La Universidad d...|  240|[¡la, universidad...|(262144,[4631,234...|[5.97759847628605...|[0.99747150287746...|       0.0|\n",
      "|            bluna|Estudiar en la Un...|  621|[estudiar, en, la...|(262144,[7188,234...|[-4.9756731857293...|[0.00685653317589...|       1.0|\n",
      "|          brian53|La Universidad Au...|  171|[la, universidad,...|(262144,[4631,148...|[5.62983845411117...|[0.99642368087027...|       0.0|\n",
      "|    burgesssandra|En la Universidad...|  159|[en, la, universi...|(262144,[220,2348...|[5.13090010960264...|[0.99412350006882...|       0.0|\n",
      "|       cristina87|Estudiar en la Un...|  949|[estudiar, en, la...|(262144,[7188,234...|[-4.9571106415240...|[0.00698409928982...|       1.0|\n",
      "|     debbienguyen|En la Universidad...|  758|[en, la, universi...|(262144,[7188,103...|[5.31619152941392...|[0.99511258102045...|       0.0|\n",
      "|     edwardslaura|En la Universitat...|  558|[en, la, universi...|(262144,[4523,310...|[5.70278057641178...|[0.99667442170514...|       0.0|\n",
      "|    emilywilliams|¡La Universidad d...|  896|[¡la, universidad...|(262144,[16800,23...|[5.92860724524051...|[0.99734488124129...|       0.0|\n",
      "|    erikabartlett|La Universitat de...|  570|[la, universitat,...|(262144,[4631,148...|[5.33637310841912...|[0.99520976044793...|       0.0|\n",
      "|           eyoung|¡La Universidad d...|   15|[¡la, universidad...|(262144,[23484,28...|[5.11330609228087...|[0.99401981770562...|       0.0|\n",
      "|        foleytara|La Universidad de...|  183|[la, universidad,...|(262144,[13026,14...|[4.86623246600414...|[0.99235654294459...|       0.0|\n",
      "|         ginacarr|La Universidad de...|  919|[la, universidad,...|(262144,[20186,23...|[-5.0661379164879...|[0.00626720471594...|       1.0|\n",
      "|            hwood|La Universidad de...|   29|[la, universidad,...|(262144,[6626,223...|[-5.2340076789355...|[0.00530383239369...|       1.0|\n",
      "|         jeanne36|Estudiar en la Un...|   45|[estudiar, en, la...|(262144,[4631,718...|[4.91097485407604...|[0.99268854635105...|       0.0|\n",
      "|     josegonzalez|La Universidad de...|  554|[la, universidad,...|(262144,[4631,148...|[5.81249594556895...|[0.99701895521975...|       0.0|\n",
      "|  matthewslindsey|La Universidad de...|  696|[la, universidad,...|(262144,[8738,118...|[-5.4562599746574...|[0.00425134285459...|       1.0|\n",
      "|    perrycourtney|La Universidad de...|  386|[la, universidad,...|(262144,[14821,23...|[4.97017151075146...|[0.99310590122706...|       0.0|\n",
      "|         reedtony|En la Universidad...|  579|[en, la, universi...|(262144,[220,2348...|[5.18994172331393...|[0.99445854726936...|       0.0|\n",
      "+-----------------+--------------------+-----+--------------------+--------------------+--------------------+--------------------+----------+\n",
      "only showing top 20 rows\n",
      "\n"
     ]
    }
   ],
   "source": [
    "predictions.show()"
   ]
  },
  {
   "cell_type": "code",
   "execution_count": null,
   "id": "b2e98377",
   "metadata": {},
   "outputs": [],
   "source": []
  }
 ],
 "metadata": {
  "kernelspec": {
   "display_name": "Python 3 (ipykernel)",
   "language": "python",
   "name": "python3"
  },
  "language_info": {
   "codemirror_mode": {
    "name": "ipython",
    "version": 3
   },
   "file_extension": ".py",
   "mimetype": "text/x-python",
   "name": "python",
   "nbconvert_exporter": "python",
   "pygments_lexer": "ipython3",
   "version": "3.8.11"
  }
 },
 "nbformat": 4,
 "nbformat_minor": 5
}
